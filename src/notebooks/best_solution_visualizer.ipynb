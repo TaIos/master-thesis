{
 "cells": [
  {
   "cell_type": "markdown",
   "id": "05e6adaf-1568-4a09-9899-2475f8596b0c",
   "metadata": {
    "tags": []
   },
   "source": [
    "# Data models"
   ]
  },
  {
   "cell_type": "code",
   "execution_count": 180,
   "id": "b1faea73-746f-49fc-b4a0-f4d8472c9adf",
   "metadata": {
    "tags": []
   },
   "outputs": [],
   "source": [
    "from typing import List\n",
    "from typing import Callable\n",
    "from typing import Tuple\n",
    "\n",
    "class Rectangle:\n",
    "    \n",
    "    def __init__(self, width=0, height=0, x=0, y=0, ident=1):\n",
    "        self.width = width\n",
    "        self.height = height\n",
    "        self.x = x\n",
    "        self.y = y\n",
    "        self.ident = ident\n",
    "        self.centerX = x+width/2\n",
    "        self.centerY = y+height/2\n",
    "    \n",
    "    def __str__(self):\n",
    "        return f'{self.ident}: ({self.width},{self.height},{self.x},{self.y}) whxy'\n",
    "    \n",
    "def decodeIntList(lst: List[str]) -> List[int]:\n",
    "    return list(map(int, lst))\n",
    "\n",
    "def decodeFloatList(lst: List[str]) -> List[float]:\n",
    "    return list(map(float, lst))\n",
    "\n",
    "def decodeRectangles(lst: List[str], idents: List[str]) -> List[Rectangle]:\n",
    "    return list(map(decodeRectangle, *(lst,idents)))\n",
    "\n",
    "def decodeRectangle(rec: str, ident: str) -> Rectangle:\n",
    "    x,y,w,h = rec.split(',')\n",
    "    return Rectangle(x=int(x), y=int(y), width=int(w), height=int(h), ident=ident)\n",
    "\n",
    "\n",
    "class Individual:\n",
    "    def __init__(self, iteration: int, objectiveValue: int, paintingSeq: List[int], paintingSeqDecoded: List[int], paintingSeqRandomKey: List[float], slicingOrderDecoded: List[int], slicingOrderRandomKey: List[float], orientations: List[str], orientationsCapped: List[str], orientationsResolved: List[str], paintingAllocatedSpace: List[Rectangle], paintingPlacement: List[Rectangle]):\n",
    "        self.iteration = iteration\n",
    "        self.objectiveValue = objectiveValue\n",
    "        self.paintingSeq = paintingSeq\n",
    "        self.paintingSeqDecoded = paintingSeqDecoded\n",
    "        self.paintingSeqRandomKey = paintingSeqRandomKey\n",
    "        self.slicingOrderDecoded = slicingOrderDecoded\n",
    "        self.slicingOrderRandomKey = slicingOrderRandomKey\n",
    "        self.orientations = orientations\n",
    "        self.orientationsCapped = orientationsCapped\n",
    "        self.orientationsResolved = orientationsResolved\n",
    "        self.paintingAllocatedSpace = paintingAllocatedSpace\n",
    "        self.paintingPlacement = paintingPlacement\n",
    "        \n",
    "    @staticmethod\n",
    "    def create(json: dict) -> 'Individual':\n",
    "        return Individual(\n",
    "            iteration=int(json['iteration']),\n",
    "            objectiveValue=float(json['objectiveValue']),\n",
    "            paintingSeq=json['paintingSeq'],\n",
    "            paintingSeqDecoded=json['paintingSeqDecoded'],\n",
    "            paintingSeqRandomKey=decodeFloatList(json['paintingSeqRandomKey']),\n",
    "            slicingOrderDecoded=decodeIntList(json['slicingOrderDecoded']),\n",
    "            slicingOrderRandomKey=decodeFloatList(json['slicingOrderRandomKey']),\n",
    "            orientations=json['orientations'],\n",
    "            orientationsCapped=json['orientationsCapped'],\n",
    "            orientationsResolved=json['orientations'], # TODO provide resolved orientations\n",
    "            paintingAllocatedSpace=decodeRectangles(json['paintingAllocatedSpace_XYWH'], json['paintingSeqDecoded']),\n",
    "            paintingPlacement=decodeRectangles(json['paintingPlacement_XYWH'], json['paintingSeqDecoded']))\n",
    "    \n",
    "class Painting:\n",
    "    def __init__(self, ident: str, width: int, height: int):\n",
    "        self.ident = ident\n",
    "        self.width = width\n",
    "        self.height = height\n",
    "        \n",
    "    @staticmethod\n",
    "    def create(json: dict) -> 'Painting':\n",
    "        return Painting(\n",
    "            ident=json['ident'],\n",
    "            width=int(json['width']),\n",
    "            height=int(json['height']))\n",
    "    \n",
    "class HallOfFameRecord:\n",
    "    def __init__(self, iteration: int, objectiveMin: float, objectiveMax: float, objectiveAvg: float, bestIndividual: Individual):\n",
    "        self.iteration = iteration\n",
    "        self.objectiveMin = objectiveMin\n",
    "        self.objectiveMax = objectiveMax\n",
    "        self.objectiveAvg = objectiveAvg\n",
    "        self.bestIndividual = bestIndividual\n",
    "    \n",
    "    @staticmethod\n",
    "    def create(json: dict) -> 'HallOfFameRecord':\n",
    "        return HallOfFameRecord(\n",
    "            iteration=int(json['iteration']),\n",
    "            objectiveMin=float(json['objectiveMin']),\n",
    "            objectiveMax=float(json['objectiveMax']),\n",
    "            objectiveAvg=float(json['objectiveAvg']),\n",
    "            bestIndividual=Individual.create(json['bestIndividual']))\n",
    "            \n",
    "class GaResult:\n",
    "    def __init__(self, bestIndividual: Individual, hallOfFame: List[HallOfFameRecord]):\n",
    "        self.bestIndividual = bestIndividual\n",
    "        self.hallOfFame = hallOfFame\n",
    "        \n",
    "    @staticmethod\n",
    "    def create(json: dict) -> 'GaResult':\n",
    "        return GaResult(\n",
    "            bestIndividual=Individual.create(json['bestIndividual']),\n",
    "            hallOfFame=list(map(HallOfFameRecord.create, json['hallOfFame']['records'])))\n",
    "    \n",
    "class GaParameters:\n",
    "    def __init__(self, maxNumberOfIter: int, populationSize: int, maximumWildCardCount: int, geneticAlgorithm: str, mate: str, mutate: str, select: str):\n",
    "        self.maxNumberOfIter = maxNumberOfIter\n",
    "        self.populationSize = populationSize\n",
    "        self.maximumWildCardCount = maximumWildCardCount\n",
    "        self.geneticAlgorithm = geneticAlgorithm\n",
    "        self.mate = mate\n",
    "        self.mutate = mutate\n",
    "        self.select = select\n",
    "        \n",
    "    @staticmethod\n",
    "    def create(json: dict) -> 'GaParameters':\n",
    "        return GaParameters(\n",
    "            maxNumberOfIter=int(json['maxNumberOfIter']),\n",
    "            populationSize=int(json['populationSize']),\n",
    "            maximumWildCardCount=int(json['maximumWildCardCount']),\n",
    "            geneticAlgorithm=json['geneticAlgorithm'],\n",
    "            mate=json['mate'],\n",
    "            mutate=json['mutate'],\n",
    "            select=json['select'])\n",
    "\n",
    "class Layout:\n",
    "    def __init__(self, width: int, height: int, evalFunc: str):\n",
    "        self.width = width\n",
    "        self.height = height\n",
    "        self.evalFunc = evalFunc\n",
    "        self.boundingRectangle = Rectangle(width=width, height=height, x=0, y=0, ident=\"\")\n",
    "        \n",
    "    @staticmethod\n",
    "    def create(json: dict) -> 'Layout':\n",
    "        return Layout(width=json['width'], height=json['height'], evalFunc=json['evalFunc'])\n",
    "    \n",
    "class Flow:\n",
    "    def __init__(self, src: int, dst: int, flow: float):\n",
    "        self.src = src\n",
    "        self.dst = dst\n",
    "        self.flow = flow\n",
    "        \n",
    "    @staticmethod\n",
    "    def create(json: dict) -> 'Flow':\n",
    "        return Flow(\n",
    "            src=int(json['from']),\n",
    "            dst=int(json['to']),\n",
    "            flow=float(json['flow']))\n",
    "    \n",
    "class InstanceParameters:\n",
    "    def __init__(self, layout: Layout, paintings: List[Painting], paintingsFlow: List[Flow]):\n",
    "        self.layout = layout\n",
    "        self.paintings = paintings\n",
    "        self.paintingsFlow = paintingsFlow\n",
    "        \n",
    "    @staticmethod\n",
    "    def create(json: dict) -> 'InstanceParameters':\n",
    "        return InstanceParameters(\n",
    "            layout=Layout.create(json['layout']),\n",
    "            paintings=list(map(Painting.create, json['paintings'])),\n",
    "            paintingsFlow=list(map(Flow.create, json['paintingsFlow'])))\n",
    "    \n",
    "class ObjectiveParameters:\n",
    "    def __init__(self, name: str, params: dict):\n",
    "        self.name = name\n",
    "        self.params = params\n",
    "        \n",
    "    @staticmethod\n",
    "    def create(json: dict) -> 'ObjectiveParameters':\n",
    "        return ObjectiveParameters(\n",
    "            name=json['name'],\n",
    "            params=json['params'])\n",
    "        \n",
    "\n",
    "class ComputationResult:\n",
    "    def __init__(self, applicationVersion: str, createdAt: str, durationMillis: int, gaResult: GaResult, gaParameters: GaParameters, instanceParameters: InstanceParameters, objectiveParameters: ObjectiveParameters, name: str = None):\n",
    "        self.applicationVersion = applicationVersion\n",
    "        self.createdAt = createdAt\n",
    "        self.durationMillis = durationMillis\n",
    "        self.gaResult = gaResult\n",
    "        self.gaParameters = gaParameters\n",
    "        self.instanceParameters = instanceParameters\n",
    "        self.objectiveParameters = objectiveParameters\n",
    "        self.name = name\n",
    "        \n",
    "    @staticmethod\n",
    "    def createWithName(name: str, json: dict):\n",
    "        compRes = ComputationResult.create(json)\n",
    "        compRes.name = name\n",
    "        return compRes\n",
    "    \n",
    "    @staticmethod\n",
    "    def create(json: dict) -> 'ComputationResult':\n",
    "        return ComputationResult(\n",
    "            applicationVersion=json['applicationVersion'],\n",
    "            createdAt=json['createdAt'],\n",
    "            durationMillis=int(json['durationMillis']),\n",
    "            gaResult=GaResult.create(json['gaResult']),\n",
    "            gaParameters=GaParameters.create(json['gaParameters']),\n",
    "            instanceParameters=InstanceParameters.create(json['instanceParameters']),\n",
    "            objectiveParameters=ObjectiveParameters.create(json['objectiveParameters']))\n",
    "    \n",
    "class Dataset:\n",
    "    def __init__(self, name: str, instanceParameters: InstanceParameters):\n",
    "        self.name = name\n",
    "        self.instanceParameters = instanceParameters\n",
    "        self.data = instanceParameters\n",
    "        \n",
    "    @staticmethod\n",
    "    def create(json: dict) -> 'Dataset':\n",
    "        return Dataset(\n",
    "            name=json['name'],\n",
    "            instanceParameters=InstanceParameters.create(json['data']))"
   ]
  },
  {
   "cell_type": "markdown",
   "id": "ce254985-b8da-4cfe-87d8-d5a950353a93",
   "metadata": {},
   "source": [
    "# Utils"
   ]
  },
  {
   "cell_type": "code",
   "execution_count": 181,
   "id": "8a8bbb15-a008-4bc7-b50c-04cba4de04cb",
   "metadata": {
    "tags": []
   },
   "outputs": [],
   "source": [
    "import os\n",
    "import json\n",
    "\n",
    "def findComputationResultFiles(directory):\n",
    "    \"\"\"Recursively searches a directory for files named 'computation_result.json'\n",
    "    and returns a list of their paths using camel case.\"\"\"\n",
    "\n",
    "    resultFiles = []\n",
    "    \n",
    "    for item in os.listdir(directory):\n",
    "        path = os.path.join(directory, item)\n",
    "        \n",
    "        if os.path.isdir(path):\n",
    "            resultFiles += findComputationResultFiles(path)\n",
    "        \n",
    "        elif os.path.isfile(path) and item.lower() == 'computation_result.json':\n",
    "            resultFiles.append(path)\n",
    "    \n",
    "    return resultFiles\n",
    "\n",
    "def extractDatasetName(path):\n",
    "    return path.split('/')[-2].rsplit('_',1)[0].split('_', 1)[1] # magic\n",
    "\n",
    "def loadComputationResult(path: str, log=False) -> ComputationResult:\n",
    "    if log:\n",
    "        print(f'loading: {path}')\n",
    "    with open(path, 'r') as f:\n",
    "        data = json.load(f)\n",
    "    \n",
    "    return ComputationResult.createWithName(extractDatasetName(path), data)\n",
    "\n",
    "def loadComputationResultsFromDirectoryRec(directory, sort=False):\n",
    "    r = list(map(loadComputationResult, findComputationResultFiles(directory)))\n",
    "    return r if not sort else sorted(r, key=lambda x: x.gaResult.bestIndividual.objectiveValue)"
   ]
  },
  {
   "cell_type": "markdown",
   "id": "7e84b7ac-c8ac-4e13-bfb4-0c51f0253b18",
   "metadata": {},
   "source": [
    "# Drawing"
   ]
  },
  {
   "cell_type": "code",
   "execution_count": 279,
   "id": "1cbca7ac-2541-46d3-af07-fa722ec21c16",
   "metadata": {
    "tags": []
   },
   "outputs": [],
   "source": [
    "import matplotlib\n",
    "import matplotlib.pyplot as plt\n",
    "\n",
    "def hideSpinesAndTicks(ax):\n",
    "    # ax.set_xticks([])\n",
    "    # ax.set_yticks([])\n",
    "    ax.axis('off')\n",
    "    ax.spines.right.set_visible(False)\n",
    "    ax.spines.left.set_visible(False)\n",
    "    ax.spines.bottom.set_visible(False)\n",
    "    ax.spines.top.set_visible(False)    \n",
    "\n",
    "def toMatplotlibRec(rec, **kwargs):\n",
    "    return matplotlib.patches.Rectangle(\n",
    "        (rec.x, rec.y),\n",
    "        width=rec.width,\n",
    "        height=rec.height,\n",
    "        fill=False,\n",
    "        **kwargs)\n",
    "\n",
    "def drawRectangle(\n",
    "    rec: Rectangle,\n",
    "    ax,\n",
    "    show_center=False, show_ident=False,\n",
    "    **kwargs):\n",
    "    ax.add_patch(toMatplotlibRec(rec, **kwargs))\n",
    "    cx, cy = rec.x+rec.width/2, rec.y+(rec.height/2)\n",
    "    \n",
    "    if show_center:\n",
    "        ax.scatter(rec.centerX, rec.centerY, color='black', s=1, alpha=1)\n",
    "    if show_ident:\n",
    "        k = 1.13 if show_center else 1\n",
    "        ax.text(rec.centerX*k*0.95, rec.centerY*k*0.95, rec.ident, fontsize=8)\n",
    "        \n",
    "def drawRectangles(\n",
    "    ax,\n",
    "    recs: List[Rectangle],\n",
    "    grid: Rectangle,\n",
    "    show_ident=True, title=None, show_center=False):\n",
    "    \n",
    "    xmax, ymax = max(grid.width, max([r.x+r.width for r in recs])), max([r.y+r.height for r in recs])\n",
    "    xmin, ymin = grid.width - xmax, grid.height - ymax\n",
    "    xmin, xmax = -0.5, 30\n",
    "    ymin, ymax = -0.5, 20\n",
    "    \n",
    "    s = 1.01\n",
    "    ax.axis(xmin=xmin*s, xmax=xmax*s, ymin=ymin*s, ymax=ymax*s*1.05)\n",
    "    print(grid.width, grid.height)\n",
    "    \n",
    "    drawRectangle(grid, ax, edgecolor='black', linewidth=1.4, alpha=0.5)\n",
    "    for rec in recs:\n",
    "        drawRectangle(rec, ax, edgecolor='black', show_center=show_center, linewidth=1.1,\n",
    "                      show_ident=show_ident)\n",
    "\n",
    "    if title:\n",
    "        ax.set_title(f'{title}', fontsize=8)\n",
    "    hideSpinesAndTicks(ax)\n",
    "    \n",
    "def drawComputationResult(res, name=None):\n",
    "    fig, ax = plt.subplots(dpi=150)\n",
    "    drawRectangles(\n",
    "            ax=ax,\n",
    "            recs=res.gaResult.bestIndividual.paintingPlacement,\n",
    "            show_center=False,\n",
    "            grid=res.instanceParameters.layout.boundingRectangle,\n",
    "            title=None)\n",
    "    if name:\n",
    "        plt.savefig(f'figures/visualization_{name}.pdf', transparent=True, dpi=150);\n",
    "    plt.show()"
   ]
  },
  {
   "cell_type": "markdown",
   "id": "8b52b00f-bb36-4118-b418-c2b2d4ca6276",
   "metadata": {
    "tags": []
   },
   "source": [
    "# Visualizations"
   ]
  },
  {
   "cell_type": "markdown",
   "id": "9a3bae07-538a-4d1f-bc84-054dc0a06b25",
   "metadata": {
    "tags": []
   },
   "source": [
    "## Bruteforce"
   ]
  },
  {
   "cell_type": "code",
   "execution_count": 280,
   "id": "446850b3-69a5-431e-9385-6c43ec6d8b95",
   "metadata": {
    "tags": []
   },
   "outputs": [
    {
     "name": "stdout",
     "output_type": "stream",
     "text": [
      "24 19\n"
     ]
    },
    {
     "data": {
      "image/png": "[encoded data removed]",
      "text/plain": [
       "<Figure size 960x720 with 1 Axes>"
      ]
     },
     "metadata": {},
     "output_type": "display_data"
    }
   ],
   "source": [
    "random10_brute = loadComputationResultsFromDirectoryRec('/home/slarty/Documents/master-thesis/src/notebooks/out/brute/012_random_10_95CF7', sort=True)\n",
    "random20_brute = loadComputationResultsFromDirectoryRec('/home/slarty/Documents/master-thesis/src/notebooks/out/brute/013_random_20_82E19', sort=True)\n",
    "drawComputationResult(random10_brute[0], 'random10_brute')\n",
    "# drawComputationResult(random20_brute[0], 'random20_brute')"
   ]
  },
  {
   "cell_type": "markdown",
   "id": "c0b0dc59-4ed1-40d8-b4f9-39ede4c1cebb",
   "metadata": {},
   "source": [
    "## GA"
   ]
  },
  {
   "cell_type": "code",
   "execution_count": 207,
   "id": "83f06f1d-e051-42fc-bc19-9fb688cb359e",
   "metadata": {
    "tags": []
   },
   "outputs": [],
   "source": [
    "results = loadComputationResultsFromDirectoryRec('/home/slarty/Documents/master-thesis/src/notebooks/out/overlapping_penalization_constant_2023_04_12_01:26:44', sort=True)"
   ]
  },
  {
   "cell_type": "code",
   "execution_count": 281,
   "id": "3f569c7f-8a96-4b67-ae6d-dd3fb18341f7",
   "metadata": {
    "tags": []
   },
   "outputs": [
    {
     "name": "stdout",
     "output_type": "stream",
     "text": [
      "24 19\n"
     ]
    },
    {
     "data": {
      "image/png": "[encoded data removed]",
      "text/plain": [
       "<Figure size 960x720 with 1 Axes>"
      ]
     },
     "metadata": {},
     "output_type": "display_data"
    }
   ],
   "source": [
    "random10_ga = [x  for x in results if x.name == 'random_10']\n",
    "packing10_ga = [x  for x in results if x.name == 'packing_10']\n",
    "drawComputationResult(random10_ga[0], 'random10_ga')\n",
    "# drawComputationResult(packing10_ga[0], 'packing10_ga')"
   ]
  }
 ],
 "metadata": {
  "kernelspec": {
   "display_name": "Python 3 (ipykernel)",
   "language": "python",
   "name": "python3"
  },
  "language_info": {
   "codemirror_mode": {
    "name": "ipython",
    "version": 3
   },
   "file_extension": ".py",
   "mimetype": "text/x-python",
   "name": "python",
   "nbconvert_exporter": "python",
   "pygments_lexer": "ipython3",
   "version": "3.10.10"
  }
 },
 "nbformat": 4,
 "nbformat_minor": 5
}
