{
 "cells": [
  {
   "cell_type": "markdown",
   "id": "05e6adaf-1568-4a09-9899-2475f8596b0c",
   "metadata": {
    "tags": []
   },
   "source": [
    "# Data models"
   ]
  },
  {
   "cell_type": "code",
   "execution_count": 509,
   "id": "b1faea73-746f-49fc-b4a0-f4d8472c9adf",
   "metadata": {
    "tags": []
   },
   "outputs": [],
   "source": [
    "from typing import List\n",
    "from typing import Callable\n",
    "from typing import Tuple\n",
    "\n",
    "class Rectangle:\n",
    "    \n",
    "    def __init__(self, width=0, height=0, x=0, y=0, ident=1):\n",
    "        self.width = width\n",
    "        self.height = height\n",
    "        self.x = x\n",
    "        self.y = y\n",
    "        self.ident = ident\n",
    "        self.centerX = x+width/2\n",
    "        self.centerY = y+height/2\n",
    "    \n",
    "    def __str__(self):\n",
    "        return f'{self.ident}: ({self.width},{self.height},{self.x},{self.y}) whxy'\n",
    "    \n",
    "def decodeIntList(lst: List[str]) -> List[int]:\n",
    "    return list(map(int, lst))\n",
    "\n",
    "def decodeFloatList(lst: List[str]) -> List[float]:\n",
    "    return list(map(float, lst))\n",
    "\n",
    "def decodeRectangles(lst: List[str], idents: List[str]) -> List[Rectangle]:\n",
    "    return list(map(decodeRectangle, *(lst,idents)))\n",
    "\n",
    "def decodeRectangle(rec: str, ident: str) -> Rectangle:\n",
    "    x,y,w,h = rec.split(',')\n",
    "    return Rectangle(x=int(x), y=int(y), width=int(w), height=int(h), ident=ident)\n",
    "\n",
    "\n",
    "class Individual:\n",
    "    def __init__(self, iteration: int, objectiveValue: int, paintingSeq: List[int], paintingSeqDecoded: List[int], paintingSeqRandomKey: List[float], slicingOrderDecoded: List[int], slicingOrderRandomKey: List[float], orientations: List[str], orientationsCapped: List[str], orientationsResolved: List[str], paintingAllocatedSpace: List[Rectangle], paintingPlacement: List[Rectangle]):\n",
    "        self.iteration = iteration\n",
    "        self.objectiveValue = objectiveValue\n",
    "        self.paintingSeq = paintingSeq\n",
    "        self.paintingSeqDecoded = paintingSeqDecoded\n",
    "        self.paintingSeqRandomKey = paintingSeqRandomKey\n",
    "        self.slicingOrderDecoded = slicingOrderDecoded\n",
    "        self.slicingOrderRandomKey = slicingOrderRandomKey\n",
    "        self.orientations = orientations\n",
    "        self.orientationsCapped = orientationsCapped\n",
    "        self.orientationsResolved = orientationsResolved\n",
    "        self.paintingAllocatedSpace = paintingAllocatedSpace\n",
    "        self.paintingPlacement = paintingPlacement\n",
    "        \n",
    "    @staticmethod\n",
    "    def create(json: dict) -> 'Individual':\n",
    "        return Individual(\n",
    "            iteration=int(json['iteration']),\n",
    "            objectiveValue=float(json['objectiveValue']),\n",
    "            paintingSeq=json['paintingSeq'],\n",
    "            paintingSeqDecoded=json['paintingSeqDecoded'],\n",
    "            paintingSeqRandomKey=decodeFloatList(json['paintingSeqRandomKey']),\n",
    "            slicingOrderDecoded=decodeIntList(json['slicingOrderDecoded']),\n",
    "            slicingOrderRandomKey=decodeFloatList(json['slicingOrderRandomKey']),\n",
    "            orientations=json['orientations'],\n",
    "            orientationsCapped=json['orientationsCapped'],\n",
    "            orientationsResolved=json['orientations'], # TODO provide resolved orientations\n",
    "            paintingAllocatedSpace=decodeRectangles(json['paintingAllocatedSpace_XYWH'], json['paintingSeqDecoded']),\n",
    "            paintingPlacement=decodeRectangles(json['paintingPlacement_XYWH'], json['paintingSeqDecoded']))\n",
    "    \n",
    "class Painting:\n",
    "    def __init__(self, ident: str, width: int, height: int):\n",
    "        self.ident = ident\n",
    "        self.width = width\n",
    "        self.height = height\n",
    "        \n",
    "    @staticmethod\n",
    "    def create(json: dict) -> 'Painting':\n",
    "        return Painting(\n",
    "            ident=json['ident'],\n",
    "            width=int(json['width']),\n",
    "            height=int(json['height']))\n",
    "    \n",
    "class HallOfFameRecord:\n",
    "    def __init__(self, iteration: int, objectiveMin: float, objectiveMax: float, objectiveAvg: float, bestIndividual: Individual):\n",
    "        self.iteration = iteration\n",
    "        self.objectiveMin = objectiveMin\n",
    "        self.objectiveMax = objectiveMax\n",
    "        self.objectiveAvg = objectiveAvg\n",
    "        self.bestIndividual = bestIndividual\n",
    "    \n",
    "    @staticmethod\n",
    "    def create(json: dict) -> 'HallOfFameRecord':\n",
    "        return HallOfFameRecord(\n",
    "            iteration=int(json['iteration']),\n",
    "            objectiveMin=float(json['objectiveMin']),\n",
    "            objectiveMax=float(json['objectiveMax']),\n",
    "            objectiveAvg=float(json['objectiveAvg']),\n",
    "            bestIndividual=Individual.create(json['bestIndividual']))\n",
    "            \n",
    "class GaResult:\n",
    "    def __init__(self, bestIndividual: Individual, hallOfFame: List[HallOfFameRecord]):\n",
    "        self.bestIndividual = bestIndividual\n",
    "        self.hallOfFame = hallOfFame\n",
    "        \n",
    "    @staticmethod\n",
    "    def create(json: dict) -> 'GaResult':\n",
    "        return GaResult(\n",
    "            bestIndividual=Individual.create(json['bestIndividual']),\n",
    "            hallOfFame=list(map(HallOfFameRecord.create, json['hallOfFame']['records'])))\n",
    "    \n",
    "class GaParameters:\n",
    "    def __init__(self, maxNumberOfIter: int, populationSize: int, maximumWildCardCount: int, geneticAlgorithm: str, mate: str, mutate: str, select: str):\n",
    "        self.maxNumberOfIter = maxNumberOfIter\n",
    "        self.populationSize = populationSize\n",
    "        self.maximumWildCardCount = maximumWildCardCount\n",
    "        self.geneticAlgorithm = geneticAlgorithm\n",
    "        self.mate = mate\n",
    "        self.mutate = mutate\n",
    "        self.select = select\n",
    "        \n",
    "    @staticmethod\n",
    "    def create(json: dict) -> 'GaParameters':\n",
    "        return GaParameters(\n",
    "            maxNumberOfIter=int(json['maxNumberOfIter']),\n",
    "            populationSize=int(json['populationSize']),\n",
    "            maximumWildCardCount=int(json['maximumWildCardCount']),\n",
    "            geneticAlgorithm=json['geneticAlgorithm'],\n",
    "            mate=json['mate'],\n",
    "            mutate=json['mutate'],\n",
    "            select=json['select'])\n",
    "\n",
    "class Layout:\n",
    "    def __init__(self, width: int, height: int, evalFunc: str):\n",
    "        self.width = width\n",
    "        self.height = height\n",
    "        self.evalFunc = evalFunc\n",
    "        self.boundingRectangle = Rectangle(width=width, height=height, x=0, y=0, ident=\"\")\n",
    "        \n",
    "    @staticmethod\n",
    "    def create(json: dict) -> 'Layout':\n",
    "        return Layout(width=json['width'], height=json['height'], evalFunc=json['evalFunc'])\n",
    "    \n",
    "class Flow:\n",
    "    def __init__(self, src: int, dst: int, flow: float):\n",
    "        self.src = src\n",
    "        self.dst = dst\n",
    "        self.flow = flow\n",
    "        \n",
    "    @staticmethod\n",
    "    def create(json: dict) -> 'Flow':\n",
    "        return Flow(\n",
    "            src=(json['from']),\n",
    "            dst=(json['to']),\n",
    "            flow=float(json['flow']))\n",
    "    \n",
    "class InstanceParameters:\n",
    "    def __init__(self, layout: Layout, paintings: List[Painting], paintingsFlow: List[Flow]):\n",
    "        self.layout = layout\n",
    "        self.paintings = paintings\n",
    "        self.paintingsFlow = paintingsFlow\n",
    "        \n",
    "    @staticmethod\n",
    "    def create(json: dict) -> 'InstanceParameters':\n",
    "        return InstanceParameters(\n",
    "            layout=Layout.create(json['layout']),\n",
    "            paintings=list(map(Painting.create, json['paintings'])),\n",
    "            paintingsFlow=list(map(Flow.create, json['paintingsFlow'])))\n",
    "    \n",
    "class ObjectiveParameters:\n",
    "    def __init__(self, name: str, params: dict):\n",
    "        self.name = name\n",
    "        self.params = params\n",
    "        \n",
    "    @staticmethod\n",
    "    def create(json: dict) -> 'ObjectiveParameters':\n",
    "        return ObjectiveParameters(\n",
    "            name=json['name'],\n",
    "            params=json['params'])\n",
    "        \n",
    "\n",
    "class ComputationResult:\n",
    "    def __init__(self, applicationVersion: str, createdAt: str, durationMillis: int, gaResult: GaResult, gaParameters: GaParameters, instanceParameters: InstanceParameters, objectiveParameters: ObjectiveParameters, name: str = None):\n",
    "        self.applicationVersion = applicationVersion\n",
    "        self.createdAt = createdAt\n",
    "        self.durationMillis = durationMillis\n",
    "        self.gaResult = gaResult\n",
    "        self.gaParameters = gaParameters\n",
    "        self.instanceParameters = instanceParameters\n",
    "        self.objectiveParameters = objectiveParameters\n",
    "        self.name = name\n",
    "        \n",
    "    @staticmethod\n",
    "    def createWithName(name: str, json: dict):\n",
    "        compRes = ComputationResult.create(json)\n",
    "        compRes.name = name\n",
    "        return compRes\n",
    "    \n",
    "    @staticmethod\n",
    "    def create(json: dict) -> 'ComputationResult':\n",
    "        return ComputationResult(\n",
    "            applicationVersion=json['applicationVersion'],\n",
    "            createdAt=json['createdAt'],\n",
    "            durationMillis=int(json['durationMillis']),\n",
    "            gaResult=GaResult.create(json['gaResult']),\n",
    "            gaParameters=GaParameters.create(json['gaParameters']),\n",
    "            instanceParameters=InstanceParameters.create(json['instanceParameters']),\n",
    "            objectiveParameters=ObjectiveParameters.create(json['objectiveParameters']))\n",
    "    \n",
    "class Dataset:\n",
    "    def __init__(self, name: str, instanceParameters: InstanceParameters):\n",
    "        self.name = name\n",
    "        self.instanceParameters = instanceParameters\n",
    "        self.data = instanceParameters\n",
    "        \n",
    "    @staticmethod\n",
    "    def create(json: dict) -> 'Dataset':\n",
    "        return Dataset(\n",
    "            name=json['name'],\n",
    "            instanceParameters=InstanceParameters.create(json['data']))"
   ]
  },
  {
   "cell_type": "markdown",
   "id": "70d08151-9aa7-4eba-b27f-881881467293",
   "metadata": {},
   "source": [
    "# Copy to thesis figures"
   ]
  },
  {
   "cell_type": "code",
   "execution_count": 579,
   "id": "98e8fc95-b318-4ea9-99cf-e12fad0d9d5b",
   "metadata": {
    "tags": []
   },
   "outputs": [],
   "source": [
    "import os\n",
    "import shutil\n",
    "\n",
    "sourceDir = './figures'\n",
    "destDir = '/home/slarty/Documents/master-thesis/src/thesis/figures'\n",
    "\n",
    "for filename in os.listdir(sourceDir):\n",
    "    if filename.endswith('.pdf'):\n",
    "        shutil.copy(os.path.join(sourceDir, filename), destDir)"
   ]
  },
  {
   "cell_type": "markdown",
   "id": "ce254985-b8da-4cfe-87d8-d5a950353a93",
   "metadata": {},
   "source": [
    "# Utils"
   ]
  },
  {
   "cell_type": "code",
   "execution_count": 450,
   "id": "8a8bbb15-a008-4bc7-b50c-04cba4de04cb",
   "metadata": {
    "tags": []
   },
   "outputs": [],
   "source": [
    "import os\n",
    "import json\n",
    "\n",
    "def flatten(lst):\n",
    "    flattened = []\n",
    "    for sublist in lst:\n",
    "        for item in sublist:\n",
    "            flattened.append(item)\n",
    "    return flattened\n",
    "\n",
    "def findComputationResultFiles(directory):\n",
    "    \"\"\"Recursively searches a directory for files named 'computation_result.json'\n",
    "    and returns a list of their paths using camel case.\"\"\"\n",
    "\n",
    "    resultFiles = []\n",
    "    \n",
    "    for item in os.listdir(directory):\n",
    "        path = os.path.join(directory, item)\n",
    "        \n",
    "        if os.path.isdir(path):\n",
    "            resultFiles += findComputationResultFiles(path)\n",
    "        \n",
    "        elif os.path.isfile(path) and item.lower() == 'computation_result.json':\n",
    "            resultFiles.append(path)\n",
    "    \n",
    "    return resultFiles\n",
    "\n",
    "def extractDatasetName(path):\n",
    "    return path.split('/')[-2].rsplit('_',1)[0].split('_', 1)[1] # magic\n",
    "\n",
    "def loadComputationResult(path: str, log=False) -> ComputationResult:\n",
    "    if log:\n",
    "        print(f'loading: {path}')\n",
    "    with open(path, 'r') as f:\n",
    "        data = json.load(f)\n",
    "    \n",
    "    return ComputationResult.createWithName(extractDatasetName(path), data)\n",
    "\n",
    "def loadComputationResultsFromDirectoryRec(directory, sort=False):\n",
    "    r = list(map(loadComputationResult, findComputationResultFiles(directory)))\n",
    "    return r if not sort else sorted(r, key=lambda x: x.gaResult.bestIndividual.objectiveValue)"
   ]
  },
  {
   "cell_type": "markdown",
   "id": "7e84b7ac-c8ac-4e13-bfb4-0c51f0253b18",
   "metadata": {},
   "source": [
    "# Drawing"
   ]
  },
  {
   "cell_type": "code",
   "execution_count": 576,
   "id": "1cbca7ac-2541-46d3-af07-fa722ec21c16",
   "metadata": {
    "tags": []
   },
   "outputs": [],
   "source": [
    "import matplotlib\n",
    "import matplotlib.pyplot as plt\n",
    "\n",
    "def hideSpinesAndTicks(ax):\n",
    "    # ax.set_xticks([])\n",
    "    # ax.set_yticks([])\n",
    "    ax.axis('off')\n",
    "    ax.spines.right.set_visible(False)\n",
    "    ax.spines.left.set_visible(False)\n",
    "    ax.spines.bottom.set_visible(False)\n",
    "    ax.spines.top.set_visible(False)    \n",
    "\n",
    "def toMatplotlibRec(rec, fill=False, **kwargs):\n",
    "    return matplotlib.patches.Rectangle(\n",
    "        (rec.x, rec.y),\n",
    "        width=rec.width,\n",
    "        height=rec.height,\n",
    "        fill=fill,\n",
    "        **kwargs)\n",
    "\n",
    "def drawRectangle(\n",
    "    rec: Rectangle,\n",
    "    ax,\n",
    "    fill=False,\n",
    "    show_center=False, show_ident=False,\n",
    "    **kwargs):\n",
    "    ax.add_patch(toMatplotlibRec(rec=rec, fill=fill, **kwargs))\n",
    "    cx, cy = rec.x+rec.width/2, rec.y+(rec.height/2)\n",
    "    \n",
    "    if show_center:\n",
    "        ax.scatter(rec.centerX, rec.centerY, color='black', s=1, alpha=1)\n",
    "    if show_ident:\n",
    "        k = 1.13 if show_center else 1\n",
    "        ax.text(rec.centerX*k*0.95, rec.centerY*k*0.95, rec.ident, fontsize=8)\n",
    "        \n",
    "def generateClusterColors(cluster):\n",
    "    colors = ['red', 'yellow', 'blue', 'green']\n",
    "    cnt, size = cluster\n",
    "    return flatten([[colors[i]]*size for i in range(cnt)])\n",
    "\n",
    "def drawRectangles(\n",
    "    ax,\n",
    "    recs: List[Rectangle],\n",
    "    grid: Rectangle,\n",
    "    dim=None,\n",
    "    cluster=None,\n",
    "    show_ident=True, title=None, show_center=False):\n",
    "    \n",
    "    xmax, ymax = max(grid.width, max([r.x+r.width for r in recs])), max([r.y+r.height for r in recs])\n",
    "    xmin, ymin = grid.width - xmax, grid.height - ymax\n",
    "    xmin, xmax = -0.5, 30\n",
    "    ymin, ymax = -0.5, 20\n",
    "    if dim is not None:\n",
    "        xmin, xmax, ymin, ymax = dim\n",
    "    \n",
    "    s = 1.01\n",
    "    ax.axis(xmin=xmin*s, xmax=xmax*s, ymin=ymin*s, ymax=ymax*s*1.05)\n",
    "    print(grid.width, grid.height)\n",
    "    \n",
    "    \n",
    "    drawRectangle(grid, ax, edgecolor='black', linewidth=1.4, alpha=0.5)\n",
    "    if cluster is None:\n",
    "        for rec in recs :\n",
    "            drawRectangle(rec, ax, show_center=show_center, linewidth=1.1, edgecolor='black',\n",
    "                      show_ident=show_ident)\n",
    "    else:\n",
    "        for rec,color in zip(sorted(recs, key=lambda x: int(x.ident)), generateClusterColors(cluster)):\n",
    "            drawRectangle(rec, ax, show_center=False, linewidth=1.1, edgecolor='black',\n",
    "                      show_ident=False)\n",
    "            drawRectangle(rec, ax, fill=True, show_center=show_center, linewidth=1.1,\n",
    "                          show_ident=show_ident, color=color, alpha=0.5)\n",
    "\n",
    "    if title:\n",
    "        ax.set_title(f'{title}', fontsize=8)\n",
    "    hideSpinesAndTicks(ax)\n",
    "    \n",
    "def drawComputationResult(res, name=None, dim=None, cluster=None, title=None, show_ident=True):\n",
    "    fig, ax = plt.subplots(dpi=150)\n",
    "    drawRectangles(\n",
    "            ax=ax,\n",
    "            recs=res.gaResult.bestIndividual.paintingPlacement,\n",
    "            show_center=False,\n",
    "            show_ident=show_ident,\n",
    "            grid=res.instanceParameters.layout.boundingRectangle,\n",
    "            title=None,\n",
    "            dim=dim,\n",
    "            cluster=cluster)\n",
    "    plt.title(title)\n",
    "    if name:\n",
    "        plt.savefig(f'figures/visualization_{name}.pdf', transparent=True, dpi=150);\n",
    "    plt.show()"
   ]
  },
  {
   "cell_type": "markdown",
   "id": "8b52b00f-bb36-4118-b418-c2b2d4ca6276",
   "metadata": {
    "tags": []
   },
   "source": [
    "# Visualizations"
   ]
  },
  {
   "cell_type": "markdown",
   "id": "9a3bae07-538a-4d1f-bc84-054dc0a06b25",
   "metadata": {
    "tags": []
   },
   "source": [
    "## Bruteforce"
   ]
  },
  {
   "cell_type": "markdown",
   "id": "a94282bf-2fde-4b02-9d37-6e3bf14527ec",
   "metadata": {
    "tags": []
   },
   "source": [
    "### Random"
   ]
  },
  {
   "cell_type": "code",
   "execution_count": 287,
   "id": "446850b3-69a5-431e-9385-6c43ec6d8b95",
   "metadata": {
    "tags": []
   },
   "outputs": [],
   "source": [
    "random10_brute = loadComputationResultsFromDirectoryRec('/home/slarty/Documents/master-thesis/src/notebooks/out/brute/012_random_10_95CF7', sort=True)\n",
    "random20_brute = loadComputationResultsFromDirectoryRec('/home/slarty/Documents/master-thesis/src/notebooks/out/brute/013_random_20_82E19', sort=True)"
   ]
  },
  {
   "cell_type": "code",
   "execution_count": 505,
   "id": "2f0bfcea-8917-4b3f-b0a9-c2658d92f119",
   "metadata": {
    "collapsed": true,
    "jupyter": {
     "outputs_hidden": true
    },
    "tags": []
   },
   "outputs": [
    {
     "name": "stdout",
     "output_type": "stream",
     "text": [
      "24 19\n"
     ]
    },
    {
     "data": {
      "image/png": "[encoded data removed]",
      "text/plain": [
       "<Figure size 960x720 with 1 Axes>"
      ]
     },
     "metadata": {},
     "output_type": "display_data"
    },
    {
     "name": "stdout",
     "output_type": "stream",
     "text": [
      "31 25\n"
     ]
    },
    {
     "data": {
      "image/png": "[encoded data removed]",
      "text/plain": [
       "<Figure size 960x720 with 1 Axes>"
      ]
     },
     "metadata": {},
     "output_type": "display_data"
    }
   ],
   "source": [
    "drawComputationResult(random10_brute[0], 'random10_brute', title='random_10', dim=(-1, 29, -1, 20))\n",
    "drawComputationResult(random20_brute[0], 'random20_brute', title='random_20', dim=(-1, 33, -1, 31))"
   ]
  },
  {
   "cell_type": "markdown",
   "id": "c0b0dc59-4ed1-40d8-b4f9-39ede4c1cebb",
   "metadata": {
    "tags": []
   },
   "source": [
    "## GA"
   ]
  },
  {
   "cell_type": "markdown",
   "id": "2a650f6a-2aac-4f20-aa1d-6a308acab504",
   "metadata": {
    "jp-MarkdownHeadingCollapsed": true,
    "tags": []
   },
   "source": [
    "### Random"
   ]
  },
  {
   "cell_type": "code",
   "execution_count": 490,
   "id": "83f06f1d-e051-42fc-bc19-9fb688cb359e",
   "metadata": {
    "tags": []
   },
   "outputs": [],
   "source": [
    "# results = loadComputationResultsFromDirectoryRec('/home/slarty/Documents/master-thesis/src/notebooks/out/overlapping_penalization_constant_2023_04_12_01:26:44', sort=True)\n",
    "resRandom = loadComputationResultsFromDirectoryRec('/home/slarty/Documents/master-thesis/src/notebooks/out/random', sort=True)"
   ]
  },
  {
   "cell_type": "code",
   "execution_count": 499,
   "id": "3f569c7f-8a96-4b67-ae6d-dd3fb18341f7",
   "metadata": {
    "tags": []
   },
   "outputs": [
    {
     "name": "stdout",
     "output_type": "stream",
     "text": [
      "24 19\n"
     ]
    },
    {
     "data": {
      "image/png": "[encoded data removed]",
      "text/plain": [
       "<Figure size 960x720 with 1 Axes>"
      ]
     },
     "metadata": {},
     "output_type": "display_data"
    }
   ],
   "source": [
    "random10_ga = [x  for x in results if x.name == 'random_10']\n",
    "packing10_ga = [x  for x in results if x.name == 'packing_10']\n",
    "drawComputationResult(random10_ga[0], 'random10_ga', title='random_10', dim=(-1, 29, -1, 20))\n",
    "# drawComputationResult(packing10_ga[0], 'packing10_ga')"
   ]
  },
  {
   "cell_type": "markdown",
   "id": "66243e55-5061-49c5-a07d-540cb93130af",
   "metadata": {
    "tags": []
   },
   "source": [
    "### Random 20"
   ]
  },
  {
   "cell_type": "code",
   "execution_count": 500,
   "id": "bd04282d-b0b8-4923-9792-db61377f9c0e",
   "metadata": {
    "tags": []
   },
   "outputs": [],
   "source": [
    "random20_ga = [x for x in resRandom if x.name == 'random_20']"
   ]
  },
  {
   "cell_type": "code",
   "execution_count": 504,
   "id": "f1ed10f9-3685-44c6-9fb4-32e7fdf0487b",
   "metadata": {
    "collapsed": true,
    "jupyter": {
     "outputs_hidden": true
    },
    "tags": []
   },
   "outputs": [
    {
     "name": "stdout",
     "output_type": "stream",
     "text": [
      "31 25\n"
     ]
    },
    {
     "data": {
      "image/png": "[encoded data removed]",
      "text/plain": [
       "<Figure size 960x720 with 1 Axes>"
      ]
     },
     "metadata": {},
     "output_type": "display_data"
    }
   ],
   "source": [
    "drawComputationResult(random20_ga[1], 'random20_ga', dim=(-1, 33, -1, 31))"
   ]
  },
  {
   "cell_type": "markdown",
   "id": "4671bd56-2fed-4267-ae0a-94365e06a53f",
   "metadata": {
    "tags": [],
    "toc-hr-collapsed": true
   },
   "source": [
    "### Cluster"
   ]
  },
  {
   "cell_type": "code",
   "execution_count": 456,
   "id": "66656ed8-a531-474f-8030-c89100412138",
   "metadata": {
    "tags": []
   },
   "outputs": [],
   "source": [
    "resCluster = loadComputationResultsFromDirectoryRec('/home/slarty/Documents/master-thesis/src/notebooks/out/cluster', sort=True)"
   ]
  },
  {
   "cell_type": "markdown",
   "id": "8fffa330-45e4-4dbc-a23e-98f4df4fff11",
   "metadata": {
    "tags": []
   },
   "source": [
    "#### >> 3_6 <<"
   ]
  },
  {
   "cell_type": "code",
   "execution_count": 483,
   "id": "534056c7-6c3b-42d1-bef7-1179ba98498c",
   "metadata": {
    "collapsed": true,
    "jupyter": {
     "outputs_hidden": true
    },
    "tags": []
   },
   "outputs": [
    {
     "name": "stdout",
     "output_type": "stream",
     "text": [
      "30 25\n"
     ]
    },
    {
     "data": {
      "image/png": "[encoded data removed]",
      "text/plain": [
       "<Figure size 960x720 with 1 Axes>"
      ]
     },
     "metadata": {},
     "output_type": "display_data"
    }
   ],
   "source": [
    "cluster_3_6_ga = [x for x in resCluster if x.name == 'cluster_3_6']\n",
    "drawComputationResult(cluster_3_6_ga[0], 'cluster_3_6_ga', dim=(-1, 33, -1, 25), cluster=(3,6), title='cluster_3_6')"
   ]
  },
  {
   "cell_type": "markdown",
   "id": "73380ea4-16ee-429d-b22a-7c6920525606",
   "metadata": {
    "tags": []
   },
   "source": [
    "#### >> 4_5 <<"
   ]
  },
  {
   "cell_type": "code",
   "execution_count": 480,
   "id": "d3101867-6aaf-4665-aec8-c3f232c53ce6",
   "metadata": {
    "collapsed": true,
    "jupyter": {
     "outputs_hidden": true
    },
    "tags": []
   },
   "outputs": [
    {
     "name": "stdout",
     "output_type": "stream",
     "text": [
      "34 27\n"
     ]
    },
    {
     "data": {
      "image/png": "[encoded data removed]",
      "text/plain": [
       "<Figure size 960x720 with 1 Axes>"
      ]
     },
     "metadata": {},
     "output_type": "display_data"
    }
   ],
   "source": [
    "cluster_4_5_ga = [x for x in resCluster if x.name == 'cluster_4_5']\n",
    "drawComputationResult(cluster_4_5_ga[0], 'cluster_4_5_ga', dim=(-1, 41, -1, 32), cluster=(4,5), title='cluster_4_5')"
   ]
  },
  {
   "cell_type": "markdown",
   "id": "ca5fea50-21c7-4d32-bc02-33bdc1776540",
   "metadata": {
    "tags": []
   },
   "source": [
    "### London National Gallery"
   ]
  },
  {
   "cell_type": "code",
   "execution_count": 580,
   "id": "9c715950-89e2-46a7-892d-16e027b1f4f3",
   "metadata": {
    "tags": []
   },
   "outputs": [
    {
     "name": "stdout",
     "output_type": "stream",
     "text": [
      "220 90\n"
     ]
    },
    {
     "data": {
      "image/png": "[encoded data removed]",
      "text/plain": [
       "<Figure size 960x720 with 1 Axes>"
      ]
     },
     "metadata": {},
     "output_type": "display_data"
    }
   ],
   "source": [
    "londonRes = loadComputationResultsFromDirectoryRec('/home/slarty/Documents/master-thesis/src/notebooks/out/test', sort=True)\n",
    "drawComputationResult(londonRes[2], 'london_nationa_gallery_ga', dim=(-1, 220, -1, 86), show_ident=True)"
   ]
  }
 ],
 "metadata": {
  "kernelspec": {
   "display_name": "Python 3 (ipykernel)",
   "language": "python",
   "name": "python3"
  },
  "language_info": {
   "codemirror_mode": {
    "name": "ipython",
    "version": 3
   },
   "file_extension": ".py",
   "mimetype": "text/x-python",
   "name": "python",
   "nbconvert_exporter": "python",
   "pygments_lexer": "ipython3",
   "version": "3.10.10"
  }
 },
 "nbformat": 4,
 "nbformat_minor": 5
}
