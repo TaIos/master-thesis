{
 "cells": [
  {
   "cell_type": "markdown",
   "id": "b3a97643-6a74-4da3-a320-af74856aba02",
   "metadata": {
    "tags": []
   },
   "source": [
    "# Payload"
   ]
  },
  {
   "cell_type": "code",
   "execution_count": 2,
   "id": "35e45a4a-1e9f-4305-ad20-9921d2807133",
   "metadata": {},
   "outputs": [],
   "source": [
    "PAYLOAD = {\n",
    "    \"datasetName\": \"random_10\",\n",
    "    \"gaParameters\": {\n",
    "        \"maxNumberOfIter\":300,\n",
    "        \"populationSize\": 100,\n",
    "        \"maximumWildCardCount\": 0,\n",
    "        \"orientationWeights\": [\n",
    "            1,\n",
    "            1,\n",
    "            0.5\n",
    "        ],\n",
    "        \"geneticAlgorithm\": \"simpleGa\",\n",
    "        \"mate\": \"normalizedProbabilityVectorSum\",\n",
    "        \"mutate\": \"flipOnePartAtRandom\",\n",
    "        \"select\": \"tournament\",\n",
    "        \"objective\": \"simple\",\n",
    "        \"evaluator\": \"ga\",\n",
    "        \"placingHeuristics\": \"corner\",\n",
    "        \"populationDivisionCounts\": {\n",
    "            \"elite\": 0.2,\n",
    "            \"average\": 0.6,\n",
    "            \"worst\": 0.2,\n",
    "            \"children\": 0.3,\n",
    "            \"mutant\": 0.2,\n",
    "            \"winner\": 0.2,\n",
    "            \"random\": 0.1\n",
    "        },\n",
    "        \"initialPopulationDivisionCounts\": {\n",
    "            \"random\": 0.7,\n",
    "            \"greedy\": 0.3\n",
    "        }\n",
    "    },\n",
    "    \"objectiveParameters\": {\n",
    "        \"name\": \"simple\",\n",
    "        \"params\": {\n",
    "            \"overlappingPenalizationConstant\": 0,\n",
    "            \"outsideOfAllocatedAreaPenalizationConstant\": 0\n",
    "        }\n",
    "    }\n",
    "}\n",
    "\n",
    "URL = \"http://localhost:9000/compute/dataset\"\n",
    "\n",
    "HEADERS = {\n",
    "  'Content-Type': 'application/json'\n",
    "}"
   ]
  },
  {
   "cell_type": "markdown",
   "id": "e772ea1f-aacd-4a58-a475-0029bc68adf5",
   "metadata": {},
   "source": [
    "# Utils"
   ]
  },
  {
   "cell_type": "code",
   "execution_count": 7,
   "id": "f59df0a5-df61-4c1a-8a0c-1c78b2d00049",
   "metadata": {
    "tags": []
   },
   "outputs": [],
   "source": [
    "import os\n",
    "import time\n",
    "import requests\n",
    "import json\n",
    "from pathlib import Path\n",
    "import os\n",
    "import shutil\n",
    "from datetime import datetime\n",
    "import math\n",
    "import copy\n",
    "\n",
    "def createDirectory(directory, removeAll=False):\n",
    "    '''\n",
    "    Creates a directory if it doesn't exist and removes all files\n",
    "    from the directory if it already exists and removeAll is True.\n",
    "    '''\n",
    "    if os.path.exists(directory) and removeAll:\n",
    "        shutil.rmtree(directory) # Remove all files in the directory\n",
    "        print(f'All files in {directory} have been removed.')\n",
    "\n",
    "    if not os.path.exists(directory):\n",
    "        os.makedirs(directory) # Create the directory\n",
    "        \n",
    "    return directory\n",
    "\n",
    "def checkforFileBlocking(outDir):\n",
    "    start_time = time.time()  # Get the current time in seconds\n",
    "    while True:\n",
    "        if os.path.exists(os.path.join(outDir, \"computation_result.json\")):\n",
    "            elapsed_time = time.time() - start_time  # Calculate the elapsed time in seconds\n",
    "            print(f\"{elapsed_time:.2f} sec\")\n",
    "            time.sleep(5)  # weit for file to be written and closed\n",
    "            break\n",
    "        else:\n",
    "            time.sleep(1)  # Pause for 1 second before checking again\n",
    "            \n",
    "def findDataset(name):\n",
    "    for root, dirs, files in os.walk('/home/slarty/Documents/master-thesis/src/impl/public/datasets'):\n",
    "        for file in files:\n",
    "            if file == f'{name}.json' or file == name:\n",
    "                return os.path.join(root, file)\n",
    "    return None\n",
    "\n",
    "def setOverlappingConstant(data, dataset):\n",
    "    with open(findDataset(dataset), 'r') as file:\n",
    "        layout = json.load(file)['data']['layout']\n",
    "    data['objectiveParameters']['params']['overlappingPenalizationConstant'] = math.sqrt(layout['width']**2 + layout['height']**2) * 4\n",
    "    \n",
    "def sendPayloadBlocking(payload, outDir):\n",
    "    r = requests.request(\"POST\", URL, headers=HEADERS, data=json.dumps(payload))\n",
    "    print(r.json())\n",
    "    src = r.json()['outputDirectory'] \n",
    "    checkforFileBlocking(src)\n",
    "    shutil.copytree(src, outDir + '/' + src.split('/')[-1])\n",
    "    \n",
    "def createOutDir(name):\n",
    "    directory = f'out/{name}_' +  datetime.now().strftime('%Y_%m_%d_%H:%M:%S')\n",
    "    createDirectory(directory)\n",
    "    return directory\n",
    "\n",
    "def printRun(run, runMax):\n",
    "    print(f'====== RUN {run}/{runMax} ======')"
   ]
  },
  {
   "cell_type": "markdown",
   "id": "8630f5b3-a424-42ed-b72e-ab5449097d7f",
   "metadata": {},
   "source": [
    "# Measurements"
   ]
  },
  {
   "cell_type": "markdown",
   "id": "8b784701-d588-420b-855b-d00c0fbf2181",
   "metadata": {},
   "source": [
    "## Population size x best solution"
   ]
  },
  {
   "cell_type": "code",
   "execution_count": null,
   "id": "8878b108-5bcf-406e-9f6d-ce98d444bf13",
   "metadata": {
    "tags": []
   },
   "outputs": [],
   "source": [
    "outDirBase = createOutDir('population_size')\n",
    "payload = copy.deepcopy(PAYLOAD) \n",
    "maxRange = 5\n",
    "\n",
    "for i in range(maxRange):\n",
    "    printRun(i+1, maxRange)\n",
    "    outDir = createDirectory(f'{outDirBase}/{i+1}')\n",
    "    for dataset, size in [('cluster_3_10', 30), ('cluster_4_20',80)]:\n",
    "        setOverlappingConstant(payload, dataset)\n",
    "        payload['datasetName'] = dataset\n",
    "        payload['gaParameters']['populationSize'] = size * 100\n",
    "        payload['gaParameters']['maxNumberOfIter'] = 1000\n",
    "        sendPayloadBlocking(payload, outDir)\n",
    "\n",
    "print('\\nComputation done')"
   ]
  },
  {
   "cell_type": "markdown",
   "id": "0b65c33d-d92b-4c24-a870-c266fb5c2ac4",
   "metadata": {},
   "source": [
    "## Overlapping Penalization Constant"
   ]
  },
  {
   "cell_type": "code",
   "execution_count": 11,
   "id": "eed859ec-b3c1-4fc2-9e6a-0ad424f46709",
   "metadata": {
    "tags": []
   },
   "outputs": [
    {
     "name": "stdout",
     "output_type": "stream",
     "text": [
      "====== RUN 1/5 ======\n",
      "random_10, 2\n",
      "{'id': 'random_10_D9842', 'outputDirectory': '/home/slarty/Documents/master-thesis/src/impl/target/universal/stage/out/094_random_10_D9842'}\n",
      "113.12 sec\n",
      "random_10, 3\n",
      "{'id': 'random_10_73195', 'outputDirectory': '/home/slarty/Documents/master-thesis/src/impl/target/universal/stage/out/095_random_10_73195'}\n",
      "114.11 sec\n",
      "random_10, 4\n",
      "{'id': 'random_10_AD7EE', 'outputDirectory': '/home/slarty/Documents/master-thesis/src/impl/target/universal/stage/out/096_random_10_AD7EE'}\n",
      "113.11 sec\n",
      "random_10, 6\n",
      "{'id': 'random_10_68D8F', 'outputDirectory': '/home/slarty/Documents/master-thesis/src/impl/target/universal/stage/out/097_random_10_68D8F'}\n",
      "113.11 sec\n",
      "packing_10, 2\n",
      "{'id': 'packing_10_1457A', 'outputDirectory': '/home/slarty/Documents/master-thesis/src/impl/target/universal/stage/out/098_packing_10_1457A'}\n",
      "94.09 sec\n",
      "packing_10, 3\n",
      "{'id': 'packing_10_B0ACF', 'outputDirectory': '/home/slarty/Documents/master-thesis/src/impl/target/universal/stage/out/099_packing_10_B0ACF'}\n",
      "98.10 sec\n",
      "packing_10, 4\n",
      "{'id': 'packing_10_31E31', 'outputDirectory': '/home/slarty/Documents/master-thesis/src/impl/target/universal/stage/out/100_packing_10_31E31'}\n",
      "98.10 sec\n",
      "packing_10, 6\n",
      "{'id': 'packing_10_B6ED8', 'outputDirectory': '/home/slarty/Documents/master-thesis/src/impl/target/universal/stage/out/101_packing_10_B6ED8'}\n",
      "95.10 sec\n",
      "====== RUN 2/5 ======\n",
      "random_10, 2\n",
      "{'id': 'random_10_F053F', 'outputDirectory': '/home/slarty/Documents/master-thesis/src/impl/target/universal/stage/out/102_random_10_F053F'}\n",
      "112.11 sec\n",
      "random_10, 3\n",
      "{'id': 'random_10_BC355', 'outputDirectory': '/home/slarty/Documents/master-thesis/src/impl/target/universal/stage/out/103_random_10_BC355'}\n",
      "115.12 sec\n",
      "random_10, 4\n",
      "{'id': 'random_10_F41FE', 'outputDirectory': '/home/slarty/Documents/master-thesis/src/impl/target/universal/stage/out/104_random_10_F41FE'}\n",
      "113.11 sec\n",
      "random_10, 6\n",
      "{'id': 'random_10_0FFE6', 'outputDirectory': '/home/slarty/Documents/master-thesis/src/impl/target/universal/stage/out/105_random_10_0FFE6'}\n",
      "116.12 sec\n",
      "packing_10, 2\n",
      "{'id': 'packing_10_69C41', 'outputDirectory': '/home/slarty/Documents/master-thesis/src/impl/target/universal/stage/out/106_packing_10_69C41'}\n",
      "99.10 sec\n",
      "packing_10, 3\n",
      "{'id': 'packing_10_39098', 'outputDirectory': '/home/slarty/Documents/master-thesis/src/impl/target/universal/stage/out/107_packing_10_39098'}\n",
      "97.10 sec\n",
      "packing_10, 4\n",
      "{'id': 'packing_10_D930E', 'outputDirectory': '/home/slarty/Documents/master-thesis/src/impl/target/universal/stage/out/108_packing_10_D930E'}\n",
      "99.10 sec\n",
      "packing_10, 6\n",
      "{'id': 'packing_10_FAEE6', 'outputDirectory': '/home/slarty/Documents/master-thesis/src/impl/target/universal/stage/out/109_packing_10_FAEE6'}\n",
      "98.10 sec\n",
      "====== RUN 3/5 ======\n",
      "random_10, 2\n",
      "{'id': 'random_10_D9A50', 'outputDirectory': '/home/slarty/Documents/master-thesis/src/impl/target/universal/stage/out/110_random_10_D9A50'}\n",
      "118.12 sec\n",
      "random_10, 3\n",
      "{'id': 'random_10_2E482', 'outputDirectory': '/home/slarty/Documents/master-thesis/src/impl/target/universal/stage/out/111_random_10_2E482'}\n",
      "116.12 sec\n",
      "random_10, 4\n",
      "{'id': 'random_10_CA97C', 'outputDirectory': '/home/slarty/Documents/master-thesis/src/impl/target/universal/stage/out/112_random_10_CA97C'}\n",
      "115.12 sec\n",
      "random_10, 6\n",
      "{'id': 'random_10_8E5CE', 'outputDirectory': '/home/slarty/Documents/master-thesis/src/impl/target/universal/stage/out/113_random_10_8E5CE'}\n",
      "114.11 sec\n",
      "packing_10, 2\n",
      "{'id': 'packing_10_B254D', 'outputDirectory': '/home/slarty/Documents/master-thesis/src/impl/target/universal/stage/out/114_packing_10_B254D'}\n",
      "96.10 sec\n",
      "packing_10, 3\n",
      "{'id': 'packing_10_A006F', 'outputDirectory': '/home/slarty/Documents/master-thesis/src/impl/target/universal/stage/out/115_packing_10_A006F'}\n",
      "96.10 sec\n",
      "packing_10, 4\n",
      "{'id': 'packing_10_E3A48', 'outputDirectory': '/home/slarty/Documents/master-thesis/src/impl/target/universal/stage/out/116_packing_10_E3A48'}\n",
      "97.10 sec\n",
      "packing_10, 6\n",
      "{'id': 'packing_10_C4752', 'outputDirectory': '/home/slarty/Documents/master-thesis/src/impl/target/universal/stage/out/117_packing_10_C4752'}\n",
      "98.10 sec\n",
      "====== RUN 4/5 ======\n",
      "random_10, 2\n",
      "{'id': 'random_10_82529', 'outputDirectory': '/home/slarty/Documents/master-thesis/src/impl/target/universal/stage/out/118_random_10_82529'}\n",
      "117.12 sec\n",
      "random_10, 3\n",
      "{'id': 'random_10_D29B1', 'outputDirectory': '/home/slarty/Documents/master-thesis/src/impl/target/universal/stage/out/119_random_10_D29B1'}\n",
      "112.11 sec\n",
      "random_10, 4\n",
      "{'id': 'random_10_4C821', 'outputDirectory': '/home/slarty/Documents/master-thesis/src/impl/target/universal/stage/out/120_random_10_4C821'}\n",
      "112.11 sec\n",
      "random_10, 6\n",
      "{'id': 'random_10_0DF12', 'outputDirectory': '/home/slarty/Documents/master-thesis/src/impl/target/universal/stage/out/121_random_10_0DF12'}\n",
      "130.13 sec\n",
      "packing_10, 2\n",
      "{'id': 'packing_10_EF48D', 'outputDirectory': '/home/slarty/Documents/master-thesis/src/impl/target/universal/stage/out/122_packing_10_EF48D'}\n",
      "117.12 sec\n",
      "packing_10, 3\n",
      "{'id': 'packing_10_B716C', 'outputDirectory': '/home/slarty/Documents/master-thesis/src/impl/target/universal/stage/out/123_packing_10_B716C'}\n",
      "118.12 sec\n",
      "packing_10, 4\n",
      "{'id': 'packing_10_20BA9', 'outputDirectory': '/home/slarty/Documents/master-thesis/src/impl/target/universal/stage/out/124_packing_10_20BA9'}\n",
      "102.10 sec\n",
      "packing_10, 6\n",
      "{'id': 'packing_10_822E8', 'outputDirectory': '/home/slarty/Documents/master-thesis/src/impl/target/universal/stage/out/125_packing_10_822E8'}\n",
      "98.10 sec\n",
      "====== RUN 5/5 ======\n",
      "random_10, 2\n",
      "{'id': 'random_10_BB119', 'outputDirectory': '/home/slarty/Documents/master-thesis/src/impl/target/universal/stage/out/126_random_10_BB119'}\n",
      "119.12 sec\n",
      "random_10, 3\n",
      "{'id': 'random_10_83BDF', 'outputDirectory': '/home/slarty/Documents/master-thesis/src/impl/target/universal/stage/out/127_random_10_83BDF'}\n",
      "113.11 sec\n",
      "random_10, 4\n",
      "{'id': 'random_10_EDF55', 'outputDirectory': '/home/slarty/Documents/master-thesis/src/impl/target/universal/stage/out/128_random_10_EDF55'}\n",
      "113.11 sec\n",
      "random_10, 6\n",
      "{'id': 'random_10_7AB40', 'outputDirectory': '/home/slarty/Documents/master-thesis/src/impl/target/universal/stage/out/129_random_10_7AB40'}\n",
      "112.11 sec\n",
      "packing_10, 2\n",
      "{'id': 'packing_10_9D69B', 'outputDirectory': '/home/slarty/Documents/master-thesis/src/impl/target/universal/stage/out/130_packing_10_9D69B'}\n",
      "95.09 sec\n",
      "packing_10, 3\n",
      "{'id': 'packing_10_94957', 'outputDirectory': '/home/slarty/Documents/master-thesis/src/impl/target/universal/stage/out/131_packing_10_94957'}\n",
      "95.10 sec\n",
      "packing_10, 4\n",
      "{'id': 'packing_10_CA764', 'outputDirectory': '/home/slarty/Documents/master-thesis/src/impl/target/universal/stage/out/132_packing_10_CA764'}\n",
      "97.10 sec\n",
      "packing_10, 6\n",
      "{'id': 'packing_10_E5631', 'outputDirectory': '/home/slarty/Documents/master-thesis/src/impl/target/universal/stage/out/133_packing_10_E5631'}\n",
      "96.10 sec\n",
      "\n",
      "Computation done\n"
     ]
    }
   ],
   "source": [
    "outDirBase = createOutDir('overlapping_penalization_constant')\n",
    "payload = copy.deepcopy(PAYLOAD) \n",
    "maxRange = 5\n",
    "\n",
    "def getLayoutWidthAndHeight(dataset):\n",
    "    with open(findDataset(dataset), 'r') as file:\n",
    "        layout = json.load(file)['data']['layout']\n",
    "    return layout['width'], layout['height']\n",
    "\n",
    "def calculateDiagonalLength(dataset):\n",
    "    w,h = getLayoutWidthAndHeight(dataset)\n",
    "    return math.sqrt(w**2 + h**2)\n",
    "\n",
    "\n",
    "def setOverlappingConstant(data, dataset):\n",
    "    with open(findDataset(dataset), 'r') as file:\n",
    "        layout = json.load(file)['data']['layout']\n",
    "    data['objectiveParameters']['params']['overlappingPenalizationConstant'] = math.sqrt(layout['width']**2 + layout['height']**2) * 4\n",
    "    \n",
    "for i in range(maxRange):\n",
    "    printRun(i+1, maxRange)\n",
    "    outDir = createDirectory(f'{outDirBase}/{i+1}')\n",
    "    for dataset, size in [('random_10', 10), ('packing_10', 10)]:\n",
    "        for k in [2, 3, 4, 6]:\n",
    "            print(f'{dataset}, {k}')\n",
    "            payload['datasetName'] = dataset\n",
    "            payload['objectiveParameters']['params']['overlappingPenalizationConstant'] = calculateDiagonalLength(dataset) * k\n",
    "            payload['gaParameters']['populationSize'] = size * 50\n",
    "            payload['gaParameters']['maxNumberOfIter'] = 300\n",
    "            payload['gaParameters']['maximumWildCardCount'] = 0\n",
    "            sendPayloadBlocking(payload, outDir)\n",
    "\n",
    "print('\\nComputation done')"
   ]
  },
  {
   "cell_type": "markdown",
   "id": "0c3105c0-5ae2-42b8-b9af-158589fa1c89",
   "metadata": {},
   "source": [
    "## Cluster"
   ]
  },
  {
   "cell_type": "code",
   "execution_count": null,
   "id": "e6cf0c9e",
   "metadata": {
    "tags": []
   },
   "outputs": [],
   "source": [
    "outDirBase = createOutDir('cluster')\n",
    "payload = copy.deepcopy(PAYLOAD) \n",
    "maxRange = 5\n",
    "\n",
    "# 10.4 - testing maximum wild card count = 1\n",
    "for i in range(maxRange):\n",
    "    printRun(i+1, maxRange)\n",
    "    outDir = createDirectory(f'{outDirBase}/{i+1}')\n",
    "    for dataset, size in [('cluster_3_6', 18), ('cluster_4_5', 20)]:\n",
    "        print(f'{dataset}')\n",
    "        payload['datasetName'] = dataset\n",
    "        payload['gaParameters']['populationSize'] = size * 50\n",
    "        payload['gaParameters']['maxNumberOfIter'] = 300\n",
    "        payload['gaParameters']['maximumWildCardCount'] = 1\n",
    "        payload['objectiveParameters']['params']['overlappingPenalizationConstant'] = calculateDiagonalLength(dataset) * 2\n",
    "        sendPayloadBlocking(payload, outDir)\n",
    "\n",
    "print('\\nComputation done')"
   ]
  },
  {
   "cell_type": "markdown",
   "id": "30fe324e-2495-47ed-9ff7-34da411c14df",
   "metadata": {},
   "source": [
    "## Packing"
   ]
  },
  {
   "cell_type": "code",
   "execution_count": null,
   "id": "9eb871a1-a38c-46ae-9bbd-530cdeb13a88",
   "metadata": {
    "tags": []
   },
   "outputs": [],
   "source": [
    "outDirBase = createOutDir('packing')\n",
    "payload = copy.deepcopy(PAYLOAD) \n",
    "maxRange = 5\n",
    "\n",
    "for i in range(maxRange):\n",
    "    printRun(i+1, maxRange)\n",
    "    outDir = createDirectory(f'{outDirBase}/{i+1}')\n",
    "    for dataset, size in [('packing_10',10), ('packing_20',20)]:\n",
    "        setOverlappingConstant(payload, dataset)\n",
    "        payload['datasetName'] = dataset\n",
    "        payload['gaParameters']['populationSize'] = size * 100\n",
    "        payload['gaParameters']['maxNumberOfIter'] = 1000\n",
    "        sendPayloadBlocking(payload, outDir)\n",
    "\n",
    "print('\\nComputation done')"
   ]
  },
  {
   "cell_type": "markdown",
   "id": "00593006-fc74-4103-869d-78b965f43b96",
   "metadata": {},
   "source": [
    "## Biased sparse cluster"
   ]
  },
  {
   "cell_type": "code",
   "execution_count": null,
   "id": "a8107c17-e005-4ea5-9b0b-94b8de5cb303",
   "metadata": {
    "tags": []
   },
   "outputs": [],
   "source": [
    "outDirBase = createOutDir('biased_sparse_cluster')\n",
    "payload = copy.deepcopy(PAYLOAD) \n",
    "maxRange = 5\n",
    "\n",
    "for i in range(maxRange):\n",
    "    printRun(i+1, maxRange)\n",
    "    outDir = createDirectory(f'{outDirBase}/{i+1}')\n",
    "    for maximumWildCardCount in [0,1]:\n",
    "        for dataset, size in [('biased_sparse_cluster_2_10', 20), ('biased_sparse_cluster_3_10.json', 30)]:\n",
    "            print(f'maximumWildCardCount={maximumWildCardCount}, dataset={dataset}')\n",
    "            setOverlappingConstant(payload, dataset)\n",
    "            payload['datasetName'] = dataset\n",
    "            payload['gaParameters']['populationSize'] = size * 50\n",
    "            payload['gaParameters']['maxNumberOfIter'] = 300\n",
    "            payload['gaParameters']['maximumWildCardCount'] = maximumWildCardCount # added 10.4\n",
    "            sendPayloadBlocking(payload, outDir)\n",
    "\n",
    "print('\\nComputation done')"
   ]
  },
  {
   "cell_type": "markdown",
   "id": "8e114761-1139-4cf8-abcf-d439a7411d97",
   "metadata": {},
   "source": [
    "## Maximum wild card count vs computation time"
   ]
  },
  {
   "cell_type": "code",
   "execution_count": null,
   "id": "b95fe0d9-68ab-4cd4-8cae-c88ff0dcdc9d",
   "metadata": {
    "tags": []
   },
   "outputs": [
    {
     "name": "stdout",
     "output_type": "stream",
     "text": [
      "====== RUN 1/5 ======\n",
      "0\n",
      "{'id': 'random_20_EC918', 'outputDirectory': '/home/slarty/Documents/master-thesis/src/impl/target/universal/stage/out/134_random_20_EC918'}\n"
     ]
    }
   ],
   "source": [
    "outDirBase = createOutDir('wild_card_comp_time')\n",
    "payload = copy.deepcopy(PAYLOAD) \n",
    "maxRange = 5\n",
    "\n",
    "for i in range(maxRange):\n",
    "    printRun(i+1, maxRange)\n",
    "    outDir = createDirectory(f'{outDirBase}/{i+1}')\n",
    "    for dataset, size in [('random_20',20)]:\n",
    "        setOverlappingConstant(payload, dataset)\n",
    "        payload['datasetName'] = dataset\n",
    "        payload['gaParameters']['populationSize'] = size * 100\n",
    "        payload['gaParameters']['maxNumberOfIter'] = 300\n",
    "        \n",
    "        for maximumWildCardCount in range(0,size+1):\n",
    "            print(maximumWildCardCount)\n",
    "            payload['gaParameters']['maximumWildCardCount'] = maximumWildCardCount\n",
    "            sendPayloadBlocking(payload, outDir)\n",
    "\n",
    "print('\\nComputation done')"
   ]
  },
  {
   "cell_type": "markdown",
   "id": "cc408215-887a-4fd2-a298-4a3b2d7f6ce2",
   "metadata": {
    "tags": []
   },
   "source": [
    "## Bruteforce"
   ]
  },
  {
   "cell_type": "code",
   "execution_count": 12,
   "id": "0a2e4618-afb8-405b-87e4-4c07e67bb8e5",
   "metadata": {
    "tags": []
   },
   "outputs": [
    {
     "name": "stdout",
     "output_type": "stream",
     "text": [
      "random_10\n",
      "775.77 sec\n",
      "random_20\n",
      "3908.93 sec\n",
      "cluster_3_10\n",
      "9184.24 sec\n",
      "\n",
      "Computation done\n"
     ]
    }
   ],
   "source": [
    "outDirBase = createOutDir('brute')\n",
    "payload = copy.deepcopy(PAYLOAD) \n",
    "\n",
    "for dataset, size in [('random_10',10), ('random_20',20), ('cluster_3_10',30)]:\n",
    "    print(f'{dataset}')\n",
    "    setOverlappingConstant(payload, dataset)\n",
    "    payload['datasetName'] = dataset\n",
    "    payload['gaParameters']['populationSize'] = 100 * size\n",
    "    payload['gaParameters']['maxNumberOfIter'] = 1000\n",
    "    sendPayloadBlocking(payload, outDirBase)\n",
    "\n",
    "print('\\nComputation done')"
   ]
  }
 ],
 "metadata": {
  "kernelspec": {
   "display_name": "Python 3 (ipykernel)",
   "language": "python",
   "name": "python3"
  },
  "language_info": {
   "codemirror_mode": {
    "name": "ipython",
    "version": 3
   },
   "file_extension": ".py",
   "mimetype": "text/x-python",
   "name": "python",
   "nbconvert_exporter": "python",
   "pygments_lexer": "ipython3",
   "version": "3.10.10"
  }
 },
 "nbformat": 4,
 "nbformat_minor": 5
}
