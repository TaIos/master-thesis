{
 "cells": [
  {
   "cell_type": "markdown",
   "id": "b3a97643-6a74-4da3-a320-af74856aba02",
   "metadata": {
    "tags": []
   },
   "source": [
    "# Payload"
   ]
  },
  {
   "cell_type": "code",
   "execution_count": 2,
   "id": "35e45a4a-1e9f-4305-ad20-9921d2807133",
   "metadata": {},
   "outputs": [],
   "source": [
    "PAYLOAD = {\n",
    "    \"datasetName\": \"random_10\",\n",
    "    \"gaParameters\": {\n",
    "        \"maxNumberOfIter\":300,\n",
    "        \"populationSize\": 100,\n",
    "        \"maximumWildCardCount\": 0,\n",
    "        \"orientationWeights\": [\n",
    "            1,\n",
    "            1,\n",
    "            0.5\n",
    "        ],\n",
    "        \"geneticAlgorithm\": \"simpleGa\",\n",
    "        \"mate\": \"normalizedProbabilityVectorSum\",\n",
    "        \"mutate\": \"flipOnePartAtRandom\",\n",
    "        \"select\": \"tournament\",\n",
    "        \"objective\": \"simple\",\n",
    "        \"evaluator\": \"ga\",\n",
    "        \"placingHeuristics\": \"corner\",\n",
    "        \"populationDivisionCounts\": {\n",
    "            \"elite\": 0.2,\n",
    "            \"average\": 0.6,\n",
    "            \"worst\": 0.2,\n",
    "            \"children\": 0.3,\n",
    "            \"mutant\": 0.2,\n",
    "            \"winner\": 0.2,\n",
    "            \"random\": 0.1\n",
    "        },\n",
    "        \"initialPopulationDivisionCounts\": {\n",
    "            \"random\": 0.7,\n",
    "            \"greedy\": 0.3\n",
    "        }\n",
    "    },\n",
    "    \"objectiveParameters\": {\n",
    "        \"name\": \"simple\",\n",
    "        \"params\": {\n",
    "            \"overlappingPenalizationConstant\": 0,\n",
    "            \"outsideOfAllocatedAreaPenalizationConstant\": 0\n",
    "        }\n",
    "    }\n",
    "}\n",
    "\n",
    "URL = \"http://localhost:9000/compute/dataset\"\n",
    "\n",
    "HEADERS = {\n",
    "  'Content-Type': 'application/json'\n",
    "}"
   ]
  },
  {
   "cell_type": "markdown",
   "id": "e772ea1f-aacd-4a58-a475-0029bc68adf5",
   "metadata": {},
   "source": [
    "# Utils"
   ]
  },
  {
   "cell_type": "code",
   "execution_count": 7,
   "id": "f59df0a5-df61-4c1a-8a0c-1c78b2d00049",
   "metadata": {
    "tags": []
   },
   "outputs": [],
   "source": [
    "import os\n",
    "import time\n",
    "import requests\n",
    "import json\n",
    "from pathlib import Path\n",
    "import os\n",
    "import shutil\n",
    "from datetime import datetime\n",
    "import math\n",
    "import copy\n",
    "\n",
    "def createDirectory(directory, removeAll=False):\n",
    "    '''\n",
    "    Creates a directory if it doesn't exist and removes all files\n",
    "    from the directory if it already exists and removeAll is True.\n",
    "    '''\n",
    "    if os.path.exists(directory) and removeAll:\n",
    "        shutil.rmtree(directory) # Remove all files in the directory\n",
    "        print(f'All files in {directory} have been removed.')\n",
    "\n",
    "    if not os.path.exists(directory):\n",
    "        os.makedirs(directory) # Create the directory\n",
    "        \n",
    "    return directory\n",
    "\n",
    "def checkforFileBlocking(outDir):\n",
    "    start_time = time.time()  # Get the current time in seconds\n",
    "    while True:\n",
    "        if os.path.exists(os.path.join(outDir, \"computation_result.json\")):\n",
    "            elapsed_time = time.time() - start_time  # Calculate the elapsed time in seconds\n",
    "            print(f\"{elapsed_time:.2f} sec\")\n",
    "            time.sleep(5)  # weit for file to be written and closed\n",
    "            break\n",
    "        else:\n",
    "            time.sleep(1)  # Pause for 1 second before checking again\n",
    "            \n",
    "def findDataset(name):\n",
    "    for root, dirs, files in os.walk('/home/slarty/Documents/master-thesis/src/impl/public/datasets'):\n",
    "        for file in files:\n",
    "            if file == f'{name}.json' or file == name:\n",
    "                return os.path.join(root, file)\n",
    "    return None\n",
    "\n",
    "def setOverlappingConstant(data, dataset):\n",
    "    with open(findDataset(dataset), 'r') as file:\n",
    "        layout = json.load(file)['data']['layout']\n",
    "    data['objectiveParameters']['params']['overlappingPenalizationConstant'] = math.sqrt(layout['width']**2 + layout['height']**2) * 4\n",
    "    \n",
    "def sendPayloadBlocking(payload, outDir):\n",
    "    r = requests.request(\"POST\", URL, headers=HEADERS, data=json.dumps(payload))\n",
    "    print(r.json())\n",
    "    src = r.json()['outputDirectory'] \n",
    "    checkforFileBlocking(src)\n",
    "    shutil.copytree(src, outDir + '/' + src.split('/')[-1])\n",
    "    \n",
    "def createOutDir(name):\n",
    "    directory = f'out/{name}_' +  datetime.now().strftime('%Y_%m_%d_%H:%M:%S')\n",
    "    createDirectory(directory)\n",
    "    return directory\n",
    "\n",
    "def printRun(run, runMax):\n",
    "    print(f'====== RUN {run}/{runMax} ======')"
   ]
  },
  {
   "cell_type": "markdown",
   "id": "8630f5b3-a424-42ed-b72e-ab5449097d7f",
   "metadata": {},
   "source": [
    "# Measurements"
   ]
  },
  {
   "cell_type": "markdown",
   "id": "8b784701-d588-420b-855b-d00c0fbf2181",
   "metadata": {},
   "source": [
    "## Population size x best solution"
   ]
  },
  {
   "cell_type": "code",
   "execution_count": null,
   "id": "8878b108-5bcf-406e-9f6d-ce98d444bf13",
   "metadata": {
    "tags": []
   },
   "outputs": [],
   "source": [
    "outDirBase = createOutDir('population_size')\n",
    "payload = copy.deepcopy(PAYLOAD) \n",
    "maxRange = 5\n",
    "\n",
    "for i in range(maxRange):\n",
    "    printRun(i+1, maxRange)\n",
    "    outDir = createDirectory(f'{outDirBase}/{i+1}')\n",
    "    for dataset, size in [('cluster_3_10', 30), ('cluster_4_20',80)]:\n",
    "        setOverlappingConstant(payload, dataset)\n",
    "        payload['datasetName'] = dataset\n",
    "        payload['gaParameters']['populationSize'] = size * 100\n",
    "        payload['gaParameters']['maxNumberOfIter'] = 1000\n",
    "        sendPayloadBlocking(payload, outDir)\n",
    "\n",
    "print('\\nComputation done')"
   ]
  },
  {
   "cell_type": "markdown",
   "id": "0b65c33d-d92b-4c24-a870-c266fb5c2ac4",
   "metadata": {},
   "source": [
    "## Overlapping Penalization Constant"
   ]
  },
  {
   "cell_type": "code",
   "execution_count": null,
   "id": "eed859ec-b3c1-4fc2-9e6a-0ad424f46709",
   "metadata": {
    "tags": []
   },
   "outputs": [
    {
     "name": "stdout",
     "output_type": "stream",
     "text": [
      "====== RUN 1/5 ======\n",
      "random_10, 1\n",
      "{'id': 'random_10_9FE83', 'outputDirectory': '/home/slarty/Documents/master-thesis/src/impl/target/universal/stage/out/006_random_10_9FE83'}\n",
      "113.12 sec\n",
      "random_10, 5\n",
      "{'id': 'random_10_42E6E', 'outputDirectory': '/home/slarty/Documents/master-thesis/src/impl/target/universal/stage/out/007_random_10_42E6E'}\n",
      "116.12 sec\n",
      "random_10, 10\n",
      "{'id': 'random_10_5C8BF', 'outputDirectory': '/home/slarty/Documents/master-thesis/src/impl/target/universal/stage/out/008_random_10_5C8BF'}\n",
      "114.12 sec\n",
      "random_10, 30\n",
      "{'id': 'random_10_0DB87', 'outputDirectory': '/home/slarty/Documents/master-thesis/src/impl/target/universal/stage/out/009_random_10_0DB87'}\n",
      "115.12 sec\n",
      "packing_10, 1\n",
      "{'id': 'packing_10_750AF', 'outputDirectory': '/home/slarty/Documents/master-thesis/src/impl/target/universal/stage/out/010_packing_10_750AF'}\n",
      "98.10 sec\n",
      "packing_10, 5\n",
      "{'id': 'packing_10_EF591', 'outputDirectory': '/home/slarty/Documents/master-thesis/src/impl/target/universal/stage/out/011_packing_10_EF591'}\n"
     ]
    }
   ],
   "source": [
    "outDirBase = createOutDir('overlapping_penalization_constant')\n",
    "payload = copy.deepcopy(PAYLOAD) \n",
    "maxRange = 5\n",
    "\n",
    "def getLayoutWidthAndHeight(dataset):\n",
    "    with open(findDataset(dataset), 'r') as file:\n",
    "        layout = json.load(file)['data']['layout']\n",
    "    return layout['width'], layout['height']\n",
    "\n",
    "def calculateDiagonalLength(dataset):\n",
    "    w,h = getLayoutWidthAndHeight(dataset)\n",
    "    return math.sqrt(w**2 + h**2)\n",
    "\n",
    "\n",
    "def setOverlappingConstant(data, dataset):\n",
    "    with open(findDataset(dataset), 'r') as file:\n",
    "        layout = json.load(file)['data']['layout']\n",
    "    data['objectiveParameters']['params']['overlappingPenalizationConstant'] = math.sqrt(layout['width']**2 + layout['height']**2) * 4\n",
    "\n",
    "for i in range(maxRange):\n",
    "    printRun(i+1, maxRange)\n",
    "    outDir = createDirectory(f'{outDirBase}/{i+1}')\n",
    "    for dataset, size in [('random_10', 10), ('packing_10', 10)]:\n",
    "        for k in [1, 5, 10, 30]:\n",
    "            print(f'{dataset}, {k}')\n",
    "            payload['datasetName'] = dataset\n",
    "            payload['objectiveParameters']['params']['overlappingPenalizationConstant'] = calculateDiagonalLength(dataset) * k\n",
    "            payload['gaParameters']['populationSize'] = size * 50\n",
    "            payload['gaParameters']['maxNumberOfIter'] = 300\n",
    "            payload['gaParameters']['maximumWildCardCount'] = 0\n",
    "            sendPayloadBlocking(payload, outDir)\n",
    "\n",
    "print('\\nComputation done')"
   ]
  },
  {
   "cell_type": "markdown",
   "id": "0c3105c0-5ae2-42b8-b9af-158589fa1c89",
   "metadata": {},
   "source": [
    "## Cluster"
   ]
  },
  {
   "cell_type": "code",
   "execution_count": null,
   "id": "e6cf0c9e",
   "metadata": {
    "tags": []
   },
   "outputs": [
    {
     "name": "stdout",
     "output_type": "stream",
     "text": [
      "====== RUN 1/5 ======\n",
      "maximumWildCardCount=1, dataset=cluster_3_10\n",
      "{'id': 'cluster_3_10_B1632', 'outputDirectory': '/home/slarty/Documents/master-thesis/src/impl/target/universal/stage/out/006_cluster_3_10_B1632'}\n",
      "2254.25 sec\n",
      "====== RUN 2/5 ======\n",
      "maximumWildCardCount=1, dataset=cluster_3_10\n",
      "{'id': 'cluster_3_10_804CC', 'outputDirectory': '/home/slarty/Documents/master-thesis/src/impl/target/universal/stage/out/007_cluster_3_10_804CC'}\n",
      "2269.27 sec\n",
      "====== RUN 3/5 ======\n",
      "maximumWildCardCount=1, dataset=cluster_3_10\n",
      "{'id': 'cluster_3_10_B39D7', 'outputDirectory': '/home/slarty/Documents/master-thesis/src/impl/target/universal/stage/out/008_cluster_3_10_B39D7'}\n",
      "2278.29 sec\n",
      "====== RUN 4/5 ======\n",
      "maximumWildCardCount=1, dataset=cluster_3_10\n",
      "{'id': 'cluster_3_10_3D655', 'outputDirectory': '/home/slarty/Documents/master-thesis/src/impl/target/universal/stage/out/009_cluster_3_10_3D655'}\n"
     ]
    }
   ],
   "source": [
    "outDirBase = createOutDir('cluster')\n",
    "payload = copy.deepcopy(PAYLOAD) \n",
    "maxRange = 5\n",
    "\n",
    "# 10.4 - testing maximum wild card count = 1\n",
    "for i in range(maxRange):\n",
    "    printRun(i+1, maxRange)\n",
    "    outDir = createDirectory(f'{outDirBase}/{i+1}')\n",
    "    for maximumWildCardCount in [1]: # added 10.4\n",
    "        for dataset, size in [('cluster_3_10', 30)]:\n",
    "            print(f'maximumWildCardCount={maximumWildCardCount}, dataset={dataset}')\n",
    "            setOverlappingConstant(payload, dataset)\n",
    "            payload['datasetName'] = dataset\n",
    "            payload['gaParameters']['populationSize'] = size * 50\n",
    "            payload['gaParameters']['maxNumberOfIter'] = 300\n",
    "            payload['gaParameters']['maximumWildCardCount'] = maximumWildCardCount\n",
    "            sendPayloadBlocking(payload, outDir)\n",
    "\n",
    "print('\\nComputation done')"
   ]
  },
  {
   "cell_type": "markdown",
   "id": "30fe324e-2495-47ed-9ff7-34da411c14df",
   "metadata": {},
   "source": [
    "## Packing"
   ]
  },
  {
   "cell_type": "code",
   "execution_count": null,
   "id": "9eb871a1-a38c-46ae-9bbd-530cdeb13a88",
   "metadata": {
    "tags": []
   },
   "outputs": [],
   "source": [
    "outDirBase = createOutDir('packing')\n",
    "payload = copy.deepcopy(PAYLOAD) \n",
    "maxRange = 5\n",
    "\n",
    "for i in range(maxRange):\n",
    "    printRun(i+1, maxRange)\n",
    "    outDir = createDirectory(f'{outDirBase}/{i+1}')\n",
    "    for dataset, size in [('packing_10',10), ('packing_20',20)]:\n",
    "        setOverlappingConstant(payload, dataset)\n",
    "        payload['datasetName'] = dataset\n",
    "        payload['gaParameters']['populationSize'] = size * 100\n",
    "        payload['gaParameters']['maxNumberOfIter'] = 1000\n",
    "        sendPayloadBlocking(payload, outDir)\n",
    "\n",
    "print('\\nComputation done')"
   ]
  },
  {
   "cell_type": "markdown",
   "id": "00593006-fc74-4103-869d-78b965f43b96",
   "metadata": {},
   "source": [
    "## Biased sparse cluster"
   ]
  },
  {
   "cell_type": "code",
   "execution_count": null,
   "id": "a8107c17-e005-4ea5-9b0b-94b8de5cb303",
   "metadata": {
    "tags": []
   },
   "outputs": [],
   "source": [
    "outDirBase = createOutDir('biased_sparse_cluster')\n",
    "payload = copy.deepcopy(PAYLOAD) \n",
    "maxRange = 5\n",
    "\n",
    "for i in range(maxRange):\n",
    "    printRun(i+1, maxRange)\n",
    "    outDir = createDirectory(f'{outDirBase}/{i+1}')\n",
    "    for maximumWildCardCount in [0,1]:\n",
    "        for dataset, size in [('biased_sparse_cluster_2_10', 20), ('biased_sparse_cluster_3_10.json', 30)]:\n",
    "            print(f'maximumWildCardCount={maximumWildCardCount}, dataset={dataset}')\n",
    "            setOverlappingConstant(payload, dataset)\n",
    "            payload['datasetName'] = dataset\n",
    "            payload['gaParameters']['populationSize'] = size * 50\n",
    "            payload['gaParameters']['maxNumberOfIter'] = 300\n",
    "            payload['gaParameters']['maximumWildCardCount'] = maximumWildCardCount # added 10.4\n",
    "            sendPayloadBlocking(payload, outDir)\n",
    "\n",
    "print('\\nComputation done')"
   ]
  },
  {
   "cell_type": "markdown",
   "id": "8e114761-1139-4cf8-abcf-d439a7411d97",
   "metadata": {},
   "source": [
    "## Maximum wild card count vs computation time"
   ]
  },
  {
   "cell_type": "code",
   "execution_count": null,
   "id": "b95fe0d9-68ab-4cd4-8cae-c88ff0dcdc9d",
   "metadata": {
    "tags": []
   },
   "outputs": [],
   "source": [
    "outDirBase = createOutDir('wild_card_comp_time')\n",
    "payload = copy.deepcopy(PAYLOAD) \n",
    "maxRange = 1\n",
    "\n",
    "for i in range(maxRange):\n",
    "    printRun(i+1, maxRange)\n",
    "    outDir = createDirectory(f'{outDirBase}/{i+1}')\n",
    "    for dataset, size in [('random_20',20)]:\n",
    "        setOverlappingConstant(payload, dataset)\n",
    "        payload['datasetName'] = dataset\n",
    "        payload['gaParameters']['populationSize'] = size * 100\n",
    "        payload['gaParameters']['maxNumberOfIter'] = 300\n",
    "        \n",
    "        for maximumWildCardCount in range(0,size+1):\n",
    "            print(maximumWildCardCount)\n",
    "            payload['gaParameters']['maximumWildCardCount'] = maximumWildCardCount\n",
    "            sendPayloadBlocking(payload, outDir)\n",
    "\n",
    "print('\\nComputation done')"
   ]
  },
  {
   "cell_type": "markdown",
   "id": "cc408215-887a-4fd2-a298-4a3b2d7f6ce2",
   "metadata": {
    "tags": []
   },
   "source": [
    "## Bruteforce"
   ]
  },
  {
   "cell_type": "code",
   "execution_count": 12,
   "id": "0a2e4618-afb8-405b-87e4-4c07e67bb8e5",
   "metadata": {
    "tags": []
   },
   "outputs": [
    {
     "name": "stdout",
     "output_type": "stream",
     "text": [
      "random_10\n",
      "775.77 sec\n",
      "random_20\n",
      "3908.93 sec\n",
      "cluster_3_10\n",
      "9184.24 sec\n",
      "\n",
      "Computation done\n"
     ]
    }
   ],
   "source": [
    "outDirBase = createOutDir('brute')\n",
    "payload = copy.deepcopy(PAYLOAD) \n",
    "\n",
    "for dataset, size in [('random_10',10), ('random_20',20), ('cluster_3_10',30)]:\n",
    "    print(f'{dataset}')\n",
    "    setOverlappingConstant(payload, dataset)\n",
    "    payload['datasetName'] = dataset\n",
    "    payload['gaParameters']['populationSize'] = 100 * size\n",
    "    payload['gaParameters']['maxNumberOfIter'] = 1000\n",
    "    sendPayloadBlocking(payload, outDirBase)\n",
    "\n",
    "print('\\nComputation done')"
   ]
  }
 ],
 "metadata": {
  "kernelspec": {
   "display_name": "Python 3 (ipykernel)",
   "language": "python",
   "name": "python3"
  },
  "language_info": {
   "codemirror_mode": {
    "name": "ipython",
    "version": 3
   },
   "file_extension": ".py",
   "mimetype": "text/x-python",
   "name": "python",
   "nbconvert_exporter": "python",
   "pygments_lexer": "ipython3",
   "version": "3.10.10"
  }
 },
 "nbformat": 4,
 "nbformat_minor": 5
}
