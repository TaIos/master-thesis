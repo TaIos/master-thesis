{
 "cells": [
  {
   "cell_type": "code",
   "execution_count": 20,
   "id": "35e45a4a-1e9f-4305-ad20-9921d2807133",
   "metadata": {},
   "outputs": [],
   "source": [
    "payload = {\n",
    "    \"datasetName\": \"random_10\",\n",
    "    \"gaParameters\": {\n",
    "        \"maxNumberOfIter\":300,\n",
    "        \"populationSize\": 100,\n",
    "        \"maximumWildCardCount\": 0,\n",
    "        \"orientationWeights\": [\n",
    "            1,\n",
    "            1,\n",
    "            0.5\n",
    "        ],\n",
    "        \"geneticAlgorithm\": \"simpleGa\",\n",
    "        \"mate\": \"normalizedProbabilityVectorSum\",\n",
    "        \"mutate\": \"flipOnePartAtRandom\",\n",
    "        \"select\": \"tournament\",\n",
    "        \"objective\": \"simple\",\n",
    "        \"evaluator\": \"ga\",\n",
    "        \"placingHeuristics\": \"corner\",\n",
    "        \"populationDivisionCounts\": {\n",
    "            \"elite\": 0.2,\n",
    "            \"average\": 0.6,\n",
    "            \"worst\": 0.2,\n",
    "            \"children\": 0.3,\n",
    "            \"mutant\": 0.2,\n",
    "            \"winner\": 0.2,\n",
    "            \"random\": 0.1\n",
    "        },\n",
    "        \"initialPopulationDivisionCounts\": {\n",
    "            \"random\": 0.7,\n",
    "            \"greedy\": 0.3\n",
    "        }\n",
    "    },\n",
    "    \"objectiveParameters\": {\n",
    "        \"name\": \"simple\",\n",
    "        \"params\": {\n",
    "            \"overlappingPenalizationConstant\": 1000,\n",
    "            \"outsideOfAllocatedAreaPenalizationConstant\": 0\n",
    "        }\n",
    "    }\n",
    "}\n",
    "\n",
    "url = \"http://localhost:9000/compute/dataset\"\n",
    "\n",
    "headers = {\n",
    "  'Content-Type': 'application/json'\n",
    "}"
   ]
  },
  {
   "cell_type": "code",
   "execution_count": 6,
   "id": "f59df0a5-df61-4c1a-8a0c-1c78b2d00049",
   "metadata": {
    "tags": []
   },
   "outputs": [],
   "source": [
    "import os\n",
    "import time\n",
    "import requests\n",
    "import json\n",
    "from pathlib import Path\n",
    "import os\n",
    "import shutil\n",
    "from datetime import datetime\n",
    "import math\n",
    "\n",
    "\n",
    "def createDirectory(directory, removeAll=False):\n",
    "    '''\n",
    "    Creates a directory if it doesn't exist and removes all files\n",
    "    from the directory if it already exists and removeAll is True.\n",
    "    '''\n",
    "    if os.path.exists(directory) and removeAll:\n",
    "        shutil.rmtree(directory) # Remove all files in the directory\n",
    "        print(f'All files in {directory} have been removed.')\n",
    "\n",
    "    if not os.path.exists(directory):\n",
    "        os.makedirs(directory) # Create the directory\n",
    "\n",
    "def checkforFileBlocking(outDir):\n",
    "    start_time = time.time()  # Get the current time in seconds\n",
    "    while True:\n",
    "        if os.path.exists(os.path.join(outDir, \"computation_result.json\")):\n",
    "            elapsed_time = time.time() - start_time  # Calculate the elapsed time in seconds\n",
    "            print(f\"{elapsed_time:.2f} sec\")\n",
    "            break\n",
    "        else:\n",
    "            time.sleep(1)  # Pause for 5 seconds before checking again"
   ]
  },
  {
   "cell_type": "markdown",
   "id": "8b784701-d588-420b-855b-d00c0fbf2181",
   "metadata": {},
   "source": [
    "## Population size x best solution"
   ]
  },
  {
   "cell_type": "code",
   "execution_count": 10,
   "id": "8878b108-5bcf-406e-9f6d-ce98d444bf13",
   "metadata": {
    "tags": []
   },
   "outputs": [
    {
     "name": "stdout",
     "output_type": "stream",
     "text": [
      "====== RUN 1/10 ======\n",
      "851.86 sec\n",
      "5878.29 sec\n",
      "====== RUN 2/10 ======\n",
      "851.85 sec\n",
      "5859.40 sec\n",
      "====== RUN 3/10 ======\n",
      "851.86 sec\n",
      "5848.45 sec\n",
      "====== RUN 4/10 ======\n",
      "852.87 sec\n",
      "5871.55 sec\n",
      "====== RUN 5/10 ======\n",
      "855.87 sec\n"
     ]
    },
    {
     "ename": "KeyboardInterrupt",
     "evalue": "",
     "output_type": "error",
     "traceback": [
      "\u001B[0;31m---------------------------------------------------------------------------\u001B[0m",
      "\u001B[0;31mKeyboardInterrupt\u001B[0m                         Traceback (most recent call last)",
      "Cell \u001B[0;32mIn[10], line 17\u001B[0m\n\u001B[1;32m     15\u001B[0m r \u001B[38;5;241m=\u001B[39m requests\u001B[38;5;241m.\u001B[39mrequest(\u001B[38;5;124m\"\u001B[39m\u001B[38;5;124mPOST\u001B[39m\u001B[38;5;124m\"\u001B[39m, url, headers\u001B[38;5;241m=\u001B[39mheaders, data\u001B[38;5;241m=\u001B[39mjson\u001B[38;5;241m.\u001B[39mdumps(payload))\n\u001B[1;32m     16\u001B[0m src \u001B[38;5;241m=\u001B[39m r\u001B[38;5;241m.\u001B[39mjson()[\u001B[38;5;124m'\u001B[39m\u001B[38;5;124moutputDirectory\u001B[39m\u001B[38;5;124m'\u001B[39m] \n\u001B[0;32m---> 17\u001B[0m \u001B[43mcheckforFileBlocking\u001B[49m\u001B[43m(\u001B[49m\u001B[43msrc\u001B[49m\u001B[43m)\u001B[49m\n\u001B[1;32m     18\u001B[0m dst \u001B[38;5;241m=\u001B[39m OUT_DIR \u001B[38;5;241m+\u001B[39m \u001B[38;5;124m'\u001B[39m\u001B[38;5;124m/\u001B[39m\u001B[38;5;124m'\u001B[39m \u001B[38;5;241m+\u001B[39m src\u001B[38;5;241m.\u001B[39msplit(\u001B[38;5;124m'\u001B[39m\u001B[38;5;124m/\u001B[39m\u001B[38;5;124m'\u001B[39m)[\u001B[38;5;241m-\u001B[39m\u001B[38;5;241m1\u001B[39m]\n\u001B[1;32m     19\u001B[0m shutil\u001B[38;5;241m.\u001B[39mcopytree(src, dst)\n",
      "Cell \u001B[0;32mIn[6], line 32\u001B[0m, in \u001B[0;36mcheckforFileBlocking\u001B[0;34m(outDir)\u001B[0m\n\u001B[1;32m     30\u001B[0m     \u001B[38;5;28;01mbreak\u001B[39;00m\n\u001B[1;32m     31\u001B[0m \u001B[38;5;28;01melse\u001B[39;00m:\n\u001B[0;32m---> 32\u001B[0m     \u001B[43mtime\u001B[49m\u001B[38;5;241;43m.\u001B[39;49m\u001B[43msleep\u001B[49m\u001B[43m(\u001B[49m\u001B[38;5;241;43m1\u001B[39;49m\u001B[43m)\u001B[49m\n",
      "\u001B[0;31mKeyboardInterrupt\u001B[0m: "
     ]
    }
   ],
   "source": [
    "OUT_DIR_BASE = 'out/cluster_' +  datetime.now().strftime('%Y_%m_%d_%H:%M:%S')\n",
    "\n",
    "for i in range(10):\n",
    "    OUT_DIR = f'{OUT_DIR_BASE}/{i+1}'\n",
    "    print(f'====== RUN {i+1}/{10} ======')\n",
    "    createDirectory(OUT_DIR)\n",
    "    for dataset in ['cluster_3_10', 'cluster_4_20']:\n",
    "        with open(f'/home/slarty/Documents/master-thesis/src/impl/public/datasets/cluster/{dataset}.json', 'r') as file:\n",
    "            layout = json.load(file)['data']['layout']\n",
    "        payload['objectiveParameters']['params']['overlappingPenalizationConstant'] = math.sqrt(layout['width']**2 + layout['height']**2) * 4\n",
    "        payload['datasetName'] = dataset\n",
    "        size = int(dataset.split('_')[1])\n",
    "        payload['gaParameters']['populationSize'] = size * 100\n",
    "        payload['gaParameters']['maxNumberOfIter'] = 1000\n",
    "        r = requests.request(\"POST\", url, headers=headers, data=json.dumps(payload))\n",
    "        src = r.json()['outputDirectory'] \n",
    "        checkforFileBlocking(src)\n",
    "        dst = OUT_DIR + '/' + src.split('/')[-1]\n",
    "        shutil.copytree(src, dst)\n",
    "\n",
    "print('\\nComputation done')"
   ]
  },
  {
   "cell_type": "markdown",
   "id": "0c3105c0-5ae2-42b8-b9af-158589fa1c89",
   "metadata": {},
   "source": [
    "# Cluster"
   ]
  },
  {
   "cell_type": "code",
   "execution_count": 10,
   "id": "e6cf0c9e",
   "metadata": {
    "tags": []
   },
   "outputs": [
    {
     "name": "stdout",
     "output_type": "stream",
     "text": [
      "====== RUN 1/10 ======\n",
      "851.86 sec\n",
      "5878.29 sec\n",
      "====== RUN 2/10 ======\n",
      "851.85 sec\n",
      "5859.40 sec\n",
      "====== RUN 3/10 ======\n",
      "851.86 sec\n",
      "5848.45 sec\n",
      "====== RUN 4/10 ======\n",
      "852.87 sec\n",
      "5871.55 sec\n",
      "====== RUN 5/10 ======\n",
      "855.87 sec\n"
     ]
    },
    {
     "ename": "KeyboardInterrupt",
     "evalue": "",
     "output_type": "error",
     "traceback": [
      "\u001B[0;31m---------------------------------------------------------------------------\u001B[0m",
      "\u001B[0;31mKeyboardInterrupt\u001B[0m                         Traceback (most recent call last)",
      "Cell \u001B[0;32mIn[10], line 17\u001B[0m\n\u001B[1;32m     15\u001B[0m r \u001B[38;5;241m=\u001B[39m requests\u001B[38;5;241m.\u001B[39mrequest(\u001B[38;5;124m\"\u001B[39m\u001B[38;5;124mPOST\u001B[39m\u001B[38;5;124m\"\u001B[39m, url, headers\u001B[38;5;241m=\u001B[39mheaders, data\u001B[38;5;241m=\u001B[39mjson\u001B[38;5;241m.\u001B[39mdumps(payload))\n\u001B[1;32m     16\u001B[0m src \u001B[38;5;241m=\u001B[39m r\u001B[38;5;241m.\u001B[39mjson()[\u001B[38;5;124m'\u001B[39m\u001B[38;5;124moutputDirectory\u001B[39m\u001B[38;5;124m'\u001B[39m] \n\u001B[0;32m---> 17\u001B[0m \u001B[43mcheckforFileBlocking\u001B[49m\u001B[43m(\u001B[49m\u001B[43msrc\u001B[49m\u001B[43m)\u001B[49m\n\u001B[1;32m     18\u001B[0m dst \u001B[38;5;241m=\u001B[39m OUT_DIR \u001B[38;5;241m+\u001B[39m \u001B[38;5;124m'\u001B[39m\u001B[38;5;124m/\u001B[39m\u001B[38;5;124m'\u001B[39m \u001B[38;5;241m+\u001B[39m src\u001B[38;5;241m.\u001B[39msplit(\u001B[38;5;124m'\u001B[39m\u001B[38;5;124m/\u001B[39m\u001B[38;5;124m'\u001B[39m)[\u001B[38;5;241m-\u001B[39m\u001B[38;5;241m1\u001B[39m]\n\u001B[1;32m     19\u001B[0m shutil\u001B[38;5;241m.\u001B[39mcopytree(src, dst)\n",
      "Cell \u001B[0;32mIn[6], line 32\u001B[0m, in \u001B[0;36mcheckforFileBlocking\u001B[0;34m(outDir)\u001B[0m\n\u001B[1;32m     30\u001B[0m     \u001B[38;5;28;01mbreak\u001B[39;00m\n\u001B[1;32m     31\u001B[0m \u001B[38;5;28;01melse\u001B[39;00m:\n\u001B[0;32m---> 32\u001B[0m     \u001B[43mtime\u001B[49m\u001B[38;5;241;43m.\u001B[39;49m\u001B[43msleep\u001B[49m\u001B[43m(\u001B[49m\u001B[38;5;241;43m1\u001B[39;49m\u001B[43m)\u001B[49m\n",
      "\u001B[0;31mKeyboardInterrupt\u001B[0m: "
     ]
    }
   ],
   "source": [
    "OUT_DIR_BASE = 'out/cluster_' +  datetime.now().strftime('%Y_%m_%d_%H:%M:%S')\n",
    "\n",
    "for i in range(10):\n",
    "    OUT_DIR = f'{OUT_DIR_BASE}/{i+1}'\n",
    "    print(f'====== RUN {i+1}/{10} ======')\n",
    "    createDirectory(OUT_DIR)\n",
    "    for dataset in ['cluster_3_10', 'cluster_4_20']:\n",
    "        with open(f'/home/slarty/Documents/master-thesis/src/impl/public/datasets/cluster/{dataset}.json', 'r') as file:\n",
    "            layout = json.load(file)['data']['layout']\n",
    "        payload['objectiveParameters']['params']['overlappingPenalizationConstant'] = math.sqrt(layout['width']**2 + layout['height']**2) * 4\n",
    "        payload['datasetName'] = dataset\n",
    "        size = int(dataset.split('_')[1])\n",
    "        payload['gaParameters']['populationSize'] = size * 100\n",
    "        payload['gaParameters']['maxNumberOfIter'] = 1000\n",
    "        r = requests.request(\"POST\", url, headers=headers, data=json.dumps(payload))\n",
    "        src = r.json()['outputDirectory'] \n",
    "        checkforFileBlocking(src)\n",
    "        dst = OUT_DIR + '/' + src.split('/')[-1]\n",
    "        shutil.copytree(src, dst)\n",
    "\n",
    "print('\\nComputation done')"
   ]
  },
  {
   "cell_type": "markdown",
   "id": "30fe324e-2495-47ed-9ff7-34da411c14df",
   "metadata": {},
   "source": [
    "# Packing"
   ]
  },
  {
   "cell_type": "code",
   "execution_count": 13,
   "id": "9eb871a1-a38c-46ae-9bbd-530cdeb13a88",
   "metadata": {
    "tags": []
   },
   "outputs": [
    {
     "name": "stdout",
     "output_type": "stream",
     "text": [
      "====== RUN 1/10 ======\n",
      "637.66 sec\n",
      "3208.31 sec\n",
      "\n",
      "Computation done\n"
     ]
    }
   ],
   "source": [
    "OUT_DIR_BASE = 'out/packing_' +  datetime.now().strftime('%Y_%m_%d_%H:%M:%S')\n",
    "\n",
    "for i in range(1):\n",
    "    OUT_DIR = f'{OUT_DIR_BASE}/{i+1}'\n",
    "    print(f'====== RUN {i+1}/{10} ======')\n",
    "    createDirectory(OUT_DIR)\n",
    "    for dataset in ['packing_10', 'packing_20']:\n",
    "        with open(f'/home/slarty/Documents/master-thesis/src/impl/public/datasets/packing/{dataset}.json', 'r') as file:\n",
    "            layout = json.load(file)['data']['layout']\n",
    "        payload['objectiveParameters']['params']['overlappingPenalizationConstant'] = math.sqrt(layout['width']**2 + layout['height']**2) * 4\n",
    "        payload['datasetName'] = dataset\n",
    "        size = int(dataset.split('_')[1])\n",
    "        payload['gaParameters']['populationSize'] = size * 100\n",
    "        payload['gaParameters']['maxNumberOfIter'] = 1000\n",
    "        r = requests.request(\"POST\", url, headers=headers, data=json.dumps(payload))\n",
    "        src = r.json()['outputDirectory'] \n",
    "        checkforFileBlocking(src)\n",
    "        dst = OUT_DIR + '/' + src.split('/')[-1]\n",
    "        shutil.copytree(src, dst)\n",
    "\n",
    "print('\\nComputation done')"
   ]
  },
  {
   "cell_type": "markdown",
   "id": "00593006-fc74-4103-869d-78b965f43b96",
   "metadata": {},
   "source": [
    "# Biased sparse cluster"
   ]
  },
  {
   "cell_type": "code",
   "execution_count": 27,
   "id": "aff890be-1b38-4872-86e2-6b856312ee74",
   "metadata": {
    "tags": []
   },
   "outputs": [
    {
     "name": "stdout",
     "output_type": "stream",
     "text": [
      "====== RUN 1/10 ======\n",
      "{'id': 'biased_sparse_cluster_2_10_EC86D', 'outputDirectory': '/home/slarty/Documents/master-thesis/src/impl/target/universal/stage/out/001_biased_sparse_cluster_2_10_EC86D'}\n"
     ]
    },
    {
     "ename": "KeyboardInterrupt",
     "evalue": "",
     "output_type": "error",
     "traceback": [
      "\u001B[0;31m---------------------------------------------------------------------------\u001B[0m",
      "\u001B[0;31mKeyboardInterrupt\u001B[0m                         Traceback (most recent call last)",
      "Cell \u001B[0;32mIn[27], line 18\u001B[0m\n\u001B[1;32m     16\u001B[0m \u001B[38;5;28mprint\u001B[39m(r\u001B[38;5;241m.\u001B[39mjson())\n\u001B[1;32m     17\u001B[0m src \u001B[38;5;241m=\u001B[39m r\u001B[38;5;241m.\u001B[39mjson()[\u001B[38;5;124m'\u001B[39m\u001B[38;5;124moutputDirectory\u001B[39m\u001B[38;5;124m'\u001B[39m] \n\u001B[0;32m---> 18\u001B[0m \u001B[43mcheckforFileBlocking\u001B[49m\u001B[43m(\u001B[49m\u001B[43msrc\u001B[49m\u001B[43m)\u001B[49m\n\u001B[1;32m     19\u001B[0m dst \u001B[38;5;241m=\u001B[39m OUT_DIR \u001B[38;5;241m+\u001B[39m \u001B[38;5;124m'\u001B[39m\u001B[38;5;124m/\u001B[39m\u001B[38;5;124m'\u001B[39m \u001B[38;5;241m+\u001B[39m src\u001B[38;5;241m.\u001B[39msplit(\u001B[38;5;124m'\u001B[39m\u001B[38;5;124m/\u001B[39m\u001B[38;5;124m'\u001B[39m)[\u001B[38;5;241m-\u001B[39m\u001B[38;5;241m1\u001B[39m]\n\u001B[1;32m     20\u001B[0m shutil\u001B[38;5;241m.\u001B[39mcopytree(src, dst)\n",
      "Cell \u001B[0;32mIn[6], line 32\u001B[0m, in \u001B[0;36mcheckforFileBlocking\u001B[0;34m(outDir)\u001B[0m\n\u001B[1;32m     30\u001B[0m     \u001B[38;5;28;01mbreak\u001B[39;00m\n\u001B[1;32m     31\u001B[0m \u001B[38;5;28;01melse\u001B[39;00m:\n\u001B[0;32m---> 32\u001B[0m     \u001B[43mtime\u001B[49m\u001B[38;5;241;43m.\u001B[39;49m\u001B[43msleep\u001B[49m\u001B[43m(\u001B[49m\u001B[38;5;241;43m1\u001B[39;49m\u001B[43m)\u001B[49m\n",
      "\u001B[0;31mKeyboardInterrupt\u001B[0m: "
     ]
    }
   ],
   "source": [
    "OUT_DIR_BASE = 'out/biased_sparse_cluster_' +  datetime.now().strftime('%Y_%m_%d_%H:%M:%S')\n",
    "\n",
    "for i in range(1):\n",
    "    OUT_DIR = f'{OUT_DIR_BASE}/{i+1}'\n",
    "    print(f'====== RUN {i+1}/{10} ======')\n",
    "    createDirectory(OUT_DIR)\n",
    "    for dataset in ['biased_sparse_cluster_2_10']:\n",
    "        with open(f'/home/slarty/Documents/master-thesis/src/impl/public/datasets/biased_sparse_cluster/{dataset}.json', 'r') as file:\n",
    "            layout = json.load(file)['data']['layout']\n",
    "        payload['objectiveParameters']['params']['overlappingPenalizationConstant'] = math.sqrt(layout['width']**2 + layout['height']**2) * 4\n",
    "        payload['datasetName'] = dataset\n",
    "        size = 30\n",
    "        payload['gaParameters']['populationSize'] = size * 100\n",
    "        payload['gaParameters']['maxNumberOfIter'] = 1000\n",
    "        r = requests.request(\"POST\", url, headers=headers, data=json.dumps(payload))\n",
    "        print(r.json())\n",
    "        src = r.json()['outputDirectory'] \n",
    "        checkforFileBlocking(src)\n",
    "        dst = OUT_DIR + '/' + src.split('/')[-1]\n",
    "        shutil.copytree(src, dst)\n",
    "\n",
    "print('\\nComputation done')"
   ]
  },
  {
   "cell_type": "markdown",
   "id": "8e114761-1139-4cf8-abcf-d439a7411d97",
   "metadata": {},
   "source": [
    "# Maximum wild card count vs computation time"
   ]
  },
  {
   "cell_type": "code",
   "execution_count": 18,
   "id": "b95fe0d9-68ab-4cd4-8cae-c88ff0dcdc9d",
   "metadata": {
    "tags": []
   },
   "outputs": [
    {
     "name": "stdout",
     "output_type": "stream",
     "text": [
      "====== RUN 3/10 ======\n",
      "0\n",
      "22.02 sec\n",
      "1\n",
      "37.04 sec\n",
      "2\n",
      "68.07 sec\n",
      "3\n",
      "109.11 sec\n",
      "4\n",
      "167.17 sec\n",
      "5\n",
      "218.23 sec\n",
      "6\n",
      "268.27 sec\n",
      "7\n",
      "338.34 sec\n",
      "8\n",
      "376.38 sec\n",
      "9\n",
      "383.38 sec\n",
      "====== RUN 4/10 ======\n",
      "0\n",
      "21.02 sec\n",
      "1\n",
      "37.04 sec\n",
      "2\n",
      "65.07 sec\n",
      "3\n",
      "113.11 sec\n",
      "4\n",
      "172.18 sec\n",
      "5\n",
      "225.23 sec\n",
      "6\n",
      "282.29 sec\n",
      "7\n",
      "342.34 sec\n",
      "8\n",
      "380.38 sec\n",
      "9\n",
      "374.37 sec\n",
      "====== RUN 5/10 ======\n",
      "0\n",
      "25.03 sec\n",
      "1\n",
      "40.04 sec\n",
      "2\n",
      "69.07 sec\n",
      "3\n",
      "109.11 sec\n",
      "4\n",
      "159.16 sec\n",
      "5\n",
      "217.22 sec\n",
      "6\n",
      "268.27 sec\n",
      "7\n",
      "336.34 sec\n",
      "8\n",
      "373.37 sec\n",
      "9\n",
      "382.38 sec\n",
      "====== RUN 6/10 ======\n",
      "0\n",
      "21.02 sec\n",
      "1\n",
      "37.04 sec\n",
      "2\n",
      "66.07 sec\n",
      "3\n",
      "108.11 sec\n",
      "4\n",
      "161.16 sec\n",
      "5\n",
      "212.21 sec\n",
      "6\n",
      "276.28 sec\n",
      "7\n",
      "341.34 sec\n",
      "8\n",
      "374.37 sec\n",
      "9\n",
      "373.37 sec\n",
      "\n",
      "Computation done\n"
     ]
    }
   ],
   "source": [
    "OUT_DIR_BASE = 'out/wild_card_comp_time_' +  datetime.now().strftime('%Y_%m_%d_%H:%M:%S')\n",
    "\n",
    "for i in range(2, 6):\n",
    "    OUT_DIR = f'{OUT_DIR_BASE}/{i+1}'\n",
    "    print(f'====== RUN {i+1}/{10} ======')\n",
    "    createDirectory(OUT_DIR)\n",
    "    for dataset in ['random_10']:\n",
    "        with open(f'/home/slarty/Documents/master-thesis/src/impl/public/datasets/random/{dataset}.json', 'r') as file:\n",
    "            layout = json.load(file)['data']['layout']\n",
    "        payload['objectiveParameters']['params']['overlappingPenalizationConstant'] = math.sqrt(layout['width']**2 + layout['height']**2) * 4\n",
    "        payload['datasetName'] = dataset\n",
    "        payload['gaParameters']['populationSize'] = 100\n",
    "        payload['gaParameters']['maxNumberOfIter'] = 300\n",
    "        \n",
    "        for maximumWildCardCount in range(0,10):\n",
    "            print(maximumWildCardCount)\n",
    "            payload['gaParameters']['maximumWildCardCount'] = maximumWildCardCount\n",
    "            r = requests.request(\"POST\", url, headers=headers, data=json.dumps(payload))\n",
    "            src = r.json()['outputDirectory'] \n",
    "            checkforFileBlocking(src)\n",
    "            dst = OUT_DIR + '/' + src.split('/')[-1]\n",
    "            shutil.copytree(src, dst)\n",
    "\n",
    "print('\\nComputation done')"
   ]
  }
 ],
 "metadata": {
  "kernelspec": {
   "display_name": "Python 3 (ipykernel)",
   "language": "python",
   "name": "python3"
  },
  "language_info": {
   "codemirror_mode": {
    "name": "ipython",
    "version": 3
   },
   "file_extension": ".py",
   "mimetype": "text/x-python",
   "name": "python",
   "nbconvert_exporter": "python",
   "pygments_lexer": "ipython3",
   "version": "3.10.10"
  }
 },
 "nbformat": 4,
 "nbformat_minor": 5
}
