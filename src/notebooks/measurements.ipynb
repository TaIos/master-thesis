{
 "cells": [
  {
   "cell_type": "markdown",
   "id": "b3a97643-6a74-4da3-a320-af74856aba02",
   "metadata": {
    "tags": []
   },
   "source": [
    "# Payload"
   ]
  },
  {
   "cell_type": "code",
   "execution_count": 1,
   "id": "35e45a4a-1e9f-4305-ad20-9921d2807133",
   "metadata": {},
   "outputs": [],
   "source": [
    "PAYLOAD = {\n",
    "    \"datasetName\": \"random_10\",\n",
    "    \"gaParameters\": {\n",
    "        \"maxNumberOfIter\":300,\n",
    "        \"populationSize\": 100,\n",
    "        \"maximumWildCardCount\": 1,\n",
    "        \"orientationWeights\": [\n",
    "            1,\n",
    "            1,\n",
    "            0.5\n",
    "        ],\n",
    "        \"geneticAlgorithm\": \"simpleGa\",\n",
    "        \"mate\": \"normalizedProbabilityVectorSum\",\n",
    "        \"mutate\": \"flipOnePartAtRandom\",\n",
    "        \"select\": \"tournament\",\n",
    "        \"objective\": \"simple\",\n",
    "        \"evaluator\": \"ga\",\n",
    "        \"placingHeuristics\": \"corner\",\n",
    "        \"populationDivisionCounts\": {\n",
    "            \"elite\": 0.2,\n",
    "            \"average\": 0.6,\n",
    "            \"worst\": 0.2,\n",
    "            \"children\": 0.3,\n",
    "            \"mutant\": 0.2,\n",
    "            \"winner\": 0.2,\n",
    "            \"random\": 0.1\n",
    "        },\n",
    "        \"initialPopulationDivisionCounts\": {\n",
    "            \"random\": 0.7,\n",
    "            \"greedy\": 0.3\n",
    "        }\n",
    "    },\n",
    "    \"objectiveParameters\": {\n",
    "        \"name\": \"simple\",\n",
    "        \"params\": {\n",
    "            \"overlappingPenalizationConstant\": 0,\n",
    "            \"outsideOfAllocatedAreaPenalizationConstant\": 0\n",
    "        }\n",
    "    }\n",
    "}\n",
    "\n",
    "URL = \"http://localhost:9000/compute/dataset\"\n",
    "\n",
    "HEADERS = {\n",
    "  'Content-Type': 'application/json'\n",
    "}"
   ]
  },
  {
   "cell_type": "markdown",
   "id": "e772ea1f-aacd-4a58-a475-0029bc68adf5",
   "metadata": {
    "tags": []
   },
   "source": [
    "# Utils"
   ]
  },
  {
   "cell_type": "code",
   "execution_count": 2,
   "id": "f59df0a5-df61-4c1a-8a0c-1c78b2d00049",
   "metadata": {
    "tags": []
   },
   "outputs": [],
   "source": [
    "import os\n",
    "import time\n",
    "import requests\n",
    "import json\n",
    "from pathlib import Path\n",
    "import os\n",
    "import shutil\n",
    "from datetime import datetime\n",
    "import math\n",
    "import copy\n",
    "\n",
    "def createDirectory(directory, removeAll=False):\n",
    "    '''\n",
    "    Creates a directory if it doesn't exist and removes all files\n",
    "    from the directory if it already exists and removeAll is True.\n",
    "    '''\n",
    "    if os.path.exists(directory) and removeAll:\n",
    "        shutil.rmtree(directory) # Remove all files in the directory\n",
    "        print(f'All files in {directory} have been removed.')\n",
    "\n",
    "    if not os.path.exists(directory):\n",
    "        os.makedirs(directory) # Create the directory\n",
    "        \n",
    "    return directory\n",
    "\n",
    "def checkforFileBlocking(outDir):\n",
    "    start_time = time.time()  # Get the current time in seconds\n",
    "    while True:\n",
    "        if os.path.exists(os.path.join(outDir, \"computation_result.json\")):\n",
    "            elapsed_time = time.time() - start_time  # Calculate the elapsed time in seconds\n",
    "            print(f\"{elapsed_time:.2f} sec\")\n",
    "            time.sleep(5)  # weit for file to be written and closed\n",
    "            break\n",
    "        else:\n",
    "            time.sleep(1)  # Pause for 1 second before checking again\n",
    "            \n",
    "def findDataset(name):\n",
    "    for root, dirs, files in os.walk('/home/slarty/Documents/master-thesis/src/impl/public/datasets'):\n",
    "        for file in files:\n",
    "            if file == f'{name}.json' or file == name:\n",
    "                return os.path.join(root, file)\n",
    "    return None\n",
    "\n",
    "def calculateLayoutDiagonalLen(datasetName):\n",
    "    with open(findDataset(datasetName), 'r') as file:\n",
    "        layout = json.load(file)['data']['layout']\n",
    "    return math.sqrt(layout['width']**2 + layout['height']**2)\n",
    "    \n",
    "\n",
    "# def setOverlappingConstant(data, dataset):\n",
    "#     with open(findDataset(dataset), 'r') as file:\n",
    "#         layout = json.load(file)['data']['layout']\n",
    "#     data['objectiveParameters']['params']['overlappingPenalizationConstant'] = math.sqrt(layout['width']**2 + layout['height']**2) * 4\n",
    "    \n",
    "def savePayload(payload, directory):\n",
    "    os.makedirs(directory, exist_ok=True)\n",
    "    with open(f'{directory}/payload.json', 'w') as file:\n",
    "        json.dump(payload, file, indent=4)\n",
    "    \n",
    "def sendPayloadBlocking(payload, outDir):\n",
    "    r = requests.request(\"POST\", URL, headers=HEADERS, data=json.dumps(payload))\n",
    "    print(r.json())\n",
    "    src = r.json()['outputDirectory'] \n",
    "    out = outDir + '/' + src.split('/')[-1]\n",
    "    savePayload(payload, out)\n",
    "    checkforFileBlocking(src)\n",
    "    shutil.copytree(src, out,dirs_exist_ok=True)\n",
    "    \n",
    "def createOutDir(name):\n",
    "    directory = f'out/{name}_' +  datetime.now().strftime('%Y_%m_%d_%H:%M:%S')\n",
    "    createDirectory(directory)\n",
    "    return directory\n",
    "\n",
    "def printRun(run, runMax):\n",
    "    print(f'====== RUN {run}/{runMax} ======')\n",
    "    \n",
    "def setCommonAttributes(payload, dataset,size):\n",
    "    print(f'{dataset}')\n",
    "    payload['datasetName'] = dataset\n",
    "    payload['objectiveParameters']['params']['overlappingPenalizationConstant'] = calculateLayoutDiagonalLen(dataset)\n",
    "    payload['objectiveParameters']['params']['outsideOfAllocatedAreaPenalizationConstant'] = calculateLayoutDiagonalLen(dataset)\n",
    "    payload['gaParameters']['populationSize'] = size * 50\n",
    "    payload['gaParameters']['maxNumberOfIter'] = 300"
   ]
  },
  {
   "cell_type": "markdown",
   "id": "86734c8e-8cf1-48a9-ac93-2ad4727b8409",
   "metadata": {
    "tags": []
   },
   "source": [
    "# Hyperparameters"
   ]
  },
  {
   "cell_type": "markdown",
   "id": "f9ecadac-765b-4bb5-abeb-3c203937169c",
   "metadata": {},
   "source": [
    "## 1. Max number of iter"
   ]
  },
  {
   "cell_type": "code",
   "execution_count": 11,
   "id": "2b3430a4-38e8-4cdf-b81a-5d8705d0f77e",
   "metadata": {
    "tags": []
   },
   "outputs": [
    {
     "name": "stdout",
     "output_type": "stream",
     "text": [
      "====== RUN 1/4 ======\n",
      "random_10\n",
      "\tmaxNumberOfIter=1000\n",
      "{'id': 'random_10_F7ACC', 'outputDirectory': '/home/slarty/Documents/master-thesis/src/impl/target/universal/stage/out/135_random_10_F7ACC'}\n",
      "685.68 sec\n",
      "random_20\n",
      "\tmaxNumberOfIter=1000\n",
      "{'id': 'random_20_F68B3', 'outputDirectory': '/home/slarty/Documents/master-thesis/src/impl/target/universal/stage/out/136_random_20_F68B3'}\n",
      "3422.42 sec\n",
      "====== RUN 2/4 ======\n",
      "random_10\n",
      "\tmaxNumberOfIter=1000\n",
      "{'id': 'random_10_EEE7D', 'outputDirectory': '/home/slarty/Documents/master-thesis/src/impl/target/universal/stage/out/137_random_10_EEE7D'}\n",
      "676.67 sec\n",
      "random_20\n",
      "\tmaxNumberOfIter=1000\n",
      "{'id': 'random_20_B95C2', 'outputDirectory': '/home/slarty/Documents/master-thesis/src/impl/target/universal/stage/out/138_random_20_B95C2'}\n",
      "3396.38 sec\n",
      "====== RUN 3/4 ======\n",
      "random_10\n",
      "\tmaxNumberOfIter=1000\n",
      "{'id': 'random_10_BD44C', 'outputDirectory': '/home/slarty/Documents/master-thesis/src/impl/target/universal/stage/out/139_random_10_BD44C'}\n",
      "681.68 sec\n",
      "random_20\n",
      "\tmaxNumberOfIter=1000\n",
      "{'id': 'random_20_EA473', 'outputDirectory': '/home/slarty/Documents/master-thesis/src/impl/target/universal/stage/out/140_random_20_EA473'}\n",
      "3381.37 sec\n",
      "====== RUN 4/4 ======\n",
      "random_10\n",
      "\tmaxNumberOfIter=1000\n",
      "{'id': 'random_10_3EB04', 'outputDirectory': '/home/slarty/Documents/master-thesis/src/impl/target/universal/stage/out/141_random_10_3EB04'}\n",
      "676.67 sec\n",
      "random_20\n",
      "\tmaxNumberOfIter=1000\n",
      "{'id': 'random_20_958CF', 'outputDirectory': '/home/slarty/Documents/master-thesis/src/impl/target/universal/stage/out/142_random_20_958CF'}\n",
      "3376.36 sec\n",
      "\n",
      "Computation done\n"
     ]
    }
   ],
   "source": [
    "# zopakovat nekolikrat pro maxNumberOfIter=500, mozna by slo i vic, treba 800 nebo 1000\n",
    "outDirBase = createOutDir('max_number_of_iter')\n",
    "payload = copy.deepcopy(PAYLOAD) \n",
    "maxRange = 4\n",
    "\n",
    "for i in range(maxRange):\n",
    "    printRun(i+1, maxRange)\n",
    "    outDir = createDirectory(f'{outDirBase}/{i+1}')\n",
    "    for dataset, size in [('random_10', 10), ('random_20',20)]:\n",
    "        setCommonAttributes(payload, dataset, size)\n",
    "        for maxNumberOfIter in [1000]:\n",
    "            print(f'\\tmaxNumberOfIter={maxNumberOfIter}')\n",
    "            payload['gaParameters']['maxNumberOfIter'] = maxNumberOfIter\n",
    "            sendPayloadBlocking(payload, outDir)\n",
    "print('\\nComputation done')"
   ]
  },
  {
   "cell_type": "markdown",
   "id": "d040a440-a2b9-4414-b4fc-3d7f6f57efff",
   "metadata": {
    "tags": []
   },
   "source": [
    "## 2. Population size"
   ]
  },
  {
   "cell_type": "code",
   "execution_count": 12,
   "id": "bf0dd48b-34be-4858-a52f-f26267949bc3",
   "metadata": {
    "tags": []
   },
   "outputs": [
    {
     "name": "stdout",
     "output_type": "stream",
     "text": [
      "====== RUN 1/5 ======\n",
      "random_10\n",
      "\tscalingFactor=10, populationSize=100\n",
      "{'id': 'random_10_5C323', 'outputDirectory': '/home/slarty/Documents/master-thesis/src/impl/target/universal/stage/out/143_random_10_5C323'}\n",
      "43.04 sec\n",
      "\tscalingFactor=50, populationSize=500\n",
      "{'id': 'random_10_B72EF', 'outputDirectory': '/home/slarty/Documents/master-thesis/src/impl/target/universal/stage/out/144_random_10_B72EF'}\n",
      "204.20 sec\n",
      "\tscalingFactor=100, populationSize=1000\n",
      "{'id': 'random_10_75A1A', 'outputDirectory': '/home/slarty/Documents/master-thesis/src/impl/target/universal/stage/out/145_random_10_75A1A'}\n",
      "413.41 sec\n",
      "random_20\n",
      "\tscalingFactor=10, populationSize=200\n",
      "{'id': 'random_20_D60D8', 'outputDirectory': '/home/slarty/Documents/master-thesis/src/impl/target/universal/stage/out/146_random_20_D60D8'}\n",
      "204.20 sec\n",
      "\tscalingFactor=50, populationSize=1000\n",
      "{'id': 'random_20_97C64', 'outputDirectory': '/home/slarty/Documents/master-thesis/src/impl/target/universal/stage/out/147_random_20_97C64'}\n",
      "1016.01 sec\n",
      "\tscalingFactor=100, populationSize=2000\n",
      "{'id': 'random_20_B91A2', 'outputDirectory': '/home/slarty/Documents/master-thesis/src/impl/target/universal/stage/out/148_random_20_B91A2'}\n",
      "2083.08 sec\n",
      "====== RUN 2/5 ======\n",
      "random_10\n",
      "\tscalingFactor=10, populationSize=100\n",
      "{'id': 'random_10_42885', 'outputDirectory': '/home/slarty/Documents/master-thesis/src/impl/target/universal/stage/out/149_random_10_42885'}\n",
      "42.04 sec\n",
      "\tscalingFactor=50, populationSize=500\n",
      "{'id': 'random_10_07AC6', 'outputDirectory': '/home/slarty/Documents/master-thesis/src/impl/target/universal/stage/out/150_random_10_07AC6'}\n",
      "202.20 sec\n",
      "\tscalingFactor=100, populationSize=1000\n",
      "{'id': 'random_10_8DF6C', 'outputDirectory': '/home/slarty/Documents/master-thesis/src/impl/target/universal/stage/out/151_random_10_8DF6C'}\n",
      "409.40 sec\n",
      "random_20\n",
      "\tscalingFactor=10, populationSize=200\n",
      "{'id': 'random_20_07F63', 'outputDirectory': '/home/slarty/Documents/master-thesis/src/impl/target/universal/stage/out/152_random_20_07F63'}\n",
      "202.20 sec\n",
      "\tscalingFactor=50, populationSize=1000\n",
      "{'id': 'random_20_059C8', 'outputDirectory': '/home/slarty/Documents/master-thesis/src/impl/target/universal/stage/out/153_random_20_059C8'}\n",
      "1007.01 sec\n",
      "\tscalingFactor=100, populationSize=2000\n",
      "{'id': 'random_20_F4714', 'outputDirectory': '/home/slarty/Documents/master-thesis/src/impl/target/universal/stage/out/154_random_20_F4714'}\n",
      "2053.05 sec\n",
      "====== RUN 3/5 ======\n",
      "random_10\n",
      "\tscalingFactor=10, populationSize=100\n",
      "{'id': 'random_10_B747E', 'outputDirectory': '/home/slarty/Documents/master-thesis/src/impl/target/universal/stage/out/155_random_10_B747E'}\n",
      "43.04 sec\n",
      "\tscalingFactor=50, populationSize=500\n",
      "{'id': 'random_10_16E3E', 'outputDirectory': '/home/slarty/Documents/master-thesis/src/impl/target/universal/stage/out/156_random_10_16E3E'}\n",
      "203.20 sec\n",
      "\tscalingFactor=100, populationSize=1000\n",
      "{'id': 'random_10_77A1C', 'outputDirectory': '/home/slarty/Documents/master-thesis/src/impl/target/universal/stage/out/157_random_10_77A1C'}\n",
      "411.41 sec\n",
      "random_20\n",
      "\tscalingFactor=10, populationSize=200\n",
      "{'id': 'random_20_C7F18', 'outputDirectory': '/home/slarty/Documents/master-thesis/src/impl/target/universal/stage/out/158_random_20_C7F18'}\n",
      "203.20 sec\n",
      "\tscalingFactor=50, populationSize=1000\n",
      "{'id': 'random_20_8B6CD', 'outputDirectory': '/home/slarty/Documents/master-thesis/src/impl/target/universal/stage/out/159_random_20_8B6CD'}\n",
      "1013.01 sec\n",
      "\tscalingFactor=100, populationSize=2000\n",
      "{'id': 'random_20_4DB51', 'outputDirectory': '/home/slarty/Documents/master-thesis/src/impl/target/universal/stage/out/160_random_20_4DB51'}\n",
      "2042.03 sec\n",
      "====== RUN 4/5 ======\n",
      "random_10\n",
      "\tscalingFactor=10, populationSize=100\n",
      "{'id': 'random_10_3A976', 'outputDirectory': '/home/slarty/Documents/master-thesis/src/impl/target/universal/stage/out/161_random_10_3A976'}\n",
      "43.04 sec\n",
      "\tscalingFactor=50, populationSize=500\n",
      "{'id': 'random_10_55C05', 'outputDirectory': '/home/slarty/Documents/master-thesis/src/impl/target/universal/stage/out/162_random_10_55C05'}\n",
      "203.20 sec\n",
      "\tscalingFactor=100, populationSize=1000\n",
      "{'id': 'random_10_05A07', 'outputDirectory': '/home/slarty/Documents/master-thesis/src/impl/target/universal/stage/out/163_random_10_05A07'}\n",
      "410.41 sec\n",
      "random_20\n",
      "\tscalingFactor=10, populationSize=200\n",
      "{'id': 'random_20_F0FFB', 'outputDirectory': '/home/slarty/Documents/master-thesis/src/impl/target/universal/stage/out/164_random_20_F0FFB'}\n",
      "202.20 sec\n",
      "\tscalingFactor=50, populationSize=1000\n",
      "{'id': 'random_20_8DFF0', 'outputDirectory': '/home/slarty/Documents/master-thesis/src/impl/target/universal/stage/out/165_random_20_8DFF0'}\n",
      "1016.01 sec\n",
      "\tscalingFactor=100, populationSize=2000\n",
      "{'id': 'random_20_E7317', 'outputDirectory': '/home/slarty/Documents/master-thesis/src/impl/target/universal/stage/out/166_random_20_E7317'}\n",
      "2066.06 sec\n",
      "====== RUN 5/5 ======\n",
      "random_10\n",
      "\tscalingFactor=10, populationSize=100\n",
      "{'id': 'random_10_60E0D', 'outputDirectory': '/home/slarty/Documents/master-thesis/src/impl/target/universal/stage/out/167_random_10_60E0D'}\n",
      "42.04 sec\n",
      "\tscalingFactor=50, populationSize=500\n",
      "{'id': 'random_10_EC83C', 'outputDirectory': '/home/slarty/Documents/master-thesis/src/impl/target/universal/stage/out/168_random_10_EC83C'}\n",
      "203.20 sec\n",
      "\tscalingFactor=100, populationSize=1000\n",
      "{'id': 'random_10_63453', 'outputDirectory': '/home/slarty/Documents/master-thesis/src/impl/target/universal/stage/out/169_random_10_63453'}\n",
      "440.45 sec\n",
      "random_20\n",
      "\tscalingFactor=10, populationSize=200\n",
      "{'id': 'random_20_64E81', 'outputDirectory': '/home/slarty/Documents/master-thesis/src/impl/target/universal/stage/out/170_random_20_64E81'}\n",
      "215.22 sec\n",
      "\tscalingFactor=50, populationSize=1000\n",
      "{'id': 'random_20_C3283', 'outputDirectory': '/home/slarty/Documents/master-thesis/src/impl/target/universal/stage/out/171_random_20_C3283'}\n",
      "1099.14 sec\n",
      "\tscalingFactor=100, populationSize=2000\n",
      "{'id': 'random_20_A4900', 'outputDirectory': '/home/slarty/Documents/master-thesis/src/impl/target/universal/stage/out/172_random_20_A4900'}\n",
      "2195.25 sec\n",
      "\n",
      "Computation done\n"
     ]
    }
   ],
   "source": [
    "# rerun for 10, 50, 100\n",
    "outDirBase = createOutDir('population_size')\n",
    "payload = copy.deepcopy(PAYLOAD) \n",
    "maxRange = 5\n",
    "\n",
    "for i in range(maxRange):\n",
    "    printRun(i+1, maxRange)\n",
    "    outDir = createDirectory(f'{outDirBase}/{i+1}')\n",
    "    for dataset, size in [('random_10', 10), ('random_20',20)]:\n",
    "        setCommonAttributes(payload, dataset, size)\n",
    "        for scalingFactor in [10, 50, 100]:\n",
    "            populationSize = size * scalingFactor\n",
    "            print(f'\\tscalingFactor={scalingFactor}, populationSize={populationSize}')\n",
    "            payload['gaParameters']['populationSize'] = populationSize\n",
    "            sendPayloadBlocking(payload, outDir)\n",
    "print('\\nComputation done')"
   ]
  },
  {
   "cell_type": "markdown",
   "id": "25769f15-db70-4b09-b8b7-c7c09582bee8",
   "metadata": {},
   "source": [
    "## 3. Maximum wild card count"
   ]
  },
  {
   "cell_type": "code",
   "execution_count": 7,
   "id": "842ccbe3-531f-471a-8faa-1d8cf0dc1a3b",
   "metadata": {
    "tags": []
   },
   "outputs": [
    {
     "name": "stdout",
     "output_type": "stream",
     "text": [
      "====== RUN 1/4 ======\n",
      "random_10\n",
      "\tmaximumWildCardCount=5\n",
      "{'id': 'random_10_A2474', 'outputDirectory': '/home/slarty/Documents/master-thesis/src/impl/target/universal/stage/out/385_random_10_A2474'}\n",
      "1333.35 sec\n",
      "\tmaximumWildCardCount=6\n",
      "{'id': 'random_10_819AA', 'outputDirectory': '/home/slarty/Documents/master-thesis/src/impl/target/universal/stage/out/386_random_10_819AA'}\n",
      "1657.71 sec\n",
      "\tmaximumWildCardCount=7\n",
      "{'id': 'random_10_093E4', 'outputDirectory': '/home/slarty/Documents/master-thesis/src/impl/target/universal/stage/out/387_random_10_093E4'}\n",
      "2242.28 sec\n",
      "\tmaximumWildCardCount=8\n",
      "{'id': 'random_10_48F00', 'outputDirectory': '/home/slarty/Documents/master-thesis/src/impl/target/universal/stage/out/388_random_10_48F00'}\n",
      "2232.34 sec\n",
      "\tmaximumWildCardCount=9\n",
      "{'id': 'random_10_F0A84', 'outputDirectory': '/home/slarty/Documents/master-thesis/src/impl/target/universal/stage/out/389_random_10_F0A84'}\n",
      "2323.33 sec\n",
      "====== RUN 2/4 ======\n",
      "random_10\n",
      "\tmaximumWildCardCount=5\n",
      "{'id': 'random_10_3242F', 'outputDirectory': '/home/slarty/Documents/master-thesis/src/impl/target/universal/stage/out/390_random_10_3242F'}\n",
      "1219.21 sec\n",
      "\tmaximumWildCardCount=6\n",
      "{'id': 'random_10_49A31', 'outputDirectory': '/home/slarty/Documents/master-thesis/src/impl/target/universal/stage/out/391_random_10_49A31'}\n",
      "1571.56 sec\n",
      "\tmaximumWildCardCount=7\n",
      "{'id': 'random_10_E9834', 'outputDirectory': '/home/slarty/Documents/master-thesis/src/impl/target/universal/stage/out/392_random_10_E9834'}\n",
      "1992.99 sec\n",
      "\tmaximumWildCardCount=8\n",
      "{'id': 'random_10_03A4A', 'outputDirectory': '/home/slarty/Documents/master-thesis/src/impl/target/universal/stage/out/393_random_10_03A4A'}\n",
      "2247.24 sec\n",
      "\tmaximumWildCardCount=9\n",
      "{'id': 'random_10_4E155', 'outputDirectory': '/home/slarty/Documents/master-thesis/src/impl/target/universal/stage/out/394_random_10_4E155'}\n"
     ]
    },
    {
     "ename": "KeyboardInterrupt",
     "evalue": "",
     "output_type": "error",
     "traceback": [
      "\u001B[0;31m---------------------------------------------------------------------------\u001B[0m",
      "\u001B[0;31mKeyboardInterrupt\u001B[0m                         Traceback (most recent call last)",
      "Cell \u001B[0;32mIn[7], line 14\u001B[0m\n\u001B[1;32m     12\u001B[0m             \u001B[38;5;28mprint\u001B[39m(\u001B[38;5;124mf\u001B[39m\u001B[38;5;124m'\u001B[39m\u001B[38;5;130;01m\\t\u001B[39;00m\u001B[38;5;124mmaximumWildCardCount=\u001B[39m\u001B[38;5;132;01m{\u001B[39;00mmaximumWildCardCount\u001B[38;5;132;01m}\u001B[39;00m\u001B[38;5;124m'\u001B[39m)\n\u001B[1;32m     13\u001B[0m             payload[\u001B[38;5;124m'\u001B[39m\u001B[38;5;124mgaParameters\u001B[39m\u001B[38;5;124m'\u001B[39m][\u001B[38;5;124m'\u001B[39m\u001B[38;5;124mmaximumWildCardCount\u001B[39m\u001B[38;5;124m'\u001B[39m] \u001B[38;5;241m=\u001B[39m maximumWildCardCount\n\u001B[0;32m---> 14\u001B[0m             \u001B[43msendPayloadBlocking\u001B[49m\u001B[43m(\u001B[49m\u001B[43mpayload\u001B[49m\u001B[43m,\u001B[49m\u001B[43m \u001B[49m\u001B[43moutDir\u001B[49m\u001B[43m)\u001B[49m\n\u001B[1;32m     15\u001B[0m \u001B[38;5;28mprint\u001B[39m(\u001B[38;5;124m'\u001B[39m\u001B[38;5;130;01m\\n\u001B[39;00m\u001B[38;5;124mComputation done\u001B[39m\u001B[38;5;124m'\u001B[39m)\n",
      "Cell \u001B[0;32mIn[2], line 66\u001B[0m, in \u001B[0;36msendPayloadBlocking\u001B[0;34m(payload, outDir)\u001B[0m\n\u001B[1;32m     64\u001B[0m out \u001B[38;5;241m=\u001B[39m outDir \u001B[38;5;241m+\u001B[39m \u001B[38;5;124m'\u001B[39m\u001B[38;5;124m/\u001B[39m\u001B[38;5;124m'\u001B[39m \u001B[38;5;241m+\u001B[39m src\u001B[38;5;241m.\u001B[39msplit(\u001B[38;5;124m'\u001B[39m\u001B[38;5;124m/\u001B[39m\u001B[38;5;124m'\u001B[39m)[\u001B[38;5;241m-\u001B[39m\u001B[38;5;241m1\u001B[39m]\n\u001B[1;32m     65\u001B[0m savePayload(payload, out)\n\u001B[0;32m---> 66\u001B[0m \u001B[43mcheckforFileBlocking\u001B[49m\u001B[43m(\u001B[49m\u001B[43msrc\u001B[49m\u001B[43m)\u001B[49m\n\u001B[1;32m     67\u001B[0m shutil\u001B[38;5;241m.\u001B[39mcopytree(src, out,dirs_exist_ok\u001B[38;5;241m=\u001B[39m\u001B[38;5;28;01mTrue\u001B[39;00m)\n",
      "Cell \u001B[0;32mIn[2], line 35\u001B[0m, in \u001B[0;36mcheckforFileBlocking\u001B[0;34m(outDir)\u001B[0m\n\u001B[1;32m     33\u001B[0m     \u001B[38;5;28;01mbreak\u001B[39;00m\n\u001B[1;32m     34\u001B[0m \u001B[38;5;28;01melse\u001B[39;00m:\n\u001B[0;32m---> 35\u001B[0m     \u001B[43mtime\u001B[49m\u001B[38;5;241;43m.\u001B[39;49m\u001B[43msleep\u001B[49m\u001B[43m(\u001B[49m\u001B[38;5;241;43m1\u001B[39;49m\u001B[43m)\u001B[49m\n",
      "\u001B[0;31mKeyboardInterrupt\u001B[0m: "
     ]
    }
   ],
   "source": [
    "# RUN ALWAYS LAST!!!\n",
    "outDirBase = createOutDir('maximum_wild_card_count')\n",
    "payload = copy.deepcopy(PAYLOAD) \n",
    "maxRange = 4\n",
    "\n",
    "for i in range(maxRange):\n",
    "    printRun(i+1, maxRange)\n",
    "    outDir = createDirectory(f'{outDirBase}/{i+1}')\n",
    "    for dataset, size in [('random_10', 10)]:\n",
    "        setCommonAttributes(payload, dataset, size)\n",
    "        for maximumWildCardCount in range(5,10):\n",
    "            print(f'\\tmaximumWildCardCount={maximumWildCardCount}')\n",
    "            payload['gaParameters']['maximumWildCardCount'] = maximumWildCardCount\n",
    "            sendPayloadBlocking(payload, outDir)\n",
    "print('\\nComputation done')"
   ]
  },
  {
   "cell_type": "markdown",
   "id": "97798ccd-7d68-47f7-b0d7-28dbd43683a8",
   "metadata": {},
   "source": [
    "## 4. Orientation weights"
   ]
  },
  {
   "cell_type": "code",
   "execution_count": null,
   "id": "66717352-a835-479a-b6ae-8c5e95d3346f",
   "metadata": {
    "tags": []
   },
   "outputs": [
    {
     "name": "stdout",
     "output_type": "stream",
     "text": [
      "====== RUN 1/4 ======\n",
      "random_10\n",
      "\torientationWeights=[1, 1, 0]\n",
      "{'id': 'random_10_D0426', 'outputDirectory': '/home/slarty/Documents/master-thesis/src/impl/target/universal/stage/out/173_random_10_D0426'}\n",
      "245.26 sec\n",
      "\torientationWeights=[1, 1, 0.2]\n",
      "{'id': 'random_10_92E82', 'outputDirectory': '/home/slarty/Documents/master-thesis/src/impl/target/universal/stage/out/174_random_10_92E82'}\n",
      "232.23 sec\n",
      "\torientationWeights=[1, 1, 0.5]\n",
      "{'id': 'random_10_64C46', 'outputDirectory': '/home/slarty/Documents/master-thesis/src/impl/target/universal/stage/out/175_random_10_64C46'}\n",
      "203.20 sec\n",
      "\torientationWeights=[1, 1, 0.7]\n",
      "{'id': 'random_10_1F3BA', 'outputDirectory': '/home/slarty/Documents/master-thesis/src/impl/target/universal/stage/out/176_random_10_1F3BA'}\n",
      "203.20 sec\n",
      "\torientationWeights=[1, 1, 1]\n",
      "{'id': 'random_10_2B93B', 'outputDirectory': '/home/slarty/Documents/master-thesis/src/impl/target/universal/stage/out/177_random_10_2B93B'}\n",
      "206.21 sec\n",
      "random_20\n",
      "\torientationWeights=[1, 1, 0]\n",
      "{'id': 'random_20_82B21', 'outputDirectory': '/home/slarty/Documents/master-thesis/src/impl/target/universal/stage/out/178_random_20_82B21'}\n",
      "1009.01 sec\n",
      "\torientationWeights=[1, 1, 0.2]\n",
      "{'id': 'random_20_71E58', 'outputDirectory': '/home/slarty/Documents/master-thesis/src/impl/target/universal/stage/out/179_random_20_71E58'}\n",
      "1008.00 sec\n",
      "\torientationWeights=[1, 1, 0.5]\n",
      "{'id': 'random_20_B5E8E', 'outputDirectory': '/home/slarty/Documents/master-thesis/src/impl/target/universal/stage/out/180_random_20_B5E8E'}\n",
      "1009.00 sec\n",
      "\torientationWeights=[1, 1, 0.7]\n",
      "{'id': 'random_20_374FC', 'outputDirectory': '/home/slarty/Documents/master-thesis/src/impl/target/universal/stage/out/181_random_20_374FC'}\n",
      "1008.00 sec\n",
      "\torientationWeights=[1, 1, 1]\n",
      "{'id': 'random_20_5CA5F', 'outputDirectory': '/home/slarty/Documents/master-thesis/src/impl/target/universal/stage/out/182_random_20_5CA5F'}\n",
      "1021.02 sec\n",
      "====== RUN 2/4 ======\n",
      "random_10\n",
      "\torientationWeights=[1, 1, 0]\n",
      "{'id': 'random_10_71770', 'outputDirectory': '/home/slarty/Documents/master-thesis/src/impl/target/universal/stage/out/183_random_10_71770'}\n",
      "203.20 sec\n",
      "\torientationWeights=[1, 1, 0.2]\n",
      "{'id': 'random_10_7A370', 'outputDirectory': '/home/slarty/Documents/master-thesis/src/impl/target/universal/stage/out/184_random_10_7A370'}\n",
      "203.20 sec\n",
      "\torientationWeights=[1, 1, 0.5]\n",
      "{'id': 'random_10_12FFA', 'outputDirectory': '/home/slarty/Documents/master-thesis/src/impl/target/universal/stage/out/185_random_10_12FFA'}\n",
      "203.20 sec\n",
      "\torientationWeights=[1, 1, 0.7]\n",
      "{'id': 'random_10_06282', 'outputDirectory': '/home/slarty/Documents/master-thesis/src/impl/target/universal/stage/out/186_random_10_06282'}\n",
      "203.20 sec\n",
      "\torientationWeights=[1, 1, 1]\n",
      "{'id': 'random_10_33409', 'outputDirectory': '/home/slarty/Documents/master-thesis/src/impl/target/universal/stage/out/187_random_10_33409'}\n",
      "206.21 sec\n",
      "random_20\n",
      "\torientationWeights=[1, 1, 0]\n",
      "{'id': 'random_20_303A7', 'outputDirectory': '/home/slarty/Documents/master-thesis/src/impl/target/universal/stage/out/188_random_20_303A7'}\n",
      "1012.01 sec\n",
      "\torientationWeights=[1, 1, 0.2]\n",
      "{'id': 'random_20_A45AC', 'outputDirectory': '/home/slarty/Documents/master-thesis/src/impl/target/universal/stage/out/189_random_20_A45AC'}\n",
      "1012.01 sec\n",
      "\torientationWeights=[1, 1, 0.5]\n",
      "{'id': 'random_20_0D770', 'outputDirectory': '/home/slarty/Documents/master-thesis/src/impl/target/universal/stage/out/190_random_20_0D770'}\n",
      "1013.01 sec\n",
      "\torientationWeights=[1, 1, 0.7]\n",
      "{'id': 'random_20_5DFED', 'outputDirectory': '/home/slarty/Documents/master-thesis/src/impl/target/universal/stage/out/191_random_20_5DFED'}\n",
      "1008.01 sec\n",
      "\torientationWeights=[1, 1, 1]\n",
      "{'id': 'random_20_ACF19', 'outputDirectory': '/home/slarty/Documents/master-thesis/src/impl/target/universal/stage/out/192_random_20_ACF19'}\n",
      "1067.06 sec\n",
      "====== RUN 3/4 ======\n",
      "random_10\n",
      "\torientationWeights=[1, 1, 0]\n",
      "{'id': 'random_10_49C88', 'outputDirectory': '/home/slarty/Documents/master-thesis/src/impl/target/universal/stage/out/193_random_10_49C88'}\n",
      "203.20 sec\n",
      "\torientationWeights=[1, 1, 0.2]\n",
      "{'id': 'random_10_68285', 'outputDirectory': '/home/slarty/Documents/master-thesis/src/impl/target/universal/stage/out/194_random_10_68285'}\n",
      "203.20 sec\n",
      "\torientationWeights=[1, 1, 0.5]\n",
      "{'id': 'random_10_DCC3C', 'outputDirectory': '/home/slarty/Documents/master-thesis/src/impl/target/universal/stage/out/195_random_10_DCC3C'}\n",
      "202.20 sec\n",
      "\torientationWeights=[1, 1, 0.7]\n",
      "{'id': 'random_10_B0675', 'outputDirectory': '/home/slarty/Documents/master-thesis/src/impl/target/universal/stage/out/196_random_10_B0675'}\n",
      "203.20 sec\n",
      "\torientationWeights=[1, 1, 1]\n",
      "{'id': 'random_10_5FAE0', 'outputDirectory': '/home/slarty/Documents/master-thesis/src/impl/target/universal/stage/out/197_random_10_5FAE0'}\n",
      "206.21 sec\n",
      "random_20\n",
      "\torientationWeights=[1, 1, 0]\n",
      "{'id': 'random_20_AFC52', 'outputDirectory': '/home/slarty/Documents/master-thesis/src/impl/target/universal/stage/out/198_random_20_AFC52'}\n",
      "1094.11 sec\n",
      "\torientationWeights=[1, 1, 0.2]\n",
      "{'id': 'random_20_7FE74', 'outputDirectory': '/home/slarty/Documents/master-thesis/src/impl/target/universal/stage/out/199_random_20_7FE74'}\n"
     ]
    }
   ],
   "source": [
    "outDirBase = createOutDir('orientation_weights')\n",
    "payload = copy.deepcopy(PAYLOAD) \n",
    "maxRange = 4\n",
    "\n",
    "for i in range(maxRange):\n",
    "    printRun(i+1, maxRange)\n",
    "    outDir = createDirectory(f'{outDirBase}/{i+1}')\n",
    "    for dataset, size in [('random_10', 10), ('random_20', 20)]:\n",
    "        setCommonAttributes(payload, dataset, size)\n",
    "        for w in [0, 0.2, 0.5, 0.7, 1]:\n",
    "            orientationWeights = [1,1,w]\n",
    "            print(f'\\torientationWeights={orientationWeights}')\n",
    "            payload['gaParameters']['orientationWeights'] = orientationWeights\n",
    "            sendPayloadBlocking(payload, outDir)\n",
    "print('\\nComputation done')"
   ]
  },
  {
   "cell_type": "markdown",
   "id": "dc0202bc-4e9b-4b85-89ed-9b3be51a698e",
   "metadata": {},
   "source": [
    "## 5. Population division counts"
   ]
  },
  {
   "cell_type": "code",
   "execution_count": null,
   "id": "ed1ec11d-3e92-46bb-b13a-4a18a1ab3edc",
   "metadata": {
    "tags": []
   },
   "outputs": [],
   "source": [
    "counts =  [\n",
    "    # no random, add to children\n",
    "    {\n",
    "            \"elite\": 0.2,\n",
    "            \"average\": 0.6,\n",
    "            \"worst\": 0.2,\n",
    "            \"children\": 0.4,\n",
    "            \"mutant\": 0.2,\n",
    "            \"winner\": 0.2,\n",
    "            \"random\": 0\n",
    "        },\n",
    "    \n",
    "        # \"populationDivisionCounts\": {\n",
    "        #     \"elite\": 0.2,\n",
    "        #     \"average\": 0.6,\n",
    "        #     \"worst\": 0.2,\n",
    "        #     \"children\": 0.3,\n",
    "        #     \"mutant\": 0.2,\n",
    "        #     \"winner\": 0.2,\n",
    "        #     \"random\": 0.1\n",
    "        # },\n",
    "    # no elite, add to children and equaly to average|worst\n",
    "    {\n",
    "            \"elite\": 0.01,\n",
    "            \"average\": 0.69,\n",
    "            \"worst\": 0.3,\n",
    "            \"children\": 0.49,\n",
    "            \"mutant\": 0.2,\n",
    "            \"winner\": 0.2,\n",
    "            \"random\": 0.1\n",
    "        },\n",
    "    # no elite and random, add to children, add equaly to average|worst\n",
    "    {\n",
    "            \"elite\": 0.01,\n",
    "            \"average\": 0.69,\n",
    "            \"worst\": 0.3,\n",
    "            \"children\": 0.59,\n",
    "            \"mutant\": 0.2,\n",
    "            \"winner\": 0.2,\n",
    "            \"random\": 0\n",
    "        }\n",
    "]\n",
    "\n",
    "outDirBase = createOutDir('population_division_counts')\n",
    "payload = copy.deepcopy(PAYLOAD) \n",
    "maxRange = 4\n",
    "\n",
    "for i in range(maxRange):\n",
    "    printRun(i+1, maxRange)\n",
    "    outDir = createDirectory(f'{outDirBase}/{i+1}')\n",
    "    for dataset, size in [('random_10', 10), ('random_20', 20)]:\n",
    "        setCommonAttributes(payload, dataset, size)\n",
    "        for populationDivisionCounts in counts:\n",
    "            print(f'\\tpopulationDivisionCounts={populationDivisionCounts}')\n",
    "            payload['gaParameters']['populationDivisionCounts'] = populationDivisionCounts\n",
    "            sendPayloadBlocking(payload, outDir)\n",
    "print('\\nComputation done')"
   ]
  },
  {
   "cell_type": "markdown",
   "id": "b4fb3eb0-f618-4052-bd64-1e85c269753f",
   "metadata": {},
   "source": [
    "## 6. Initial population division counts"
   ]
  },
  {
   "cell_type": "code",
   "execution_count": null,
   "id": "11714d04-c96c-4464-93e9-270c73a570fa",
   "metadata": {
    "tags": []
   },
   "outputs": [],
   "source": [
    "outDirBase = createOutDir('initial_population_division_counts')\n",
    "payload = copy.deepcopy(PAYLOAD) \n",
    "maxRange = 4\n",
    "\n",
    "for i in range(maxRange):\n",
    "    printRun(i+1, maxRange)\n",
    "    outDir = createDirectory(f'{outDirBase}/{i+1}')\n",
    "    for dataset, size in [('random_10', 10), ('random_20', 20)]:\n",
    "        setCommonAttributes(payload, dataset, size)\n",
    "        for randomPercent in [0, 0.3, 0.5, 0.8, 1]:\n",
    "            print(f'\\trandomPercent={randomPercent}')\n",
    "            payload['gaParameters']['initialPopulationDivisionCounts']['random'] = randomPercent\n",
    "            payload['gaParameters']['initialPopulationDivisionCounts']['greedy'] = 1 - randomPercent\n",
    "            sendPayloadBlocking(payload, outDir)\n",
    "print('\\nComputation done')"
   ]
  },
  {
   "cell_type": "markdown",
   "id": "37ca8103-9e9f-4c0e-921f-73b83088cf65",
   "metadata": {
    "tags": []
   },
   "source": [
    "## 7. Overlapping penalization constant"
   ]
  },
  {
   "cell_type": "code",
   "execution_count": 3,
   "id": "30845a9c-d62c-48f1-9901-2e075d327ca3",
   "metadata": {
    "tags": []
   },
   "outputs": [
    {
     "name": "stdout",
     "output_type": "stream",
     "text": [
      "====== RUN 1/1 ======\n",
      "random_20\n",
      "\tscalingFactor=3, overlappingPenalizationConstant=119.47\n",
      "{'id': 'random_20_3CA55', 'outputDirectory': '/home/slarty/Documents/master-thesis/src/impl/target/universal/stage/out/316_random_20_3CA55'}\n",
      "1043.08 sec\n",
      "\tscalingFactor=4, overlappingPenalizationConstant=159.30\n",
      "{'id': 'random_20_585CA', 'outputDirectory': '/home/slarty/Documents/master-thesis/src/impl/target/universal/stage/out/317_random_20_585CA'}\n",
      "1118.15 sec\n",
      "\n",
      "Computation done\n"
     ]
    }
   ],
   "source": [
    "outDirBase = createOutDir('overlapping_penalization_constant')\n",
    "payload = copy.deepcopy(PAYLOAD) \n",
    "maxRange = 4\n",
    "\n",
    "for i in range(maxRange):\n",
    "    printRun(i+1, maxRange)\n",
    "    outDir = createDirectory(f'{outDirBase}/{i+1}')\n",
    "    for dataset, size in [('random_10', 10), ('random_20', 20)]:\n",
    "        setCommonAttributes(payload, dataset, size)\n",
    "        for scalingFactor in [0.5, 1, 2, 3, 4]:\n",
    "            overlappingPenalizationConstant = calculateLayoutDiagonalLen(dataset) * scalingFactor\n",
    "            print(f'\\tscalingFactor={scalingFactor}, overlappingPenalizationConstant={overlappingPenalizationConstant:.2f}')\n",
    "            payload['objectiveParameters']['params']['overlappingPenalizationConstant'] = overlappingPenalizationConstant\n",
    "            sendPayloadBlocking(payload, outDir)\n",
    "print('\\nComputation done')"
   ]
  },
  {
   "cell_type": "markdown",
   "id": "7785b772-457a-496e-8b16-ec11f5ae021b",
   "metadata": {},
   "source": [
    "## 8. Outside of allocated area penalization constant"
   ]
  },
  {
   "cell_type": "code",
   "execution_count": null,
   "id": "7e221b61-2155-4334-a4e1-0615006331ec",
   "metadata": {
    "tags": []
   },
   "outputs": [
    {
     "name": "stdout",
     "output_type": "stream",
     "text": [
      "====== RUN 1/5 ======\n",
      "random_10\n",
      "\tscalingFactor=0, overlappingPenalizationConstant=0.00\n",
      "{'id': 'random_10_25D0C', 'outputDirectory': '/home/slarty/Documents/master-thesis/src/impl/target/universal/stage/out/395_random_10_25D0C'}\n",
      "182.18 sec\n",
      "\tscalingFactor=10, overlappingPenalizationConstant=306.10\n",
      "{'id': 'random_10_ED053', 'outputDirectory': '/home/slarty/Documents/master-thesis/src/impl/target/universal/stage/out/396_random_10_ED053'}\n",
      "181.18 sec\n",
      "\tscalingFactor=50, overlappingPenalizationConstant=1530.52\n",
      "{'id': 'random_10_F1675', 'outputDirectory': '/home/slarty/Documents/master-thesis/src/impl/target/universal/stage/out/397_random_10_F1675'}\n",
      "182.18 sec\n",
      "random_20\n",
      "\tscalingFactor=0, overlappingPenalizationConstant=0.00\n",
      "{'id': 'random_20_E2A5C', 'outputDirectory': '/home/slarty/Documents/master-thesis/src/impl/target/universal/stage/out/398_random_20_E2A5C'}\n",
      "946.96 sec\n",
      "\tscalingFactor=10, overlappingPenalizationConstant=398.25\n",
      "{'id': 'random_20_97EE8', 'outputDirectory': '/home/slarty/Documents/master-thesis/src/impl/target/universal/stage/out/399_random_20_97EE8'}\n",
      "973.00 sec\n",
      "\tscalingFactor=50, overlappingPenalizationConstant=1991.23\n",
      "{'id': 'random_20_8C25E', 'outputDirectory': '/home/slarty/Documents/master-thesis/src/impl/target/universal/stage/out/400_random_20_8C25E'}\n",
      "971.01 sec\n",
      "====== RUN 2/5 ======\n",
      "random_10\n",
      "\tscalingFactor=0, overlappingPenalizationConstant=0.00\n",
      "{'id': 'random_10_7D071', 'outputDirectory': '/home/slarty/Documents/master-thesis/src/impl/target/universal/stage/out/401_random_10_7D071'}\n",
      "186.20 sec\n",
      "\tscalingFactor=10, overlappingPenalizationConstant=306.10\n",
      "{'id': 'random_10_6FBC4', 'outputDirectory': '/home/slarty/Documents/master-thesis/src/impl/target/universal/stage/out/402_random_10_6FBC4'}\n",
      "190.19 sec\n",
      "\tscalingFactor=50, overlappingPenalizationConstant=1530.52\n",
      "{'id': 'random_10_25D51', 'outputDirectory': '/home/slarty/Documents/master-thesis/src/impl/target/universal/stage/out/403_random_10_25D51'}\n",
      "181.18 sec\n",
      "random_20\n",
      "\tscalingFactor=0, overlappingPenalizationConstant=0.00\n",
      "{'id': 'random_20_F5EE7', 'outputDirectory': '/home/slarty/Documents/master-thesis/src/impl/target/universal/stage/out/404_random_20_F5EE7'}\n",
      "964.01 sec\n",
      "\tscalingFactor=10, overlappingPenalizationConstant=398.25\n",
      "{'id': 'random_20_FE603', 'outputDirectory': '/home/slarty/Documents/master-thesis/src/impl/target/universal/stage/out/405_random_20_FE603'}\n",
      "941.96 sec\n",
      "\tscalingFactor=50, overlappingPenalizationConstant=1991.23\n",
      "{'id': 'random_20_F3DA0', 'outputDirectory': '/home/slarty/Documents/master-thesis/src/impl/target/universal/stage/out/406_random_20_F3DA0'}\n",
      "890.89 sec\n",
      "====== RUN 3/5 ======\n",
      "random_10\n",
      "\tscalingFactor=0, overlappingPenalizationConstant=0.00\n",
      "{'id': 'random_10_7E626', 'outputDirectory': '/home/slarty/Documents/master-thesis/src/impl/target/universal/stage/out/407_random_10_7E626'}\n",
      "172.17 sec\n",
      "\tscalingFactor=10, overlappingPenalizationConstant=306.10\n",
      "{'id': 'random_10_59D57', 'outputDirectory': '/home/slarty/Documents/master-thesis/src/impl/target/universal/stage/out/408_random_10_59D57'}\n",
      "172.17 sec\n",
      "\tscalingFactor=50, overlappingPenalizationConstant=1530.52\n",
      "{'id': 'random_10_9708B', 'outputDirectory': '/home/slarty/Documents/master-thesis/src/impl/target/universal/stage/out/409_random_10_9708B'}\n",
      "182.18 sec\n",
      "random_20\n",
      "\tscalingFactor=0, overlappingPenalizationConstant=0.00\n",
      "{'id': 'random_20_AED66', 'outputDirectory': '/home/slarty/Documents/master-thesis/src/impl/target/universal/stage/out/410_random_20_AED66'}\n",
      "1031.05 sec\n",
      "\tscalingFactor=10, overlappingPenalizationConstant=398.25\n",
      "{'id': 'random_20_E4C9A', 'outputDirectory': '/home/slarty/Documents/master-thesis/src/impl/target/universal/stage/out/411_random_20_E4C9A'}\n",
      "1001.05 sec\n",
      "\tscalingFactor=50, overlappingPenalizationConstant=1991.23\n",
      "{'id': 'random_20_74B19', 'outputDirectory': '/home/slarty/Documents/master-thesis/src/impl/target/universal/stage/out/412_random_20_74B19'}\n"
     ]
    }
   ],
   "source": [
    "# TODO1: run this again for zero\n",
    "# TODO2: run this for 10 and 50 (or some other big numbers)\n",
    "outDirBase = createOutDir('outside_of_allocated_area_penalization_constant')\n",
    "payload = copy.deepcopy(PAYLOAD) \n",
    "maxRange = 5\n",
    "\n",
    "for i in range(maxRange):\n",
    "    printRun(i+1, maxRange)\n",
    "    outDir = createDirectory(f'{outDirBase}/{i+1}')\n",
    "    for dataset, size in [('random_10', 10), ('random_20', 20)]:\n",
    "        setCommonAttributes(payload, dataset, size)\n",
    "        for scalingFactor in [0,10,50]:\n",
    "            outsideOfAllocatedAreaPenalizationConstant = calculateLayoutDiagonalLen(dataset) * scalingFactor\n",
    "            print(f'\\tscalingFactor={scalingFactor}, overlappingPenalizationConstant={outsideOfAllocatedAreaPenalizationConstant:.2f}')\n",
    "            payload['objectiveParameters']['params']['outsideOfAllocatedAreaPenalizationConstant'] = outsideOfAllocatedAreaPenalizationConstant\n",
    "            sendPayloadBlocking(payload, outDir)\n",
    "print('\\nComputation done')"
   ]
  },
  {
   "cell_type": "markdown",
   "id": "8630f5b3-a424-42ed-b72e-ab5449097d7f",
   "metadata": {},
   "source": [
    "# Measurements"
   ]
  },
  {
   "cell_type": "markdown",
   "id": "8b784701-d588-420b-855b-d00c0fbf2181",
   "metadata": {
    "jp-MarkdownHeadingCollapsed": true,
    "tags": []
   },
   "source": [
    "## Population size x best solution"
   ]
  },
  {
   "cell_type": "code",
   "execution_count": 15,
   "id": "8878b108-5bcf-406e-9f6d-ce98d444bf13",
   "metadata": {
    "collapsed": true,
    "jupyter": {
     "outputs_hidden": true
    },
    "tags": []
   },
   "outputs": [
    {
     "name": "stdout",
     "output_type": "stream",
     "text": [
      "====== RUN 1/5 ======\n",
      "{'id': 'cluster_3_10_3E78A', 'outputDirectory': '/home/slarty/Documents/master-thesis/src/impl/target/universal/stage/out/008_cluster_3_10_3E78A'}\n"
     ]
    },
    {
     "ename": "KeyboardInterrupt",
     "evalue": "",
     "output_type": "error",
     "traceback": [
      "\u001B[0;31m---------------------------------------------------------------------------\u001B[0m",
      "\u001B[0;31mKeyboardInterrupt\u001B[0m                         Traceback (most recent call last)",
      "Cell \u001B[0;32mIn[15], line 13\u001B[0m\n\u001B[1;32m     11\u001B[0m         payload[\u001B[38;5;124m'\u001B[39m\u001B[38;5;124mgaParameters\u001B[39m\u001B[38;5;124m'\u001B[39m][\u001B[38;5;124m'\u001B[39m\u001B[38;5;124mpopulationSize\u001B[39m\u001B[38;5;124m'\u001B[39m] \u001B[38;5;241m=\u001B[39m size \u001B[38;5;241m*\u001B[39m \u001B[38;5;241m50\u001B[39m\n\u001B[1;32m     12\u001B[0m         payload[\u001B[38;5;124m'\u001B[39m\u001B[38;5;124mgaParameters\u001B[39m\u001B[38;5;124m'\u001B[39m][\u001B[38;5;124m'\u001B[39m\u001B[38;5;124mmaxNumberOfIter\u001B[39m\u001B[38;5;124m'\u001B[39m] \u001B[38;5;241m=\u001B[39m \u001B[38;5;241m30\u001B[39m\n\u001B[0;32m---> 13\u001B[0m         \u001B[43msendPayloadBlocking\u001B[49m\u001B[43m(\u001B[49m\u001B[43mpayload\u001B[49m\u001B[43m,\u001B[49m\u001B[43m \u001B[49m\u001B[43moutDir\u001B[49m\u001B[43m)\u001B[49m\n\u001B[1;32m     15\u001B[0m \u001B[38;5;28mprint\u001B[39m(\u001B[38;5;124m'\u001B[39m\u001B[38;5;130;01m\\n\u001B[39;00m\u001B[38;5;124mComputation done\u001B[39m\u001B[38;5;124m'\u001B[39m)\n",
      "Cell \u001B[0;32mIn[14], line 58\u001B[0m, in \u001B[0;36msendPayloadBlocking\u001B[0;34m(payload, outDir)\u001B[0m\n\u001B[1;32m     56\u001B[0m src \u001B[38;5;241m=\u001B[39m r\u001B[38;5;241m.\u001B[39mjson()[\u001B[38;5;124m'\u001B[39m\u001B[38;5;124moutputDirectory\u001B[39m\u001B[38;5;124m'\u001B[39m] \n\u001B[1;32m     57\u001B[0m savePayload(payload, outDir)\n\u001B[0;32m---> 58\u001B[0m \u001B[43mcheckforFileBlocking\u001B[49m\u001B[43m(\u001B[49m\u001B[43msrc\u001B[49m\u001B[43m)\u001B[49m\n\u001B[1;32m     59\u001B[0m shutil\u001B[38;5;241m.\u001B[39mcopytree(src, outDir \u001B[38;5;241m+\u001B[39m \u001B[38;5;124m'\u001B[39m\u001B[38;5;124m/\u001B[39m\u001B[38;5;124m'\u001B[39m \u001B[38;5;241m+\u001B[39m src\u001B[38;5;241m.\u001B[39msplit(\u001B[38;5;124m'\u001B[39m\u001B[38;5;124m/\u001B[39m\u001B[38;5;124m'\u001B[39m)[\u001B[38;5;241m-\u001B[39m\u001B[38;5;241m1\u001B[39m])\n",
      "Cell \u001B[0;32mIn[14], line 35\u001B[0m, in \u001B[0;36mcheckforFileBlocking\u001B[0;34m(outDir)\u001B[0m\n\u001B[1;32m     33\u001B[0m     \u001B[38;5;28;01mbreak\u001B[39;00m\n\u001B[1;32m     34\u001B[0m \u001B[38;5;28;01melse\u001B[39;00m:\n\u001B[0;32m---> 35\u001B[0m     \u001B[43mtime\u001B[49m\u001B[38;5;241;43m.\u001B[39;49m\u001B[43msleep\u001B[49m\u001B[43m(\u001B[49m\u001B[38;5;241;43m1\u001B[39;49m\u001B[43m)\u001B[49m\n",
      "\u001B[0;31mKeyboardInterrupt\u001B[0m: "
     ]
    }
   ],
   "source": [
    "outDirBase = createOutDir('population_size')\n",
    "payload = copy.deepcopy(PAYLOAD) \n",
    "maxRange = 5\n",
    "\n",
    "for i in range(maxRange):\n",
    "    printRun(i+1, maxRange)\n",
    "    outDir = createDirectory(f'{outDirBase}/{i+1}')\n",
    "    for dataset, size in [('cluster_3_10', 30), ('cluster_4_20',80)]:\n",
    "        setOverlappingConstant(payload, dataset)\n",
    "        payload['datasetName'] = dataset\n",
    "        payload['gaParameters']['populationSize'] = size * 50\n",
    "        payload['gaParameters']['maxNumberOfIter'] = 30\n",
    "        sendPayloadBlocking(payload, outDir)\n",
    "\n",
    "print('\\nComputation done')"
   ]
  },
  {
   "cell_type": "markdown",
   "id": "0b65c33d-d92b-4c24-a870-c266fb5c2ac4",
   "metadata": {
    "jp-MarkdownHeadingCollapsed": true,
    "tags": []
   },
   "source": [
    "## Overlapping Penalization Constant"
   ]
  },
  {
   "cell_type": "code",
   "execution_count": 11,
   "id": "eed859ec-b3c1-4fc2-9e6a-0ad424f46709",
   "metadata": {
    "tags": []
   },
   "outputs": [
    {
     "name": "stdout",
     "output_type": "stream",
     "text": [
      "====== RUN 1/5 ======\n",
      "random_10, 2\n",
      "{'id': 'random_10_D9842', 'outputDirectory': '/home/slarty/Documents/master-thesis/src/impl/target/universal/stage/out/094_random_10_D9842'}\n",
      "113.12 sec\n",
      "random_10, 3\n",
      "{'id': 'random_10_73195', 'outputDirectory': '/home/slarty/Documents/master-thesis/src/impl/target/universal/stage/out/095_random_10_73195'}\n",
      "114.11 sec\n",
      "random_10, 4\n",
      "{'id': 'random_10_AD7EE', 'outputDirectory': '/home/slarty/Documents/master-thesis/src/impl/target/universal/stage/out/096_random_10_AD7EE'}\n",
      "113.11 sec\n",
      "random_10, 6\n",
      "{'id': 'random_10_68D8F', 'outputDirectory': '/home/slarty/Documents/master-thesis/src/impl/target/universal/stage/out/097_random_10_68D8F'}\n",
      "113.11 sec\n",
      "packing_10, 2\n",
      "{'id': 'packing_10_1457A', 'outputDirectory': '/home/slarty/Documents/master-thesis/src/impl/target/universal/stage/out/098_packing_10_1457A'}\n",
      "94.09 sec\n",
      "packing_10, 3\n",
      "{'id': 'packing_10_B0ACF', 'outputDirectory': '/home/slarty/Documents/master-thesis/src/impl/target/universal/stage/out/099_packing_10_B0ACF'}\n",
      "98.10 sec\n",
      "packing_10, 4\n",
      "{'id': 'packing_10_31E31', 'outputDirectory': '/home/slarty/Documents/master-thesis/src/impl/target/universal/stage/out/100_packing_10_31E31'}\n",
      "98.10 sec\n",
      "packing_10, 6\n",
      "{'id': 'packing_10_B6ED8', 'outputDirectory': '/home/slarty/Documents/master-thesis/src/impl/target/universal/stage/out/101_packing_10_B6ED8'}\n",
      "95.10 sec\n",
      "====== RUN 2/5 ======\n",
      "random_10, 2\n",
      "{'id': 'random_10_F053F', 'outputDirectory': '/home/slarty/Documents/master-thesis/src/impl/target/universal/stage/out/102_random_10_F053F'}\n",
      "112.11 sec\n",
      "random_10, 3\n",
      "{'id': 'random_10_BC355', 'outputDirectory': '/home/slarty/Documents/master-thesis/src/impl/target/universal/stage/out/103_random_10_BC355'}\n",
      "115.12 sec\n",
      "random_10, 4\n",
      "{'id': 'random_10_F41FE', 'outputDirectory': '/home/slarty/Documents/master-thesis/src/impl/target/universal/stage/out/104_random_10_F41FE'}\n",
      "113.11 sec\n",
      "random_10, 6\n",
      "{'id': 'random_10_0FFE6', 'outputDirectory': '/home/slarty/Documents/master-thesis/src/impl/target/universal/stage/out/105_random_10_0FFE6'}\n",
      "116.12 sec\n",
      "packing_10, 2\n",
      "{'id': 'packing_10_69C41', 'outputDirectory': '/home/slarty/Documents/master-thesis/src/impl/target/universal/stage/out/106_packing_10_69C41'}\n",
      "99.10 sec\n",
      "packing_10, 3\n",
      "{'id': 'packing_10_39098', 'outputDirectory': '/home/slarty/Documents/master-thesis/src/impl/target/universal/stage/out/107_packing_10_39098'}\n",
      "97.10 sec\n",
      "packing_10, 4\n",
      "{'id': 'packing_10_D930E', 'outputDirectory': '/home/slarty/Documents/master-thesis/src/impl/target/universal/stage/out/108_packing_10_D930E'}\n",
      "99.10 sec\n",
      "packing_10, 6\n",
      "{'id': 'packing_10_FAEE6', 'outputDirectory': '/home/slarty/Documents/master-thesis/src/impl/target/universal/stage/out/109_packing_10_FAEE6'}\n",
      "98.10 sec\n",
      "====== RUN 3/5 ======\n",
      "random_10, 2\n",
      "{'id': 'random_10_D9A50', 'outputDirectory': '/home/slarty/Documents/master-thesis/src/impl/target/universal/stage/out/110_random_10_D9A50'}\n",
      "118.12 sec\n",
      "random_10, 3\n",
      "{'id': 'random_10_2E482', 'outputDirectory': '/home/slarty/Documents/master-thesis/src/impl/target/universal/stage/out/111_random_10_2E482'}\n",
      "116.12 sec\n",
      "random_10, 4\n",
      "{'id': 'random_10_CA97C', 'outputDirectory': '/home/slarty/Documents/master-thesis/src/impl/target/universal/stage/out/112_random_10_CA97C'}\n",
      "115.12 sec\n",
      "random_10, 6\n",
      "{'id': 'random_10_8E5CE', 'outputDirectory': '/home/slarty/Documents/master-thesis/src/impl/target/universal/stage/out/113_random_10_8E5CE'}\n",
      "114.11 sec\n",
      "packing_10, 2\n",
      "{'id': 'packing_10_B254D', 'outputDirectory': '/home/slarty/Documents/master-thesis/src/impl/target/universal/stage/out/114_packing_10_B254D'}\n",
      "96.10 sec\n",
      "packing_10, 3\n",
      "{'id': 'packing_10_A006F', 'outputDirectory': '/home/slarty/Documents/master-thesis/src/impl/target/universal/stage/out/115_packing_10_A006F'}\n",
      "96.10 sec\n",
      "packing_10, 4\n",
      "{'id': 'packing_10_E3A48', 'outputDirectory': '/home/slarty/Documents/master-thesis/src/impl/target/universal/stage/out/116_packing_10_E3A48'}\n",
      "97.10 sec\n",
      "packing_10, 6\n",
      "{'id': 'packing_10_C4752', 'outputDirectory': '/home/slarty/Documents/master-thesis/src/impl/target/universal/stage/out/117_packing_10_C4752'}\n",
      "98.10 sec\n",
      "====== RUN 4/5 ======\n",
      "random_10, 2\n",
      "{'id': 'random_10_82529', 'outputDirectory': '/home/slarty/Documents/master-thesis/src/impl/target/universal/stage/out/118_random_10_82529'}\n",
      "117.12 sec\n",
      "random_10, 3\n",
      "{'id': 'random_10_D29B1', 'outputDirectory': '/home/slarty/Documents/master-thesis/src/impl/target/universal/stage/out/119_random_10_D29B1'}\n",
      "112.11 sec\n",
      "random_10, 4\n",
      "{'id': 'random_10_4C821', 'outputDirectory': '/home/slarty/Documents/master-thesis/src/impl/target/universal/stage/out/120_random_10_4C821'}\n",
      "112.11 sec\n",
      "random_10, 6\n",
      "{'id': 'random_10_0DF12', 'outputDirectory': '/home/slarty/Documents/master-thesis/src/impl/target/universal/stage/out/121_random_10_0DF12'}\n",
      "130.13 sec\n",
      "packing_10, 2\n",
      "{'id': 'packing_10_EF48D', 'outputDirectory': '/home/slarty/Documents/master-thesis/src/impl/target/universal/stage/out/122_packing_10_EF48D'}\n",
      "117.12 sec\n",
      "packing_10, 3\n",
      "{'id': 'packing_10_B716C', 'outputDirectory': '/home/slarty/Documents/master-thesis/src/impl/target/universal/stage/out/123_packing_10_B716C'}\n",
      "118.12 sec\n",
      "packing_10, 4\n",
      "{'id': 'packing_10_20BA9', 'outputDirectory': '/home/slarty/Documents/master-thesis/src/impl/target/universal/stage/out/124_packing_10_20BA9'}\n",
      "102.10 sec\n",
      "packing_10, 6\n",
      "{'id': 'packing_10_822E8', 'outputDirectory': '/home/slarty/Documents/master-thesis/src/impl/target/universal/stage/out/125_packing_10_822E8'}\n",
      "98.10 sec\n",
      "====== RUN 5/5 ======\n",
      "random_10, 2\n",
      "{'id': 'random_10_BB119', 'outputDirectory': '/home/slarty/Documents/master-thesis/src/impl/target/universal/stage/out/126_random_10_BB119'}\n",
      "119.12 sec\n",
      "random_10, 3\n",
      "{'id': 'random_10_83BDF', 'outputDirectory': '/home/slarty/Documents/master-thesis/src/impl/target/universal/stage/out/127_random_10_83BDF'}\n",
      "113.11 sec\n",
      "random_10, 4\n",
      "{'id': 'random_10_EDF55', 'outputDirectory': '/home/slarty/Documents/master-thesis/src/impl/target/universal/stage/out/128_random_10_EDF55'}\n",
      "113.11 sec\n",
      "random_10, 6\n",
      "{'id': 'random_10_7AB40', 'outputDirectory': '/home/slarty/Documents/master-thesis/src/impl/target/universal/stage/out/129_random_10_7AB40'}\n",
      "112.11 sec\n",
      "packing_10, 2\n",
      "{'id': 'packing_10_9D69B', 'outputDirectory': '/home/slarty/Documents/master-thesis/src/impl/target/universal/stage/out/130_packing_10_9D69B'}\n",
      "95.09 sec\n",
      "packing_10, 3\n",
      "{'id': 'packing_10_94957', 'outputDirectory': '/home/slarty/Documents/master-thesis/src/impl/target/universal/stage/out/131_packing_10_94957'}\n",
      "95.10 sec\n",
      "packing_10, 4\n",
      "{'id': 'packing_10_CA764', 'outputDirectory': '/home/slarty/Documents/master-thesis/src/impl/target/universal/stage/out/132_packing_10_CA764'}\n",
      "97.10 sec\n",
      "packing_10, 6\n",
      "{'id': 'packing_10_E5631', 'outputDirectory': '/home/slarty/Documents/master-thesis/src/impl/target/universal/stage/out/133_packing_10_E5631'}\n",
      "96.10 sec\n",
      "\n",
      "Computation done\n"
     ]
    }
   ],
   "source": [
    "outDirBase = createOutDir('overlapping_penalization_constant')\n",
    "payload = copy.deepcopy(PAYLOAD) \n",
    "maxRange = 5\n",
    "\n",
    "def getLayoutWidthAndHeight(dataset):\n",
    "    with open(findDataset(dataset), 'r') as file:\n",
    "        layout = json.load(file)['data']['layout']\n",
    "    return layout['width'], layout['height']\n",
    "\n",
    "def calculateDiagonalLength(dataset):\n",
    "    w,h = getLayoutWidthAndHeight(dataset)\n",
    "    return math.sqrt(w**2 + h**2)\n",
    "\n",
    "\n",
    "def setOverlappingConstant(data, dataset):\n",
    "    with open(findDataset(dataset), 'r') as file:\n",
    "        layout = json.load(file)['data']['layout']\n",
    "    data['objectiveParameters']['params']['overlappingPenalizationConstant'] = math.sqrt(layout['width']**2 + layout['height']**2) * 4\n",
    "    \n",
    "for i in range(maxRange):\n",
    "    printRun(i+1, maxRange)\n",
    "    outDir = createDirectory(f'{outDirBase}/{i+1}')\n",
    "    for dataset, size in [('random_10', 10), ('packing_10', 10)]:\n",
    "        for k in [2, 3, 4, 6]:\n",
    "            print(f'{dataset}, {k}')\n",
    "            payload['datasetName'] = dataset\n",
    "            payload['objectiveParameters']['params']['overlappingPenalizationConstant'] = calculateDiagonalLength(dataset) * k\n",
    "            payload['gaParameters']['populationSize'] = size * 50\n",
    "            payload['gaParameters']['maxNumberOfIter'] = 300\n",
    "            payload['gaParameters']['maximumWildCardCount'] = 0\n",
    "            sendPayloadBlocking(payload, outDir)\n",
    "\n",
    "print('\\nComputation done')"
   ]
  },
  {
   "cell_type": "markdown",
   "id": "16b57218-e35b-441e-9138-c5e56ad38a9f",
   "metadata": {},
   "source": [
    "## Random"
   ]
  },
  {
   "cell_type": "code",
   "execution_count": 20,
   "id": "85a761c6-9663-46dd-94db-bc32965e4ce8",
   "metadata": {
    "tags": []
   },
   "outputs": [
    {
     "name": "stdout",
     "output_type": "stream",
     "text": [
      "====== RUN 1/1 ======\n",
      "{'id': 'random_20_FDC76', 'outputDirectory': '/home/slarty/Documents/master-thesis/src/impl/target/universal/stage/out/148_random_20_FDC76'}\n",
      "990.00 sec\n",
      "\n",
      "Computation done\n"
     ]
    }
   ],
   "source": [
    "outDirBase = createOutDir('random')\n",
    "payload = copy.deepcopy(PAYLOAD) \n",
    "maxRange = 1\n",
    "\n",
    "for i in range(maxRange):\n",
    "    printRun(i+1, maxRange)\n",
    "    outDir = createDirectory(f'{outDirBase}/{i+1}')\n",
    "    for dataset, size in [('random_20',20)]:\n",
    "        setOverlappingConstant(payload, dataset)\n",
    "        payload['datasetName'] = dataset\n",
    "        payload['gaParameters']['populationSize'] = size * 50\n",
    "        payload['gaParameters']['maxNumberOfIter'] = 300\n",
    "        payload['gaParameters']['maximumWildCardCount'] = 1\n",
    "        payload['objectiveParameters']['params']['overlappingPenalizationConstant'] = calculateDiagonalLength(dataset) * 8\n",
    "        sendPayloadBlocking(payload, outDir)\n",
    "\n",
    "print('\\nComputation done')"
   ]
  },
  {
   "cell_type": "markdown",
   "id": "0c3105c0-5ae2-42b8-b9af-158589fa1c89",
   "metadata": {},
   "source": [
    "## Cluster"
   ]
  },
  {
   "cell_type": "code",
   "execution_count": 22,
   "id": "e6cf0c9e",
   "metadata": {
    "tags": []
   },
   "outputs": [
    {
     "name": "stdout",
     "output_type": "stream",
     "text": [
      "====== RUN 1/1 ======\n",
      "cluster_4_5\n",
      "{'id': 'cluster_4_5_606A8', 'outputDirectory': '/home/slarty/Documents/master-thesis/src/impl/target/universal/stage/out/150_cluster_4_5_606A8'}\n",
      "855.86 sec\n",
      "\n",
      "Computation done\n"
     ]
    }
   ],
   "source": [
    "outDirBase = createOutDir('cluster')\n",
    "payload = copy.deepcopy(PAYLOAD) \n",
    "maxRange = 1\n",
    "\n",
    "# 10.4 - testing maximum wild card count = 1\n",
    "for i in range(maxRange):\n",
    "    printRun(i+1, maxRange)\n",
    "    outDir = createDirectory(f'{outDirBase}/{i+1}')\n",
    "    # for dataset, size in [('cluster_3_6', 18)]:\n",
    "    for dataset, size in [('cluster_4_5', 20)]:\n",
    "        print(f'{dataset}')\n",
    "        payload['datasetName'] = dataset\n",
    "        payload['gaParameters']['populationSize'] = size * 50\n",
    "        payload['gaParameters']['maxNumberOfIter'] = 300\n",
    "        payload['gaParameters']['maximumWildCardCount'] = 1\n",
    "        payload['objectiveParameters']['params']['overlappingPenalizationConstant'] = calculateDiagonalLength(dataset) * 8\n",
    "        sendPayloadBlocking(payload, outDir)\n",
    "\n",
    "print('\\nComputation done')"
   ]
  },
  {
   "cell_type": "markdown",
   "id": "30fe324e-2495-47ed-9ff7-34da411c14df",
   "metadata": {},
   "source": [
    "## Packing"
   ]
  },
  {
   "cell_type": "code",
   "execution_count": null,
   "id": "9eb871a1-a38c-46ae-9bbd-530cdeb13a88",
   "metadata": {
    "tags": []
   },
   "outputs": [],
   "source": [
    "outDirBase = createOutDir('packing')\n",
    "payload = copy.deepcopy(PAYLOAD) \n",
    "maxRange = 5\n",
    "\n",
    "for i in range(maxRange):\n",
    "    printRun(i+1, maxRange)\n",
    "    outDir = createDirectory(f'{outDirBase}/{i+1}')\n",
    "    for dataset, size in [('packing_10',10), ('packing_20',20)]:\n",
    "        setOverlappingConstant(payload, dataset)\n",
    "        payload['datasetName'] = dataset\n",
    "        payload['gaParameters']['populationSize'] = size * 100\n",
    "        payload['gaParameters']['maxNumberOfIter'] = 1000\n",
    "        sendPayloadBlocking(payload, outDir)\n",
    "\n",
    "print('\\nComputation done')"
   ]
  },
  {
   "cell_type": "markdown",
   "id": "00593006-fc74-4103-869d-78b965f43b96",
   "metadata": {},
   "source": [
    "## Biased sparse cluster"
   ]
  },
  {
   "cell_type": "code",
   "execution_count": 25,
   "id": "a8107c17-e005-4ea5-9b0b-94b8de5cb303",
   "metadata": {
    "tags": []
   },
   "outputs": [
    {
     "name": "stdout",
     "output_type": "stream",
     "text": [
      "====== RUN 1/1 ======\n",
      "maximumWildCardCount=2, dataset=biased_sparse_cluster_3_5\n",
      "{'id': 'biased_sparse_cluster_3_5_F769D', 'outputDirectory': '/home/slarty/Documents/master-thesis/src/impl/target/universal/stage/out/152_biased_sparse_cluster_3_5_F769D'}\n",
      "686.71 sec\n",
      "\n",
      "Computation done\n"
     ]
    }
   ],
   "source": [
    "outDirBase = createOutDir('biased_sparse_cluster')\n",
    "payload = copy.deepcopy(PAYLOAD) \n",
    "maxRange = 1\n",
    "\n",
    "for i in range(maxRange):\n",
    "    printRun(i+1, maxRange)\n",
    "    outDir = createDirectory(f'{outDirBase}/{i+1}')\n",
    "    for dataset, size in [('biased_sparse_cluster_3_5', 15)]:\n",
    "        print(f'maximumWildCardCount={maximumWildCardCount}, dataset={dataset}')\n",
    "        payload['datasetName'] = dataset\n",
    "        payload['gaParameters']['maxNumberOfIter'] = 300\n",
    "        payload['gaParameters']['populationSize'] = size * 50\n",
    "        payload['gaParameters']['maximumWildCardCount'] = 1\n",
    "        payload['objectiveParameters']['params']['overlappingPenalizationConstant'] = calculateDiagonalLength(dataset) * 8\n",
    "        sendPayloadBlocking(payload, outDir)\n",
    "\n",
    "print('\\nComputation done')"
   ]
  },
  {
   "cell_type": "markdown",
   "id": "8e114761-1139-4cf8-abcf-d439a7411d97",
   "metadata": {},
   "source": [
    "## Maximum wild card count vs computation time"
   ]
  },
  {
   "cell_type": "code",
   "execution_count": 13,
   "id": "b95fe0d9-68ab-4cd4-8cae-c88ff0dcdc9d",
   "metadata": {
    "tags": []
   },
   "outputs": [
    {
     "name": "stdout",
     "output_type": "stream",
     "text": [
      "====== RUN 1/5 ======\n",
      "0\n",
      "{'id': 'packing_10_9D560', 'outputDirectory': '/home/slarty/Documents/master-thesis/src/impl/target/universal/stage/out/139_packing_10_9D560'}\n",
      "180.18 sec\n",
      "1\n",
      "{'id': 'packing_10_4B0EB', 'outputDirectory': '/home/slarty/Documents/master-thesis/src/impl/target/universal/stage/out/140_packing_10_4B0EB'}\n",
      "309.31 sec\n",
      "2\n",
      "{'id': 'packing_10_94F18', 'outputDirectory': '/home/slarty/Documents/master-thesis/src/impl/target/universal/stage/out/141_packing_10_94F18'}\n"
     ]
    },
    {
     "ename": "KeyboardInterrupt",
     "evalue": "",
     "output_type": "error",
     "traceback": [
      "\u001B[0;31m---------------------------------------------------------------------------\u001B[0m",
      "\u001B[0;31mKeyboardInterrupt\u001B[0m                         Traceback (most recent call last)",
      "Cell \u001B[0;32mIn[13], line 17\u001B[0m\n\u001B[1;32m     15\u001B[0m             \u001B[38;5;28mprint\u001B[39m(maximumWildCardCount)\n\u001B[1;32m     16\u001B[0m             payload[\u001B[38;5;124m'\u001B[39m\u001B[38;5;124mgaParameters\u001B[39m\u001B[38;5;124m'\u001B[39m][\u001B[38;5;124m'\u001B[39m\u001B[38;5;124mmaximumWildCardCount\u001B[39m\u001B[38;5;124m'\u001B[39m] \u001B[38;5;241m=\u001B[39m maximumWildCardCount\n\u001B[0;32m---> 17\u001B[0m             \u001B[43msendPayloadBlocking\u001B[49m\u001B[43m(\u001B[49m\u001B[43mpayload\u001B[49m\u001B[43m,\u001B[49m\u001B[43m \u001B[49m\u001B[43moutDir\u001B[49m\u001B[43m)\u001B[49m\n\u001B[1;32m     19\u001B[0m \u001B[38;5;28mprint\u001B[39m(\u001B[38;5;124m'\u001B[39m\u001B[38;5;130;01m\\n\u001B[39;00m\u001B[38;5;124mComputation done\u001B[39m\u001B[38;5;124m'\u001B[39m)\n",
      "Cell \u001B[0;32mIn[7], line 53\u001B[0m, in \u001B[0;36msendPayloadBlocking\u001B[0;34m(payload, outDir)\u001B[0m\n\u001B[1;32m     51\u001B[0m \u001B[38;5;28mprint\u001B[39m(r\u001B[38;5;241m.\u001B[39mjson())\n\u001B[1;32m     52\u001B[0m src \u001B[38;5;241m=\u001B[39m r\u001B[38;5;241m.\u001B[39mjson()[\u001B[38;5;124m'\u001B[39m\u001B[38;5;124moutputDirectory\u001B[39m\u001B[38;5;124m'\u001B[39m] \n\u001B[0;32m---> 53\u001B[0m \u001B[43mcheckforFileBlocking\u001B[49m\u001B[43m(\u001B[49m\u001B[43msrc\u001B[49m\u001B[43m)\u001B[49m\n\u001B[1;32m     54\u001B[0m shutil\u001B[38;5;241m.\u001B[39mcopytree(src, outDir \u001B[38;5;241m+\u001B[39m \u001B[38;5;124m'\u001B[39m\u001B[38;5;124m/\u001B[39m\u001B[38;5;124m'\u001B[39m \u001B[38;5;241m+\u001B[39m src\u001B[38;5;241m.\u001B[39msplit(\u001B[38;5;124m'\u001B[39m\u001B[38;5;124m/\u001B[39m\u001B[38;5;124m'\u001B[39m)[\u001B[38;5;241m-\u001B[39m\u001B[38;5;241m1\u001B[39m])\n",
      "Cell \u001B[0;32mIn[7], line 35\u001B[0m, in \u001B[0;36mcheckforFileBlocking\u001B[0;34m(outDir)\u001B[0m\n\u001B[1;32m     33\u001B[0m     \u001B[38;5;28;01mbreak\u001B[39;00m\n\u001B[1;32m     34\u001B[0m \u001B[38;5;28;01melse\u001B[39;00m:\n\u001B[0;32m---> 35\u001B[0m     \u001B[43mtime\u001B[49m\u001B[38;5;241;43m.\u001B[39;49m\u001B[43msleep\u001B[49m\u001B[43m(\u001B[49m\u001B[38;5;241;43m1\u001B[39;49m\u001B[43m)\u001B[49m\n",
      "\u001B[0;31mKeyboardInterrupt\u001B[0m: "
     ]
    }
   ],
   "source": [
    "outDirBase = createOutDir('wild_card_comp_time')\n",
    "payload = copy.deepcopy(PAYLOAD) \n",
    "maxRange = 5\n",
    "\n",
    "for i in range(maxRange):\n",
    "    printRun(i+1, maxRange)\n",
    "    outDir = createDirectory(f'{outDirBase}/{i+1}')\n",
    "    for dataset, size in [('packing_10',10)]:\n",
    "        setOverlappingConstant(payload, dataset)\n",
    "        payload['datasetName'] = dataset\n",
    "        payload['gaParameters']['populationSize'] = size * 100\n",
    "        payload['gaParameters']['maxNumberOfIter'] = 300\n",
    "        \n",
    "        for maximumWildCardCount in range(0,size+1):\n",
    "            print(maximumWildCardCount)\n",
    "            payload['gaParameters']['maximumWildCardCount'] = maximumWildCardCount\n",
    "            sendPayloadBlocking(payload, outDir)\n",
    "\n",
    "print('\\nComputation done')"
   ]
  },
  {
   "cell_type": "markdown",
   "id": "cc408215-887a-4fd2-a298-4a3b2d7f6ce2",
   "metadata": {
    "tags": []
   },
   "source": [
    "## Bruteforce"
   ]
  },
  {
   "cell_type": "code",
   "execution_count": 12,
   "id": "0a2e4618-afb8-405b-87e4-4c07e67bb8e5",
   "metadata": {
    "tags": []
   },
   "outputs": [
    {
     "name": "stdout",
     "output_type": "stream",
     "text": [
      "random_10\n",
      "775.77 sec\n",
      "random_20\n",
      "3908.93 sec\n",
      "cluster_3_10\n",
      "9184.24 sec\n",
      "\n",
      "Computation done\n"
     ]
    }
   ],
   "source": [
    "outDirBase = createOutDir('brute')\n",
    "payload = copy.deepcopy(PAYLOAD)\n",
    "\n",
    "data = [('random_10',10), ('random_20',20), ('cluster_3_10',30)]\n",
    "data = [('cluster_3_6', 18)]\n",
    "\n",
    "for dataset, size in data:\n",
    "    print(f'{dataset}')\n",
    "    setOverlappingConstant(payload, dataset)\n",
    "    payload['datasetName'] = dataset\n",
    "    payload['gaParameters']['populationSize'] = 100 * size\n",
    "    payload['gaParameters']['maxNumberOfIter'] = 1000\n",
    "    payload['gaParameters']['geneticAlgorithm'] = 'probBrute'\n",
    "    sendPayloadBlocking(payload, outDirBase)\n",
    "\n",
    "print('\\nComputation done')"
   ]
  },
  {
   "cell_type": "markdown",
   "id": "a357c04f-9e20-4be7-90cb-fc4ef7f49ae6",
   "metadata": {
    "tags": []
   },
   "source": [
    "## London National Gallery"
   ]
  },
  {
   "cell_type": "code",
   "execution_count": 32,
   "id": "b97a6977-4cae-408e-871e-e9a1f2d0bb31",
   "metadata": {
    "tags": []
   },
   "outputs": [
    {
     "name": "stdout",
     "output_type": "stream",
     "text": [
      "====== RUN 1/1 ======\n",
      "{'id': 'london_gallery_wall_4C686', 'outputDirectory': '/home/slarty/Documents/master-thesis/src/impl/target/universal/stage/out/157_london_gallery_wall_4C686'}\n",
      "6.01 sec\n",
      "\n",
      "Computation done\n"
     ]
    }
   ],
   "source": [
    "outDirBase = createOutDir('london_nationa_gallery')\n",
    "payload = copy.deepcopy(PAYLOAD) \n",
    "maxRange = 1\n",
    "\n",
    "for i in range(maxRange):\n",
    "    printRun(i+1, maxRange)\n",
    "    outDir = createDirectory(f'{outDirBase}/{i+1}')\n",
    "    for dataset, size in [('london_gallery_wall',7)]:\n",
    "        setOverlappingConstant(payload, dataset)\n",
    "        payload['datasetName'] = dataset\n",
    "        payload['gaParameters']['populationSize'] = size * 100\n",
    "        payload['gaParameters']['maxNumberOfIter'] = 10\n",
    "        payload['gaParameters']['maximumWildCardCount'] = 1\n",
    "        payload['objectiveParameters']['params']['overlappingPenalizationConstant'] = calculateDiagonalLength(dataset) * 5\n",
    "        sendPayloadBlocking(payload, outDir)\n",
    "\n",
    "print('\\nComputation done')"
   ]
  }
 ],
 "metadata": {
  "kernelspec": {
   "display_name": "Python 3 (ipykernel)",
   "language": "python",
   "name": "python3"
  },
  "language_info": {
   "codemirror_mode": {
    "name": "ipython",
    "version": 3
   },
   "file_extension": ".py",
   "mimetype": "text/x-python",
   "name": "python",
   "nbconvert_exporter": "python",
   "pygments_lexer": "ipython3",
   "version": "3.10.10"
  }
 },
 "nbformat": 4,
 "nbformat_minor": 5
}
