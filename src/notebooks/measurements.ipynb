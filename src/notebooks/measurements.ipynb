{
 "cells": [
  {
   "cell_type": "markdown",
   "id": "b3a97643-6a74-4da3-a320-af74856aba02",
   "metadata": {
    "tags": []
   },
   "source": [
    "# Payload"
   ]
  },
  {
   "cell_type": "code",
   "execution_count": 1,
   "id": "35e45a4a-1e9f-4305-ad20-9921d2807133",
   "metadata": {},
   "outputs": [],
   "source": [
    "PAYLOAD = {\n",
    "    \"datasetName\": \"random_10\",\n",
    "    \"gaParameters\": {\n",
    "        \"maxNumberOfIter\":300,\n",
    "        \"populationSize\": 100,\n",
    "        \"maximumWildCardCount\": 1,\n",
    "        \"orientationWeights\": [\n",
    "            1,\n",
    "            1,\n",
    "            0.5\n",
    "        ],\n",
    "        \"geneticAlgorithm\": \"simpleGa\",\n",
    "        \"mate\": \"normalizedProbabilityVectorSum\",\n",
    "        \"mutate\": \"flipOnePartAtRandom\",\n",
    "        \"select\": \"tournament\",\n",
    "        \"objective\": \"simple\",\n",
    "        \"evaluator\": \"ga\",\n",
    "        \"placingHeuristics\": \"corner\",\n",
    "        \"populationDivisionCounts\": {\n",
    "            \"elite\": 0.2,\n",
    "            \"average\": 0.6,\n",
    "            \"worst\": 0.2,\n",
    "            \"children\": 0.3,\n",
    "            \"mutant\": 0.2,\n",
    "            \"winner\": 0.2,\n",
    "            \"random\": 0.1\n",
    "        },\n",
    "        \"initialPopulationDivisionCounts\": {\n",
    "            \"random\": 0.7,\n",
    "            \"greedy\": 0.3\n",
    "        }\n",
    "    },\n",
    "    \"objectiveParameters\": {\n",
    "        \"name\": \"simple\",\n",
    "        \"params\": {\n",
    "            \"overlappingPenalizationConstant\": 0,\n",
    "            \"outsideOfAllocatedAreaPenalizationConstant\": 0\n",
    "        }\n",
    "    }\n",
    "}\n",
    "\n",
    "URL = \"http://localhost:9000/compute/dataset\"\n",
    "\n",
    "HEADERS = {\n",
    "  'Content-Type': 'application/json'\n",
    "}"
   ]
  },
  {
   "cell_type": "markdown",
   "id": "e772ea1f-aacd-4a58-a475-0029bc68adf5",
   "metadata": {
    "tags": []
   },
   "source": [
    "# Utils"
   ]
  },
  {
   "cell_type": "code",
   "execution_count": 2,
   "id": "f59df0a5-df61-4c1a-8a0c-1c78b2d00049",
   "metadata": {
    "tags": []
   },
   "outputs": [],
   "source": [
    "import os\n",
    "import time\n",
    "import requests\n",
    "import json\n",
    "from pathlib import Path\n",
    "import os\n",
    "import shutil\n",
    "from datetime import datetime\n",
    "import math\n",
    "import copy\n",
    "\n",
    "def createDirectory(directory, removeAll=False):\n",
    "    '''\n",
    "    Creates a directory if it doesn't exist and removes all files\n",
    "    from the directory if it already exists and removeAll is True.\n",
    "    '''\n",
    "    if os.path.exists(directory) and removeAll:\n",
    "        shutil.rmtree(directory) # Remove all files in the directory\n",
    "        print(f'All files in {directory} have been removed.')\n",
    "\n",
    "    if not os.path.exists(directory):\n",
    "        os.makedirs(directory) # Create the directory\n",
    "        \n",
    "    return directory\n",
    "\n",
    "def checkforFileBlocking(outDir):\n",
    "    start_time = time.time()  # Get the current time in seconds\n",
    "    while True:\n",
    "        if os.path.exists(os.path.join(outDir, \"computation_result.json\")):\n",
    "            elapsed_time = time.time() - start_time  # Calculate the elapsed time in seconds\n",
    "            print(f\"{elapsed_time:.2f} sec\")\n",
    "            time.sleep(5)  # weit for file to be written and closed\n",
    "            break\n",
    "        else:\n",
    "            time.sleep(1)  # Pause for 1 second before checking again\n",
    "            \n",
    "def findDataset(name):\n",
    "    for root, dirs, files in os.walk('/home/slarty/Documents/master-thesis/src/impl/public/datasets'):\n",
    "        for file in files:\n",
    "            if file == f'{name}.json' or file == name:\n",
    "                return os.path.join(root, file)\n",
    "    return None\n",
    "\n",
    "def calculateLayoutDiagonalLen(datasetName):\n",
    "    with open(findDataset(datasetName), 'r') as file:\n",
    "        layout = json.load(file)['data']['layout']\n",
    "    return math.sqrt(layout['width']**2 + layout['height']**2)\n",
    "    \n",
    "\n",
    "# def setOverlappingConstant(data, dataset):\n",
    "#     with open(findDataset(dataset), 'r') as file:\n",
    "#         layout = json.load(file)['data']['layout']\n",
    "#     data['objectiveParameters']['params']['overlappingPenalizationConstant'] = math.sqrt(layout['width']**2 + layout['height']**2) * 4\n",
    "    \n",
    "def savePayload(payload, directory):\n",
    "    with open(f'{directory}/payload.json', 'w') as file:\n",
    "        json.dump(payload, file, indent=4)\n",
    "    \n",
    "def sendPayloadBlocking(payload, outDir):\n",
    "    r = requests.request(\"POST\", URL, headers=HEADERS, data=json.dumps(payload))\n",
    "    print(r.json())\n",
    "    src = r.json()['outputDirectory'] \n",
    "    savePayload(payload, outDir)\n",
    "    checkforFileBlocking(src)\n",
    "    shutil.copytree(src, outDir + '/' + src.split('/')[-1])\n",
    "    \n",
    "def createOutDir(name):\n",
    "    directory = f'out/{name}_' +  datetime.now().strftime('%Y_%m_%d_%H:%M:%S')\n",
    "    createDirectory(directory)\n",
    "    return directory\n",
    "\n",
    "def printRun(run, runMax):\n",
    "    print(f'====== RUN {run}/{runMax} ======')\n",
    "    \n",
    "def setCommonAttributes(payload, dataset,size):\n",
    "    print(f'{dataset}')\n",
    "    payload['datasetName'] = dataset\n",
    "    payload['objectiveParameters']['params']['overlappingPenalizationConstant'] = calculateLayoutDiagonalLen(dataset)\n",
    "    payload['objectiveParameters']['params']['outsideOfAllocatedAreaPenalizationConstant'] = calculateLayoutDiagonalLen(dataset)\n",
    "    payload['gaParameters']['populationSize'] = size * 50\n",
    "    payload['gaParameters']['maxNumberOfIter'] = 300"
   ]
  },
  {
   "cell_type": "markdown",
   "id": "86734c8e-8cf1-48a9-ac93-2ad4727b8409",
   "metadata": {
    "tags": []
   },
   "source": [
    "# Hyperparameters"
   ]
  },
  {
   "cell_type": "markdown",
   "id": "f9ecadac-765b-4bb5-abeb-3c203937169c",
   "metadata": {},
   "source": [
    "## 1. Max number of iter"
   ]
  },
  {
   "cell_type": "code",
   "execution_count": 3,
   "id": "2b3430a4-38e8-4cdf-b81a-5d8705d0f77e",
   "metadata": {
    "tags": []
   },
   "outputs": [
    {
     "name": "stdout",
     "output_type": "stream",
     "text": [
      "====== RUN 1/1 ======\n",
      "random_10\n",
      "\tmaxNumberOfIter=100\n",
      "{'id': 'random_10_BA14E', 'outputDirectory': '/home/slarty/Documents/master-thesis/src/impl/target/universal/stage/out/052_random_10_BA14E'}\n",
      "65.06 sec\n",
      "\tmaxNumberOfIter=200\n",
      "{'id': 'random_10_4B815', 'outputDirectory': '/home/slarty/Documents/master-thesis/src/impl/target/universal/stage/out/053_random_10_4B815'}\n",
      "118.12 sec\n",
      "\tmaxNumberOfIter=300\n",
      "{'id': 'random_10_33507', 'outputDirectory': '/home/slarty/Documents/master-thesis/src/impl/target/universal/stage/out/054_random_10_33507'}\n",
      "178.18 sec\n",
      "\tmaxNumberOfIter=400\n",
      "{'id': 'random_10_690C0', 'outputDirectory': '/home/slarty/Documents/master-thesis/src/impl/target/universal/stage/out/055_random_10_690C0'}\n",
      "237.24 sec\n",
      "\tmaxNumberOfIter=500\n",
      "{'id': 'random_10_7BC04', 'outputDirectory': '/home/slarty/Documents/master-thesis/src/impl/target/universal/stage/out/056_random_10_7BC04'}\n",
      "299.30 sec\n",
      "random_20\n",
      "\tmaxNumberOfIter=100\n",
      "{'id': 'random_20_38AA7', 'outputDirectory': '/home/slarty/Documents/master-thesis/src/impl/target/universal/stage/out/057_random_20_38AA7'}\n",
      "306.30 sec\n",
      "\tmaxNumberOfIter=200\n",
      "{'id': 'random_20_ED0A9', 'outputDirectory': '/home/slarty/Documents/master-thesis/src/impl/target/universal/stage/out/058_random_20_ED0A9'}\n",
      "615.62 sec\n",
      "\tmaxNumberOfIter=300\n",
      "{'id': 'random_20_B125A', 'outputDirectory': '/home/slarty/Documents/master-thesis/src/impl/target/universal/stage/out/059_random_20_B125A'}\n",
      "925.92 sec\n",
      "\tmaxNumberOfIter=400\n",
      "{'id': 'random_20_96867', 'outputDirectory': '/home/slarty/Documents/master-thesis/src/impl/target/universal/stage/out/060_random_20_96867'}\n",
      "1211.21 sec\n",
      "\tmaxNumberOfIter=500\n",
      "{'id': 'random_20_F6BA3', 'outputDirectory': '/home/slarty/Documents/master-thesis/src/impl/target/universal/stage/out/061_random_20_F6BA3'}\n",
      "1521.51 sec\n",
      "\n",
      "Computation done\n"
     ]
    }
   ],
   "source": [
    "# zopakovat nekolikrat pro maxNumberOfIter=500, mozna by slo i vic, treba 800 nebo 1000\n",
    "outDirBase = createOutDir('max_number_of_iter')\n",
    "payload = copy.deepcopy(PAYLOAD) \n",
    "maxRange = 1\n",
    "\n",
    "for i in range(maxRange):\n",
    "    printRun(i+1, maxRange)\n",
    "    outDir = createDirectory(f'{outDirBase}/{i+1}')\n",
    "    for dataset, size in [('random_10', 10), ('random_20',20)]:\n",
    "        setCommonAttributes(payload, dataset, size)\n",
    "        for maxNumberOfIter in [100, 200, 300, 400, 500]:\n",
    "            print(f'\\tmaxNumberOfIter={maxNumberOfIter}')\n",
    "            payload['gaParameters']['maxNumberOfIter'] = maxNumberOfIter\n",
    "            sendPayloadBlocking(payload, outDir)\n",
    "print('\\nComputation done')"
   ]
  },
  {
   "cell_type": "markdown",
   "id": "d040a440-a2b9-4414-b4fc-3d7f6f57efff",
   "metadata": {
    "tags": []
   },
   "source": [
    "## 2. Population size"
   ]
  },
  {
   "cell_type": "code",
   "execution_count": 4,
   "id": "bf0dd48b-34be-4858-a52f-f26267949bc3",
   "metadata": {
    "tags": []
   },
   "outputs": [
    {
     "name": "stdout",
     "output_type": "stream",
     "text": [
      "====== RUN 1/1 ======\n",
      "random_10\n",
      "\tscalingFactor=1, populationSize=10\n",
      "{'id': 'random_10_FB4DB', 'outputDirectory': '/home/slarty/Documents/master-thesis/src/impl/target/universal/stage/out/062_random_10_FB4DB'}\n",
      "6.01 sec\n",
      "\tscalingFactor=3, populationSize=30\n",
      "{'id': 'random_10_F8470', 'outputDirectory': '/home/slarty/Documents/master-thesis/src/impl/target/universal/stage/out/063_random_10_F8470'}\n",
      "13.01 sec\n",
      "\tscalingFactor=5, populationSize=50\n",
      "{'id': 'random_10_FEEC4', 'outputDirectory': '/home/slarty/Documents/master-thesis/src/impl/target/universal/stage/out/064_random_10_FEEC4'}\n",
      "19.02 sec\n",
      "\tscalingFactor=8, populationSize=80\n",
      "{'id': 'random_10_22D81', 'outputDirectory': '/home/slarty/Documents/master-thesis/src/impl/target/universal/stage/out/065_random_10_22D81'}\n",
      "30.03 sec\n",
      "\tscalingFactor=10, populationSize=100\n",
      "{'id': 'random_10_EA542', 'outputDirectory': '/home/slarty/Documents/master-thesis/src/impl/target/universal/stage/out/066_random_10_EA542'}\n",
      "36.04 sec\n",
      "random_20\n",
      "\tscalingFactor=1, populationSize=20\n",
      "{'id': 'random_20_AFE14', 'outputDirectory': '/home/slarty/Documents/master-thesis/src/impl/target/universal/stage/out/067_random_20_AFE14'}\n",
      "23.02 sec\n",
      "\tscalingFactor=3, populationSize=60\n",
      "{'id': 'random_20_EB906', 'outputDirectory': '/home/slarty/Documents/master-thesis/src/impl/target/universal/stage/out/068_random_20_EB906'}\n",
      "57.06 sec\n",
      "\tscalingFactor=5, populationSize=100\n",
      "{'id': 'random_20_CB4DE', 'outputDirectory': '/home/slarty/Documents/master-thesis/src/impl/target/universal/stage/out/069_random_20_CB4DE'}\n",
      "93.09 sec\n",
      "\tscalingFactor=8, populationSize=160\n",
      "{'id': 'random_20_ABDF6', 'outputDirectory': '/home/slarty/Documents/master-thesis/src/impl/target/universal/stage/out/070_random_20_ABDF6'}\n",
      "145.14 sec\n",
      "\tscalingFactor=10, populationSize=200\n",
      "{'id': 'random_20_9EC3A', 'outputDirectory': '/home/slarty/Documents/master-thesis/src/impl/target/universal/stage/out/071_random_20_9EC3A'}\n",
      "181.18 sec\n",
      "\n",
      "Computation done\n"
     ]
    }
   ],
   "source": [
    "outDirBase = createOutDir('population_size')\n",
    "payload = copy.deepcopy(PAYLOAD) \n",
    "maxRange = 1\n",
    "\n",
    "for i in range(maxRange):\n",
    "    printRun(i+1, maxRange)\n",
    "    outDir = createDirectory(f'{outDirBase}/{i+1}')\n",
    "    for dataset, size in [('random_10', 10), ('random_20',20)]:\n",
    "        setCommonAttributes(payload, dataset, size)\n",
    "        for scalingFactor in [1,3,5,8,10]:\n",
    "            populationSize = size * scalingFactor\n",
    "            print(f'\\tscalingFactor={scalingFactor}, populationSize={populationSize}')\n",
    "            payload['gaParameters']['populationSize'] = populationSize\n",
    "            sendPayloadBlocking(payload, outDir)\n",
    "print('\\nComputation done')"
   ]
  },
  {
   "cell_type": "markdown",
   "id": "25769f15-db70-4b09-b8b7-c7c09582bee8",
   "metadata": {},
   "source": [
    "## 3. Maximum wild card count"
   ]
  },
  {
   "cell_type": "code",
   "execution_count": 5,
   "id": "842ccbe3-531f-471a-8faa-1d8cf0dc1a3b",
   "metadata": {
    "tags": []
   },
   "outputs": [
    {
     "name": "stdout",
     "output_type": "stream",
     "text": [
      "====== RUN 1/1 ======\n",
      "random_10\n",
      "\tmaximumWildCardCount=0\n",
      "{'id': 'random_10_61B19', 'outputDirectory': '/home/slarty/Documents/master-thesis/src/impl/target/universal/stage/out/072_random_10_61B19'}\n",
      "101.10 sec\n",
      "\tmaximumWildCardCount=1\n",
      "{'id': 'random_10_B6B4F', 'outputDirectory': '/home/slarty/Documents/master-thesis/src/impl/target/universal/stage/out/073_random_10_B6B4F'}\n",
      "176.18 sec\n",
      "\tmaximumWildCardCount=2\n",
      "{'id': 'random_10_1546D', 'outputDirectory': '/home/slarty/Documents/master-thesis/src/impl/target/universal/stage/out/074_random_10_1546D'}\n",
      "309.31 sec\n",
      "\tmaximumWildCardCount=3\n",
      "{'id': 'random_10_1B246', 'outputDirectory': '/home/slarty/Documents/master-thesis/src/impl/target/universal/stage/out/075_random_10_1B246'}\n",
      "512.51 sec\n",
      "\tmaximumWildCardCount=4\n",
      "{'id': 'random_10_A99F1', 'outputDirectory': '/home/slarty/Documents/master-thesis/src/impl/target/universal/stage/out/076_random_10_A99F1'}\n",
      "762.76 sec\n",
      "\tmaximumWildCardCount=5\n",
      "{'id': 'random_10_E9B55', 'outputDirectory': '/home/slarty/Documents/master-thesis/src/impl/target/universal/stage/out/077_random_10_E9B55'}\n",
      "1015.01 sec\n",
      "\tmaximumWildCardCount=6\n",
      "{'id': 'random_10_306DF', 'outputDirectory': '/home/slarty/Documents/master-thesis/src/impl/target/universal/stage/out/078_random_10_306DF'}\n",
      "1301.30 sec\n",
      "\tmaximumWildCardCount=7\n",
      "{'id': 'random_10_D76BC', 'outputDirectory': '/home/slarty/Documents/master-thesis/src/impl/target/universal/stage/out/079_random_10_D76BC'}\n",
      "1725.75 sec\n",
      "\tmaximumWildCardCount=8\n",
      "{'id': 'random_10_CE9A9', 'outputDirectory': '/home/slarty/Documents/master-thesis/src/impl/target/universal/stage/out/080_random_10_CE9A9'}\n",
      "1793.79 sec\n",
      "\tmaximumWildCardCount=9\n",
      "{'id': 'random_10_00465', 'outputDirectory': '/home/slarty/Documents/master-thesis/src/impl/target/universal/stage/out/081_random_10_00465'}\n",
      "1847.84 sec\n",
      "\n",
      "Computation done\n"
     ]
    }
   ],
   "source": [
    "outDirBase = createOutDir('maximum_wild_card_count')\n",
    "payload = copy.deepcopy(PAYLOAD) \n",
    "maxRange = 1\n",
    "\n",
    "for i in range(maxRange):\n",
    "    printRun(i+1, maxRange)\n",
    "    outDir = createDirectory(f'{outDirBase}/{i+1}')\n",
    "    for dataset, size in [('random_10', 10)]:\n",
    "        setCommonAttributes(payload, dataset, size)\n",
    "        for maximumWildCardCount in range(10):\n",
    "            print(f'\\tmaximumWildCardCount={maximumWildCardCount}')\n",
    "            payload['gaParameters']['maximumWildCardCount'] = maximumWildCardCount\n",
    "            sendPayloadBlocking(payload, outDir)\n",
    "print('\\nComputation done')"
   ]
  },
  {
   "cell_type": "markdown",
   "id": "97798ccd-7d68-47f7-b0d7-28dbd43683a8",
   "metadata": {},
   "source": [
    "## 4. Orientation weights"
   ]
  },
  {
   "cell_type": "code",
   "execution_count": 6,
   "id": "66717352-a835-479a-b6ae-8c5e95d3346f",
   "metadata": {
    "tags": []
   },
   "outputs": [
    {
     "name": "stdout",
     "output_type": "stream",
     "text": [
      "====== RUN 1/1 ======\n",
      "random_10\n",
      "\torientationWeights=[1, 1, 0]\n",
      "{'id': 'random_10_0FCBB', 'outputDirectory': '/home/slarty/Documents/master-thesis/src/impl/target/universal/stage/out/082_random_10_0FCBB'}\n",
      "175.17 sec\n",
      "\torientationWeights=[1, 1, 0.2]\n",
      "{'id': 'random_10_AE239', 'outputDirectory': '/home/slarty/Documents/master-thesis/src/impl/target/universal/stage/out/083_random_10_AE239'}\n",
      "175.17 sec\n",
      "\torientationWeights=[1, 1, 0.5]\n",
      "{'id': 'random_10_FA223', 'outputDirectory': '/home/slarty/Documents/master-thesis/src/impl/target/universal/stage/out/084_random_10_FA223'}\n",
      "175.17 sec\n",
      "\torientationWeights=[1, 1, 0.7]\n",
      "{'id': 'random_10_6FD0A', 'outputDirectory': '/home/slarty/Documents/master-thesis/src/impl/target/universal/stage/out/085_random_10_6FD0A'}\n",
      "175.17 sec\n",
      "\torientationWeights=[1, 1, 1]\n",
      "{'id': 'random_10_D9B32', 'outputDirectory': '/home/slarty/Documents/master-thesis/src/impl/target/universal/stage/out/086_random_10_D9B32'}\n",
      "177.18 sec\n",
      "random_20\n",
      "\torientationWeights=[1, 1, 0]\n",
      "{'id': 'random_20_77ACD', 'outputDirectory': '/home/slarty/Documents/master-thesis/src/impl/target/universal/stage/out/087_random_20_77ACD'}\n",
      "904.91 sec\n",
      "\torientationWeights=[1, 1, 0.2]\n",
      "{'id': 'random_20_95CA5', 'outputDirectory': '/home/slarty/Documents/master-thesis/src/impl/target/universal/stage/out/088_random_20_95CA5'}\n",
      "917.91 sec\n",
      "\torientationWeights=[1, 1, 0.5]\n",
      "{'id': 'random_20_D2A9B', 'outputDirectory': '/home/slarty/Documents/master-thesis/src/impl/target/universal/stage/out/089_random_20_D2A9B'}\n",
      "908.91 sec\n",
      "\torientationWeights=[1, 1, 0.7]\n",
      "{'id': 'random_20_7202E', 'outputDirectory': '/home/slarty/Documents/master-thesis/src/impl/target/universal/stage/out/090_random_20_7202E'}\n",
      "921.92 sec\n",
      "\torientationWeights=[1, 1, 1]\n",
      "{'id': 'random_20_0E75A', 'outputDirectory': '/home/slarty/Documents/master-thesis/src/impl/target/universal/stage/out/091_random_20_0E75A'}\n",
      "924.92 sec\n",
      "\n",
      "Computation done\n"
     ]
    }
   ],
   "source": [
    "outDirBase = createOutDir('orientation_weights')\n",
    "payload = copy.deepcopy(PAYLOAD) \n",
    "maxRange = 1\n",
    "\n",
    "for i in range(maxRange):\n",
    "    printRun(i+1, maxRange)\n",
    "    outDir = createDirectory(f'{outDirBase}/{i+1}')\n",
    "    for dataset, size in [('random_10', 10), ('random_20', 20)]:\n",
    "        setCommonAttributes(payload, dataset, size)\n",
    "        for w in [0, 0.2, 0.5, 0.7, 1]:\n",
    "            orientationWeights = [1,1,w]\n",
    "            print(f'\\torientationWeights={orientationWeights}')\n",
    "            payload['gaParameters']['orientationWeights'] = orientationWeights\n",
    "            sendPayloadBlocking(payload, outDir)\n",
    "print('\\nComputation done')"
   ]
  },
  {
   "cell_type": "markdown",
   "id": "dc0202bc-4e9b-4b85-89ed-9b3be51a698e",
   "metadata": {},
   "source": [
    "## 5. Population division counts"
   ]
  },
  {
   "cell_type": "code",
   "execution_count": 7,
   "id": "ed1ec11d-3e92-46bb-b13a-4a18a1ab3edc",
   "metadata": {
    "tags": []
   },
   "outputs": [
    {
     "name": "stdout",
     "output_type": "stream",
     "text": [
      "====== RUN 1/1 ======\n",
      "random_10\n",
      "\tpopulationDivisionCounts={'elite': 0.2, 'average': 0.6, 'worst': 0.2, 'children': 0.4, 'mutant': 0.2, 'winner': 0.2, 'random': 0}\n",
      "{'id': 'random_10_E8E3A', 'outputDirectory': '/home/slarty/Documents/master-thesis/src/impl/target/universal/stage/out/092_random_10_E8E3A'}\n",
      "176.18 sec\n",
      "\tpopulationDivisionCounts={'elite': 0.01, 'average': 0.69, 'worst': 0.3, 'children': 0.49, 'mutant': 0.2, 'winner': 0.2, 'random': 0.1}\n",
      "{'id': 'random_10_B5344', 'outputDirectory': '/home/slarty/Documents/master-thesis/src/impl/target/universal/stage/out/093_random_10_B5344'}\n",
      "345.34 sec\n",
      "\tpopulationDivisionCounts={'elite': 0.01, 'average': 0.69, 'worst': 0.3, 'children': 0.59, 'mutant': 0.2, 'winner': 0.2, 'random': 0}\n",
      "{'id': 'random_10_1EB0E', 'outputDirectory': '/home/slarty/Documents/master-thesis/src/impl/target/universal/stage/out/094_random_10_1EB0E'}\n",
      "344.34 sec\n",
      "random_20\n",
      "\tpopulationDivisionCounts={'elite': 0.2, 'average': 0.6, 'worst': 0.2, 'children': 0.4, 'mutant': 0.2, 'winner': 0.2, 'random': 0}\n",
      "{'id': 'random_20_A7497', 'outputDirectory': '/home/slarty/Documents/master-thesis/src/impl/target/universal/stage/out/095_random_20_A7497'}\n",
      "913.92 sec\n",
      "\tpopulationDivisionCounts={'elite': 0.01, 'average': 0.69, 'worst': 0.3, 'children': 0.49, 'mutant': 0.2, 'winner': 0.2, 'random': 0.1}\n",
      "{'id': 'random_20_3A910', 'outputDirectory': '/home/slarty/Documents/master-thesis/src/impl/target/universal/stage/out/096_random_20_3A910'}\n",
      "1800.80 sec\n",
      "\tpopulationDivisionCounts={'elite': 0.01, 'average': 0.69, 'worst': 0.3, 'children': 0.59, 'mutant': 0.2, 'winner': 0.2, 'random': 0}\n",
      "{'id': 'random_20_8F3E5', 'outputDirectory': '/home/slarty/Documents/master-thesis/src/impl/target/universal/stage/out/097_random_20_8F3E5'}\n",
      "1799.80 sec\n",
      "\n",
      "Computation done\n"
     ]
    }
   ],
   "source": [
    "counts =  [\n",
    "    # no random, add to children\n",
    "    {\n",
    "            \"elite\": 0.2,\n",
    "            \"average\": 0.6,\n",
    "            \"worst\": 0.2,\n",
    "            \"children\": 0.4,\n",
    "            \"mutant\": 0.2,\n",
    "            \"winner\": 0.2,\n",
    "            \"random\": 0\n",
    "        },\n",
    "    \n",
    "        # \"populationDivisionCounts\": {\n",
    "        #     \"elite\": 0.2,\n",
    "        #     \"average\": 0.6,\n",
    "        #     \"worst\": 0.2,\n",
    "        #     \"children\": 0.3,\n",
    "        #     \"mutant\": 0.2,\n",
    "        #     \"winner\": 0.2,\n",
    "        #     \"random\": 0.1\n",
    "        # },\n",
    "    # no elite, add to children and equaly to average|worst\n",
    "    {\n",
    "            \"elite\": 0.01,\n",
    "            \"average\": 0.69,\n",
    "            \"worst\": 0.3,\n",
    "            \"children\": 0.49,\n",
    "            \"mutant\": 0.2,\n",
    "            \"winner\": 0.2,\n",
    "            \"random\": 0.1\n",
    "        },\n",
    "    # no elite and random, add to children, add equaly to average|worst\n",
    "    {\n",
    "            \"elite\": 0.01,\n",
    "            \"average\": 0.69,\n",
    "            \"worst\": 0.3,\n",
    "            \"children\": 0.59,\n",
    "            \"mutant\": 0.2,\n",
    "            \"winner\": 0.2,\n",
    "            \"random\": 0\n",
    "        }\n",
    "]\n",
    "\n",
    "outDirBase = createOutDir('initial_population_division_counts')\n",
    "payload = copy.deepcopy(PAYLOAD) \n",
    "maxRange = 1\n",
    "\n",
    "for i in range(maxRange):\n",
    "    printRun(i+1, maxRange)\n",
    "    outDir = createDirectory(f'{outDirBase}/{i+1}')\n",
    "    for dataset, size in [('random_10', 10), ('random_20', 20)]:\n",
    "        setCommonAttributes(payload, dataset, size)\n",
    "        for populationDivisionCounts in counts:\n",
    "            print(f'\\tpopulationDivisionCounts={populationDivisionCounts}')\n",
    "            payload['gaParameters']['populationDivisionCounts'] = populationDivisionCounts\n",
    "            sendPayloadBlocking(payload, outDir)\n",
    "print('\\nComputation done')"
   ]
  },
  {
   "cell_type": "markdown",
   "id": "b4fb3eb0-f618-4052-bd64-1e85c269753f",
   "metadata": {},
   "source": [
    "## 6. Initial population division counts"
   ]
  },
  {
   "cell_type": "code",
   "execution_count": 8,
   "id": "11714d04-c96c-4464-93e9-270c73a570fa",
   "metadata": {
    "tags": []
   },
   "outputs": [
    {
     "name": "stdout",
     "output_type": "stream",
     "text": [
      "====== RUN 1/1 ======\n",
      "random_10\n",
      "\trandomPercent=0\n",
      "{'id': 'random_10_9BF3F', 'outputDirectory': '/home/slarty/Documents/master-thesis/src/impl/target/universal/stage/out/098_random_10_9BF3F'}\n",
      "177.18 sec\n",
      "\trandomPercent=0.3\n",
      "{'id': 'random_10_5841D', 'outputDirectory': '/home/slarty/Documents/master-thesis/src/impl/target/universal/stage/out/099_random_10_5841D'}\n",
      "176.18 sec\n",
      "\trandomPercent=0.5\n",
      "{'id': 'random_10_DBFD8', 'outputDirectory': '/home/slarty/Documents/master-thesis/src/impl/target/universal/stage/out/100_random_10_DBFD8'}\n",
      "176.18 sec\n",
      "\trandomPercent=0.8\n",
      "{'id': 'random_10_F76A8', 'outputDirectory': '/home/slarty/Documents/master-thesis/src/impl/target/universal/stage/out/101_random_10_F76A8'}\n",
      "178.18 sec\n",
      "\trandomPercent=1\n",
      "{'id': 'random_10_EE909', 'outputDirectory': '/home/slarty/Documents/master-thesis/src/impl/target/universal/stage/out/102_random_10_EE909'}\n",
      "181.18 sec\n",
      "random_20\n",
      "\trandomPercent=0\n",
      "{'id': 'random_20_8D97A', 'outputDirectory': '/home/slarty/Documents/master-thesis/src/impl/target/universal/stage/out/103_random_20_8D97A'}\n",
      "909.91 sec\n",
      "\trandomPercent=0.3\n",
      "{'id': 'random_20_E6F76', 'outputDirectory': '/home/slarty/Documents/master-thesis/src/impl/target/universal/stage/out/104_random_20_E6F76'}\n",
      "908.91 sec\n",
      "\trandomPercent=0.5\n",
      "{'id': 'random_20_80DA9', 'outputDirectory': '/home/slarty/Documents/master-thesis/src/impl/target/universal/stage/out/105_random_20_80DA9'}\n",
      "906.91 sec\n",
      "\trandomPercent=0.8\n",
      "{'id': 'random_20_2E17F', 'outputDirectory': '/home/slarty/Documents/master-thesis/src/impl/target/universal/stage/out/106_random_20_2E17F'}\n",
      "907.91 sec\n",
      "\trandomPercent=1\n",
      "{'id': 'random_20_EBDD1', 'outputDirectory': '/home/slarty/Documents/master-thesis/src/impl/target/universal/stage/out/107_random_20_EBDD1'}\n",
      "908.91 sec\n",
      "\n",
      "Computation done\n"
     ]
    }
   ],
   "source": [
    "outDirBase = createOutDir('initial_population_division_counts')\n",
    "payload = copy.deepcopy(PAYLOAD) \n",
    "maxRange = 1\n",
    "\n",
    "for i in range(maxRange):\n",
    "    printRun(i+1, maxRange)\n",
    "    outDir = createDirectory(f'{outDirBase}/{i+1}')\n",
    "    for dataset, size in [('random_10', 10), ('random_20', 20)]:\n",
    "        setCommonAttributes(payload, dataset, size)\n",
    "        for randomPercent in [0, 0.3, 0.5, 0.8, 1]:\n",
    "            print(f'\\trandomPercent={randomPercent}')\n",
    "            payload['gaParameters']['initialPopulationDivisionCounts']['random'] = randomPercent\n",
    "            payload['gaParameters']['initialPopulationDivisionCounts']['greedy'] = 1 - randomPercent\n",
    "            sendPayloadBlocking(payload, outDir)\n",
    "print('\\nComputation done')"
   ]
  },
  {
   "cell_type": "markdown",
   "id": "37ca8103-9e9f-4c0e-921f-73b83088cf65",
   "metadata": {
    "tags": []
   },
   "source": [
    "## 7. Overlapping penalization constant"
   ]
  },
  {
   "cell_type": "code",
   "execution_count": 9,
   "id": "30845a9c-d62c-48f1-9901-2e075d327ca3",
   "metadata": {
    "tags": []
   },
   "outputs": [
    {
     "name": "stdout",
     "output_type": "stream",
     "text": [
      "====== RUN 1/1 ======\n",
      "random_10\n",
      "\tscalingFactor=0.5, overlappingPenalizationConstant=15.31\n",
      "{'id': 'random_10_89986', 'outputDirectory': '/home/slarty/Documents/master-thesis/src/impl/target/universal/stage/out/108_random_10_89986'}\n",
      "176.18 sec\n",
      "\tscalingFactor=1, overlappingPenalizationConstant=30.61\n",
      "{'id': 'random_10_30C0B', 'outputDirectory': '/home/slarty/Documents/master-thesis/src/impl/target/universal/stage/out/109_random_10_30C0B'}\n",
      "176.18 sec\n",
      "\tscalingFactor=2, overlappingPenalizationConstant=61.22\n",
      "{'id': 'random_10_6727B', 'outputDirectory': '/home/slarty/Documents/master-thesis/src/impl/target/universal/stage/out/110_random_10_6727B'}\n",
      "177.18 sec\n",
      "\tscalingFactor=3, overlappingPenalizationConstant=91.83\n",
      "{'id': 'random_10_4CC2E', 'outputDirectory': '/home/slarty/Documents/master-thesis/src/impl/target/universal/stage/out/111_random_10_4CC2E'}\n",
      "177.18 sec\n",
      "\tscalingFactor=4, overlappingPenalizationConstant=122.44\n",
      "{'id': 'random_10_3703C', 'outputDirectory': '/home/slarty/Documents/master-thesis/src/impl/target/universal/stage/out/112_random_10_3703C'}\n",
      "177.18 sec\n",
      "random_20\n",
      "\tscalingFactor=0.5, overlappingPenalizationConstant=19.91\n",
      "{'id': 'random_20_98C38', 'outputDirectory': '/home/slarty/Documents/master-thesis/src/impl/target/universal/stage/out/113_random_20_98C38'}\n",
      "908.91 sec\n",
      "\tscalingFactor=1, overlappingPenalizationConstant=39.82\n",
      "{'id': 'random_20_93BB1', 'outputDirectory': '/home/slarty/Documents/master-thesis/src/impl/target/universal/stage/out/114_random_20_93BB1'}\n",
      "907.91 sec\n",
      "\tscalingFactor=2, overlappingPenalizationConstant=79.65\n",
      "{'id': 'random_20_70124', 'outputDirectory': '/home/slarty/Documents/master-thesis/src/impl/target/universal/stage/out/115_random_20_70124'}\n",
      "914.92 sec\n",
      "\tscalingFactor=3, overlappingPenalizationConstant=119.47\n",
      "{'id': 'random_20_ACEF7', 'outputDirectory': '/home/slarty/Documents/master-thesis/src/impl/target/universal/stage/out/116_random_20_ACEF7'}\n",
      "920.92 sec\n",
      "\tscalingFactor=4, overlappingPenalizationConstant=159.30\n",
      "{'id': 'random_20_CA299', 'outputDirectory': '/home/slarty/Documents/master-thesis/src/impl/target/universal/stage/out/117_random_20_CA299'}\n",
      "942.94 sec\n",
      "\n",
      "Computation done\n"
     ]
    }
   ],
   "source": [
    "outDirBase = createOutDir('overlapping_penalization_constant')\n",
    "payload = copy.deepcopy(PAYLOAD) \n",
    "maxRange = 1\n",
    "\n",
    "for i in range(maxRange):\n",
    "    printRun(i+1, maxRange)\n",
    "    outDir = createDirectory(f'{outDirBase}/{i+1}')\n",
    "    for dataset, size in [('random_10', 10), ('random_20', 20)]:\n",
    "        setCommonAttributes(payload, dataset, size)\n",
    "        for scalingFactor in [0.5, 1, 2, 3, 4]:\n",
    "            overlappingPenalizationConstant = calculateLayoutDiagonalLen(dataset) * scalingFactor\n",
    "            print(f'\\tscalingFactor={scalingFactor}, overlappingPenalizationConstant={overlappingPenalizationConstant:.2f}')\n",
    "            payload['objectiveParameters']['params']['overlappingPenalizationConstant'] = overlappingPenalizationConstant\n",
    "            sendPayloadBlocking(payload, outDir)\n",
    "print('\\nComputation done')"
   ]
  },
  {
   "cell_type": "markdown",
   "id": "7785b772-457a-496e-8b16-ec11f5ae021b",
   "metadata": {},
   "source": [
    "## 8. Outside of allocated area penalization constant"
   ]
  },
  {
   "cell_type": "code",
   "execution_count": 10,
   "id": "7e221b61-2155-4334-a4e1-0615006331ec",
   "metadata": {
    "tags": []
   },
   "outputs": [
    {
     "name": "stdout",
     "output_type": "stream",
     "text": [
      "====== RUN 1/1 ======\n",
      "random_10\n",
      "\tscalingFactor=0.5, overlappingPenalizationConstant=15.31\n",
      "{'id': 'random_10_6F000', 'outputDirectory': '/home/slarty/Documents/master-thesis/src/impl/target/universal/stage/out/118_random_10_6F000'}\n",
      "183.18 sec\n",
      "\tscalingFactor=1, overlappingPenalizationConstant=30.61\n",
      "{'id': 'random_10_D5699', 'outputDirectory': '/home/slarty/Documents/master-thesis/src/impl/target/universal/stage/out/119_random_10_D5699'}\n",
      "182.18 sec\n",
      "\tscalingFactor=2, overlappingPenalizationConstant=61.22\n",
      "{'id': 'random_10_8269B', 'outputDirectory': '/home/slarty/Documents/master-thesis/src/impl/target/universal/stage/out/120_random_10_8269B'}\n",
      "184.18 sec\n",
      "\tscalingFactor=3, overlappingPenalizationConstant=91.83\n",
      "{'id': 'random_10_F7CB7', 'outputDirectory': '/home/slarty/Documents/master-thesis/src/impl/target/universal/stage/out/121_random_10_F7CB7'}\n",
      "192.19 sec\n",
      "\tscalingFactor=4, overlappingPenalizationConstant=122.44\n",
      "{'id': 'random_10_C6A07', 'outputDirectory': '/home/slarty/Documents/master-thesis/src/impl/target/universal/stage/out/122_random_10_C6A07'}\n",
      "185.18 sec\n",
      "random_20\n",
      "\tscalingFactor=0.5, overlappingPenalizationConstant=19.91\n",
      "{'id': 'random_20_9B04C', 'outputDirectory': '/home/slarty/Documents/master-thesis/src/impl/target/universal/stage/out/123_random_20_9B04C'}\n",
      "944.95 sec\n",
      "\tscalingFactor=1, overlappingPenalizationConstant=39.82\n",
      "{'id': 'random_20_CD378', 'outputDirectory': '/home/slarty/Documents/master-thesis/src/impl/target/universal/stage/out/124_random_20_CD378'}\n",
      "942.95 sec\n",
      "\tscalingFactor=2, overlappingPenalizationConstant=79.65\n",
      "{'id': 'random_20_FBD61', 'outputDirectory': '/home/slarty/Documents/master-thesis/src/impl/target/universal/stage/out/125_random_20_FBD61'}\n",
      "941.94 sec\n",
      "\tscalingFactor=3, overlappingPenalizationConstant=119.47\n",
      "{'id': 'random_20_843B9', 'outputDirectory': '/home/slarty/Documents/master-thesis/src/impl/target/universal/stage/out/126_random_20_843B9'}\n",
      "944.94 sec\n",
      "\tscalingFactor=4, overlappingPenalizationConstant=159.30\n",
      "{'id': 'random_20_269BC', 'outputDirectory': '/home/slarty/Documents/master-thesis/src/impl/target/universal/stage/out/127_random_20_269BC'}\n",
      "944.95 sec\n",
      "\n",
      "Computation done\n"
     ]
    }
   ],
   "source": [
    "outDirBase = createOutDir('outside_of_allocated_area_penalization_constant')\n",
    "payload = copy.deepcopy(PAYLOAD) \n",
    "maxRange = 1\n",
    "\n",
    "for i in range(maxRange):\n",
    "    printRun(i+1, maxRange)\n",
    "    outDir = createDirectory(f'{outDirBase}/{i+1}')\n",
    "    for dataset, size in [('random_10', 10), ('random_20', 20)]:\n",
    "        setCommonAttributes(payload, dataset, size)\n",
    "        for scalingFactor in [0.5, 1, 2, 3, 4]:\n",
    "            outsideOfAllocatedAreaPenalizationConstant = calculateLayoutDiagonalLen(dataset) * scalingFactor\n",
    "            print(f'\\tscalingFactor={scalingFactor}, overlappingPenalizationConstant={outsideOfAllocatedAreaPenalizationConstant:.2f}')\n",
    "            payload['objectiveParameters']['params']['outsideOfAllocatedAreaPenalizationConstant'] = outsideOfAllocatedAreaPenalizationConstant\n",
    "            sendPayloadBlocking(payload, outDir)\n",
    "print('\\nComputation done')"
   ]
  },
  {
   "cell_type": "markdown",
   "id": "8630f5b3-a424-42ed-b72e-ab5449097d7f",
   "metadata": {},
   "source": [
    "# Measurements"
   ]
  },
  {
   "cell_type": "markdown",
   "id": "8b784701-d588-420b-855b-d00c0fbf2181",
   "metadata": {
    "jp-MarkdownHeadingCollapsed": true,
    "tags": []
   },
   "source": [
    "## Population size x best solution"
   ]
  },
  {
   "cell_type": "code",
   "execution_count": 15,
   "id": "8878b108-5bcf-406e-9f6d-ce98d444bf13",
   "metadata": {
    "collapsed": true,
    "jupyter": {
     "outputs_hidden": true
    },
    "tags": []
   },
   "outputs": [
    {
     "name": "stdout",
     "output_type": "stream",
     "text": [
      "====== RUN 1/5 ======\n",
      "{'id': 'cluster_3_10_3E78A', 'outputDirectory': '/home/slarty/Documents/master-thesis/src/impl/target/universal/stage/out/008_cluster_3_10_3E78A'}\n"
     ]
    },
    {
     "ename": "KeyboardInterrupt",
     "evalue": "",
     "output_type": "error",
     "traceback": [
      "\u001B[0;31m---------------------------------------------------------------------------\u001B[0m",
      "\u001B[0;31mKeyboardInterrupt\u001B[0m                         Traceback (most recent call last)",
      "Cell \u001B[0;32mIn[15], line 13\u001B[0m\n\u001B[1;32m     11\u001B[0m         payload[\u001B[38;5;124m'\u001B[39m\u001B[38;5;124mgaParameters\u001B[39m\u001B[38;5;124m'\u001B[39m][\u001B[38;5;124m'\u001B[39m\u001B[38;5;124mpopulationSize\u001B[39m\u001B[38;5;124m'\u001B[39m] \u001B[38;5;241m=\u001B[39m size \u001B[38;5;241m*\u001B[39m \u001B[38;5;241m50\u001B[39m\n\u001B[1;32m     12\u001B[0m         payload[\u001B[38;5;124m'\u001B[39m\u001B[38;5;124mgaParameters\u001B[39m\u001B[38;5;124m'\u001B[39m][\u001B[38;5;124m'\u001B[39m\u001B[38;5;124mmaxNumberOfIter\u001B[39m\u001B[38;5;124m'\u001B[39m] \u001B[38;5;241m=\u001B[39m \u001B[38;5;241m30\u001B[39m\n\u001B[0;32m---> 13\u001B[0m         \u001B[43msendPayloadBlocking\u001B[49m\u001B[43m(\u001B[49m\u001B[43mpayload\u001B[49m\u001B[43m,\u001B[49m\u001B[43m \u001B[49m\u001B[43moutDir\u001B[49m\u001B[43m)\u001B[49m\n\u001B[1;32m     15\u001B[0m \u001B[38;5;28mprint\u001B[39m(\u001B[38;5;124m'\u001B[39m\u001B[38;5;130;01m\\n\u001B[39;00m\u001B[38;5;124mComputation done\u001B[39m\u001B[38;5;124m'\u001B[39m)\n",
      "Cell \u001B[0;32mIn[14], line 58\u001B[0m, in \u001B[0;36msendPayloadBlocking\u001B[0;34m(payload, outDir)\u001B[0m\n\u001B[1;32m     56\u001B[0m src \u001B[38;5;241m=\u001B[39m r\u001B[38;5;241m.\u001B[39mjson()[\u001B[38;5;124m'\u001B[39m\u001B[38;5;124moutputDirectory\u001B[39m\u001B[38;5;124m'\u001B[39m] \n\u001B[1;32m     57\u001B[0m savePayload(payload, outDir)\n\u001B[0;32m---> 58\u001B[0m \u001B[43mcheckforFileBlocking\u001B[49m\u001B[43m(\u001B[49m\u001B[43msrc\u001B[49m\u001B[43m)\u001B[49m\n\u001B[1;32m     59\u001B[0m shutil\u001B[38;5;241m.\u001B[39mcopytree(src, outDir \u001B[38;5;241m+\u001B[39m \u001B[38;5;124m'\u001B[39m\u001B[38;5;124m/\u001B[39m\u001B[38;5;124m'\u001B[39m \u001B[38;5;241m+\u001B[39m src\u001B[38;5;241m.\u001B[39msplit(\u001B[38;5;124m'\u001B[39m\u001B[38;5;124m/\u001B[39m\u001B[38;5;124m'\u001B[39m)[\u001B[38;5;241m-\u001B[39m\u001B[38;5;241m1\u001B[39m])\n",
      "Cell \u001B[0;32mIn[14], line 35\u001B[0m, in \u001B[0;36mcheckforFileBlocking\u001B[0;34m(outDir)\u001B[0m\n\u001B[1;32m     33\u001B[0m     \u001B[38;5;28;01mbreak\u001B[39;00m\n\u001B[1;32m     34\u001B[0m \u001B[38;5;28;01melse\u001B[39;00m:\n\u001B[0;32m---> 35\u001B[0m     \u001B[43mtime\u001B[49m\u001B[38;5;241;43m.\u001B[39;49m\u001B[43msleep\u001B[49m\u001B[43m(\u001B[49m\u001B[38;5;241;43m1\u001B[39;49m\u001B[43m)\u001B[49m\n",
      "\u001B[0;31mKeyboardInterrupt\u001B[0m: "
     ]
    }
   ],
   "source": [
    "outDirBase = createOutDir('population_size')\n",
    "payload = copy.deepcopy(PAYLOAD) \n",
    "maxRange = 5\n",
    "\n",
    "for i in range(maxRange):\n",
    "    printRun(i+1, maxRange)\n",
    "    outDir = createDirectory(f'{outDirBase}/{i+1}')\n",
    "    for dataset, size in [('cluster_3_10', 30), ('cluster_4_20',80)]:\n",
    "        setOverlappingConstant(payload, dataset)\n",
    "        payload['datasetName'] = dataset\n",
    "        payload['gaParameters']['populationSize'] = size * 50\n",
    "        payload['gaParameters']['maxNumberOfIter'] = 30\n",
    "        sendPayloadBlocking(payload, outDir)\n",
    "\n",
    "print('\\nComputation done')"
   ]
  },
  {
   "cell_type": "markdown",
   "id": "0b65c33d-d92b-4c24-a870-c266fb5c2ac4",
   "metadata": {
    "jp-MarkdownHeadingCollapsed": true,
    "tags": []
   },
   "source": [
    "## Overlapping Penalization Constant"
   ]
  },
  {
   "cell_type": "code",
   "execution_count": 11,
   "id": "eed859ec-b3c1-4fc2-9e6a-0ad424f46709",
   "metadata": {
    "tags": []
   },
   "outputs": [
    {
     "name": "stdout",
     "output_type": "stream",
     "text": [
      "====== RUN 1/5 ======\n",
      "random_10, 2\n",
      "{'id': 'random_10_D9842', 'outputDirectory': '/home/slarty/Documents/master-thesis/src/impl/target/universal/stage/out/094_random_10_D9842'}\n",
      "113.12 sec\n",
      "random_10, 3\n",
      "{'id': 'random_10_73195', 'outputDirectory': '/home/slarty/Documents/master-thesis/src/impl/target/universal/stage/out/095_random_10_73195'}\n",
      "114.11 sec\n",
      "random_10, 4\n",
      "{'id': 'random_10_AD7EE', 'outputDirectory': '/home/slarty/Documents/master-thesis/src/impl/target/universal/stage/out/096_random_10_AD7EE'}\n",
      "113.11 sec\n",
      "random_10, 6\n",
      "{'id': 'random_10_68D8F', 'outputDirectory': '/home/slarty/Documents/master-thesis/src/impl/target/universal/stage/out/097_random_10_68D8F'}\n",
      "113.11 sec\n",
      "packing_10, 2\n",
      "{'id': 'packing_10_1457A', 'outputDirectory': '/home/slarty/Documents/master-thesis/src/impl/target/universal/stage/out/098_packing_10_1457A'}\n",
      "94.09 sec\n",
      "packing_10, 3\n",
      "{'id': 'packing_10_B0ACF', 'outputDirectory': '/home/slarty/Documents/master-thesis/src/impl/target/universal/stage/out/099_packing_10_B0ACF'}\n",
      "98.10 sec\n",
      "packing_10, 4\n",
      "{'id': 'packing_10_31E31', 'outputDirectory': '/home/slarty/Documents/master-thesis/src/impl/target/universal/stage/out/100_packing_10_31E31'}\n",
      "98.10 sec\n",
      "packing_10, 6\n",
      "{'id': 'packing_10_B6ED8', 'outputDirectory': '/home/slarty/Documents/master-thesis/src/impl/target/universal/stage/out/101_packing_10_B6ED8'}\n",
      "95.10 sec\n",
      "====== RUN 2/5 ======\n",
      "random_10, 2\n",
      "{'id': 'random_10_F053F', 'outputDirectory': '/home/slarty/Documents/master-thesis/src/impl/target/universal/stage/out/102_random_10_F053F'}\n",
      "112.11 sec\n",
      "random_10, 3\n",
      "{'id': 'random_10_BC355', 'outputDirectory': '/home/slarty/Documents/master-thesis/src/impl/target/universal/stage/out/103_random_10_BC355'}\n",
      "115.12 sec\n",
      "random_10, 4\n",
      "{'id': 'random_10_F41FE', 'outputDirectory': '/home/slarty/Documents/master-thesis/src/impl/target/universal/stage/out/104_random_10_F41FE'}\n",
      "113.11 sec\n",
      "random_10, 6\n",
      "{'id': 'random_10_0FFE6', 'outputDirectory': '/home/slarty/Documents/master-thesis/src/impl/target/universal/stage/out/105_random_10_0FFE6'}\n",
      "116.12 sec\n",
      "packing_10, 2\n",
      "{'id': 'packing_10_69C41', 'outputDirectory': '/home/slarty/Documents/master-thesis/src/impl/target/universal/stage/out/106_packing_10_69C41'}\n",
      "99.10 sec\n",
      "packing_10, 3\n",
      "{'id': 'packing_10_39098', 'outputDirectory': '/home/slarty/Documents/master-thesis/src/impl/target/universal/stage/out/107_packing_10_39098'}\n",
      "97.10 sec\n",
      "packing_10, 4\n",
      "{'id': 'packing_10_D930E', 'outputDirectory': '/home/slarty/Documents/master-thesis/src/impl/target/universal/stage/out/108_packing_10_D930E'}\n",
      "99.10 sec\n",
      "packing_10, 6\n",
      "{'id': 'packing_10_FAEE6', 'outputDirectory': '/home/slarty/Documents/master-thesis/src/impl/target/universal/stage/out/109_packing_10_FAEE6'}\n",
      "98.10 sec\n",
      "====== RUN 3/5 ======\n",
      "random_10, 2\n",
      "{'id': 'random_10_D9A50', 'outputDirectory': '/home/slarty/Documents/master-thesis/src/impl/target/universal/stage/out/110_random_10_D9A50'}\n",
      "118.12 sec\n",
      "random_10, 3\n",
      "{'id': 'random_10_2E482', 'outputDirectory': '/home/slarty/Documents/master-thesis/src/impl/target/universal/stage/out/111_random_10_2E482'}\n",
      "116.12 sec\n",
      "random_10, 4\n",
      "{'id': 'random_10_CA97C', 'outputDirectory': '/home/slarty/Documents/master-thesis/src/impl/target/universal/stage/out/112_random_10_CA97C'}\n",
      "115.12 sec\n",
      "random_10, 6\n",
      "{'id': 'random_10_8E5CE', 'outputDirectory': '/home/slarty/Documents/master-thesis/src/impl/target/universal/stage/out/113_random_10_8E5CE'}\n",
      "114.11 sec\n",
      "packing_10, 2\n",
      "{'id': 'packing_10_B254D', 'outputDirectory': '/home/slarty/Documents/master-thesis/src/impl/target/universal/stage/out/114_packing_10_B254D'}\n",
      "96.10 sec\n",
      "packing_10, 3\n",
      "{'id': 'packing_10_A006F', 'outputDirectory': '/home/slarty/Documents/master-thesis/src/impl/target/universal/stage/out/115_packing_10_A006F'}\n",
      "96.10 sec\n",
      "packing_10, 4\n",
      "{'id': 'packing_10_E3A48', 'outputDirectory': '/home/slarty/Documents/master-thesis/src/impl/target/universal/stage/out/116_packing_10_E3A48'}\n",
      "97.10 sec\n",
      "packing_10, 6\n",
      "{'id': 'packing_10_C4752', 'outputDirectory': '/home/slarty/Documents/master-thesis/src/impl/target/universal/stage/out/117_packing_10_C4752'}\n",
      "98.10 sec\n",
      "====== RUN 4/5 ======\n",
      "random_10, 2\n",
      "{'id': 'random_10_82529', 'outputDirectory': '/home/slarty/Documents/master-thesis/src/impl/target/universal/stage/out/118_random_10_82529'}\n",
      "117.12 sec\n",
      "random_10, 3\n",
      "{'id': 'random_10_D29B1', 'outputDirectory': '/home/slarty/Documents/master-thesis/src/impl/target/universal/stage/out/119_random_10_D29B1'}\n",
      "112.11 sec\n",
      "random_10, 4\n",
      "{'id': 'random_10_4C821', 'outputDirectory': '/home/slarty/Documents/master-thesis/src/impl/target/universal/stage/out/120_random_10_4C821'}\n",
      "112.11 sec\n",
      "random_10, 6\n",
      "{'id': 'random_10_0DF12', 'outputDirectory': '/home/slarty/Documents/master-thesis/src/impl/target/universal/stage/out/121_random_10_0DF12'}\n",
      "130.13 sec\n",
      "packing_10, 2\n",
      "{'id': 'packing_10_EF48D', 'outputDirectory': '/home/slarty/Documents/master-thesis/src/impl/target/universal/stage/out/122_packing_10_EF48D'}\n",
      "117.12 sec\n",
      "packing_10, 3\n",
      "{'id': 'packing_10_B716C', 'outputDirectory': '/home/slarty/Documents/master-thesis/src/impl/target/universal/stage/out/123_packing_10_B716C'}\n",
      "118.12 sec\n",
      "packing_10, 4\n",
      "{'id': 'packing_10_20BA9', 'outputDirectory': '/home/slarty/Documents/master-thesis/src/impl/target/universal/stage/out/124_packing_10_20BA9'}\n",
      "102.10 sec\n",
      "packing_10, 6\n",
      "{'id': 'packing_10_822E8', 'outputDirectory': '/home/slarty/Documents/master-thesis/src/impl/target/universal/stage/out/125_packing_10_822E8'}\n",
      "98.10 sec\n",
      "====== RUN 5/5 ======\n",
      "random_10, 2\n",
      "{'id': 'random_10_BB119', 'outputDirectory': '/home/slarty/Documents/master-thesis/src/impl/target/universal/stage/out/126_random_10_BB119'}\n",
      "119.12 sec\n",
      "random_10, 3\n",
      "{'id': 'random_10_83BDF', 'outputDirectory': '/home/slarty/Documents/master-thesis/src/impl/target/universal/stage/out/127_random_10_83BDF'}\n",
      "113.11 sec\n",
      "random_10, 4\n",
      "{'id': 'random_10_EDF55', 'outputDirectory': '/home/slarty/Documents/master-thesis/src/impl/target/universal/stage/out/128_random_10_EDF55'}\n",
      "113.11 sec\n",
      "random_10, 6\n",
      "{'id': 'random_10_7AB40', 'outputDirectory': '/home/slarty/Documents/master-thesis/src/impl/target/universal/stage/out/129_random_10_7AB40'}\n",
      "112.11 sec\n",
      "packing_10, 2\n",
      "{'id': 'packing_10_9D69B', 'outputDirectory': '/home/slarty/Documents/master-thesis/src/impl/target/universal/stage/out/130_packing_10_9D69B'}\n",
      "95.09 sec\n",
      "packing_10, 3\n",
      "{'id': 'packing_10_94957', 'outputDirectory': '/home/slarty/Documents/master-thesis/src/impl/target/universal/stage/out/131_packing_10_94957'}\n",
      "95.10 sec\n",
      "packing_10, 4\n",
      "{'id': 'packing_10_CA764', 'outputDirectory': '/home/slarty/Documents/master-thesis/src/impl/target/universal/stage/out/132_packing_10_CA764'}\n",
      "97.10 sec\n",
      "packing_10, 6\n",
      "{'id': 'packing_10_E5631', 'outputDirectory': '/home/slarty/Documents/master-thesis/src/impl/target/universal/stage/out/133_packing_10_E5631'}\n",
      "96.10 sec\n",
      "\n",
      "Computation done\n"
     ]
    }
   ],
   "source": [
    "outDirBase = createOutDir('overlapping_penalization_constant')\n",
    "payload = copy.deepcopy(PAYLOAD) \n",
    "maxRange = 5\n",
    "\n",
    "def getLayoutWidthAndHeight(dataset):\n",
    "    with open(findDataset(dataset), 'r') as file:\n",
    "        layout = json.load(file)['data']['layout']\n",
    "    return layout['width'], layout['height']\n",
    "\n",
    "def calculateDiagonalLength(dataset):\n",
    "    w,h = getLayoutWidthAndHeight(dataset)\n",
    "    return math.sqrt(w**2 + h**2)\n",
    "\n",
    "\n",
    "def setOverlappingConstant(data, dataset):\n",
    "    with open(findDataset(dataset), 'r') as file:\n",
    "        layout = json.load(file)['data']['layout']\n",
    "    data['objectiveParameters']['params']['overlappingPenalizationConstant'] = math.sqrt(layout['width']**2 + layout['height']**2) * 4\n",
    "    \n",
    "for i in range(maxRange):\n",
    "    printRun(i+1, maxRange)\n",
    "    outDir = createDirectory(f'{outDirBase}/{i+1}')\n",
    "    for dataset, size in [('random_10', 10), ('packing_10', 10)]:\n",
    "        for k in [2, 3, 4, 6]:\n",
    "            print(f'{dataset}, {k}')\n",
    "            payload['datasetName'] = dataset\n",
    "            payload['objectiveParameters']['params']['overlappingPenalizationConstant'] = calculateDiagonalLength(dataset) * k\n",
    "            payload['gaParameters']['populationSize'] = size * 50\n",
    "            payload['gaParameters']['maxNumberOfIter'] = 300\n",
    "            payload['gaParameters']['maximumWildCardCount'] = 0\n",
    "            sendPayloadBlocking(payload, outDir)\n",
    "\n",
    "print('\\nComputation done')"
   ]
  },
  {
   "cell_type": "markdown",
   "id": "16b57218-e35b-441e-9138-c5e56ad38a9f",
   "metadata": {},
   "source": [
    "## Random"
   ]
  },
  {
   "cell_type": "code",
   "execution_count": 20,
   "id": "85a761c6-9663-46dd-94db-bc32965e4ce8",
   "metadata": {
    "tags": []
   },
   "outputs": [
    {
     "name": "stdout",
     "output_type": "stream",
     "text": [
      "====== RUN 1/1 ======\n",
      "{'id': 'random_20_FDC76', 'outputDirectory': '/home/slarty/Documents/master-thesis/src/impl/target/universal/stage/out/148_random_20_FDC76'}\n",
      "990.00 sec\n",
      "\n",
      "Computation done\n"
     ]
    }
   ],
   "source": [
    "outDirBase = createOutDir('random')\n",
    "payload = copy.deepcopy(PAYLOAD) \n",
    "maxRange = 1\n",
    "\n",
    "for i in range(maxRange):\n",
    "    printRun(i+1, maxRange)\n",
    "    outDir = createDirectory(f'{outDirBase}/{i+1}')\n",
    "    for dataset, size in [('random_20',20)]:\n",
    "        setOverlappingConstant(payload, dataset)\n",
    "        payload['datasetName'] = dataset\n",
    "        payload['gaParameters']['populationSize'] = size * 50\n",
    "        payload['gaParameters']['maxNumberOfIter'] = 300\n",
    "        payload['gaParameters']['maximumWildCardCount'] = 1\n",
    "        payload['objectiveParameters']['params']['overlappingPenalizationConstant'] = calculateDiagonalLength(dataset) * 8\n",
    "        sendPayloadBlocking(payload, outDir)\n",
    "\n",
    "print('\\nComputation done')"
   ]
  },
  {
   "cell_type": "markdown",
   "id": "0c3105c0-5ae2-42b8-b9af-158589fa1c89",
   "metadata": {},
   "source": [
    "## Cluster"
   ]
  },
  {
   "cell_type": "code",
   "execution_count": 22,
   "id": "e6cf0c9e",
   "metadata": {
    "tags": []
   },
   "outputs": [
    {
     "name": "stdout",
     "output_type": "stream",
     "text": [
      "====== RUN 1/1 ======\n",
      "cluster_4_5\n",
      "{'id': 'cluster_4_5_606A8', 'outputDirectory': '/home/slarty/Documents/master-thesis/src/impl/target/universal/stage/out/150_cluster_4_5_606A8'}\n",
      "855.86 sec\n",
      "\n",
      "Computation done\n"
     ]
    }
   ],
   "source": [
    "outDirBase = createOutDir('cluster')\n",
    "payload = copy.deepcopy(PAYLOAD) \n",
    "maxRange = 1\n",
    "\n",
    "# 10.4 - testing maximum wild card count = 1\n",
    "for i in range(maxRange):\n",
    "    printRun(i+1, maxRange)\n",
    "    outDir = createDirectory(f'{outDirBase}/{i+1}')\n",
    "    # for dataset, size in [('cluster_3_6', 18)]:\n",
    "    for dataset, size in [('cluster_4_5', 20)]:\n",
    "        print(f'{dataset}')\n",
    "        payload['datasetName'] = dataset\n",
    "        payload['gaParameters']['populationSize'] = size * 50\n",
    "        payload['gaParameters']['maxNumberOfIter'] = 300\n",
    "        payload['gaParameters']['maximumWildCardCount'] = 1\n",
    "        payload['objectiveParameters']['params']['overlappingPenalizationConstant'] = calculateDiagonalLength(dataset) * 8\n",
    "        sendPayloadBlocking(payload, outDir)\n",
    "\n",
    "print('\\nComputation done')"
   ]
  },
  {
   "cell_type": "markdown",
   "id": "30fe324e-2495-47ed-9ff7-34da411c14df",
   "metadata": {},
   "source": [
    "## Packing"
   ]
  },
  {
   "cell_type": "code",
   "execution_count": null,
   "id": "9eb871a1-a38c-46ae-9bbd-530cdeb13a88",
   "metadata": {
    "tags": []
   },
   "outputs": [],
   "source": [
    "outDirBase = createOutDir('packing')\n",
    "payload = copy.deepcopy(PAYLOAD) \n",
    "maxRange = 5\n",
    "\n",
    "for i in range(maxRange):\n",
    "    printRun(i+1, maxRange)\n",
    "    outDir = createDirectory(f'{outDirBase}/{i+1}')\n",
    "    for dataset, size in [('packing_10',10), ('packing_20',20)]:\n",
    "        setOverlappingConstant(payload, dataset)\n",
    "        payload['datasetName'] = dataset\n",
    "        payload['gaParameters']['populationSize'] = size * 100\n",
    "        payload['gaParameters']['maxNumberOfIter'] = 1000\n",
    "        sendPayloadBlocking(payload, outDir)\n",
    "\n",
    "print('\\nComputation done')"
   ]
  },
  {
   "cell_type": "markdown",
   "id": "00593006-fc74-4103-869d-78b965f43b96",
   "metadata": {},
   "source": [
    "## Biased sparse cluster"
   ]
  },
  {
   "cell_type": "code",
   "execution_count": 25,
   "id": "a8107c17-e005-4ea5-9b0b-94b8de5cb303",
   "metadata": {
    "tags": []
   },
   "outputs": [
    {
     "name": "stdout",
     "output_type": "stream",
     "text": [
      "====== RUN 1/1 ======\n",
      "maximumWildCardCount=2, dataset=biased_sparse_cluster_3_5\n",
      "{'id': 'biased_sparse_cluster_3_5_F769D', 'outputDirectory': '/home/slarty/Documents/master-thesis/src/impl/target/universal/stage/out/152_biased_sparse_cluster_3_5_F769D'}\n",
      "686.71 sec\n",
      "\n",
      "Computation done\n"
     ]
    }
   ],
   "source": [
    "outDirBase = createOutDir('biased_sparse_cluster')\n",
    "payload = copy.deepcopy(PAYLOAD) \n",
    "maxRange = 1\n",
    "\n",
    "for i in range(maxRange):\n",
    "    printRun(i+1, maxRange)\n",
    "    outDir = createDirectory(f'{outDirBase}/{i+1}')\n",
    "    for dataset, size in [('biased_sparse_cluster_3_5', 15)]:\n",
    "        print(f'maximumWildCardCount={maximumWildCardCount}, dataset={dataset}')\n",
    "        payload['datasetName'] = dataset\n",
    "        payload['gaParameters']['maxNumberOfIter'] = 300\n",
    "        payload['gaParameters']['populationSize'] = size * 50\n",
    "        payload['gaParameters']['maximumWildCardCount'] = 1\n",
    "        payload['objectiveParameters']['params']['overlappingPenalizationConstant'] = calculateDiagonalLength(dataset) * 8\n",
    "        sendPayloadBlocking(payload, outDir)\n",
    "\n",
    "print('\\nComputation done')"
   ]
  },
  {
   "cell_type": "markdown",
   "id": "8e114761-1139-4cf8-abcf-d439a7411d97",
   "metadata": {},
   "source": [
    "## Maximum wild card count vs computation time"
   ]
  },
  {
   "cell_type": "code",
   "execution_count": 13,
   "id": "b95fe0d9-68ab-4cd4-8cae-c88ff0dcdc9d",
   "metadata": {
    "tags": []
   },
   "outputs": [
    {
     "name": "stdout",
     "output_type": "stream",
     "text": [
      "====== RUN 1/5 ======\n",
      "0\n",
      "{'id': 'packing_10_9D560', 'outputDirectory': '/home/slarty/Documents/master-thesis/src/impl/target/universal/stage/out/139_packing_10_9D560'}\n",
      "180.18 sec\n",
      "1\n",
      "{'id': 'packing_10_4B0EB', 'outputDirectory': '/home/slarty/Documents/master-thesis/src/impl/target/universal/stage/out/140_packing_10_4B0EB'}\n",
      "309.31 sec\n",
      "2\n",
      "{'id': 'packing_10_94F18', 'outputDirectory': '/home/slarty/Documents/master-thesis/src/impl/target/universal/stage/out/141_packing_10_94F18'}\n"
     ]
    },
    {
     "ename": "KeyboardInterrupt",
     "evalue": "",
     "output_type": "error",
     "traceback": [
      "\u001B[0;31m---------------------------------------------------------------------------\u001B[0m",
      "\u001B[0;31mKeyboardInterrupt\u001B[0m                         Traceback (most recent call last)",
      "Cell \u001B[0;32mIn[13], line 17\u001B[0m\n\u001B[1;32m     15\u001B[0m             \u001B[38;5;28mprint\u001B[39m(maximumWildCardCount)\n\u001B[1;32m     16\u001B[0m             payload[\u001B[38;5;124m'\u001B[39m\u001B[38;5;124mgaParameters\u001B[39m\u001B[38;5;124m'\u001B[39m][\u001B[38;5;124m'\u001B[39m\u001B[38;5;124mmaximumWildCardCount\u001B[39m\u001B[38;5;124m'\u001B[39m] \u001B[38;5;241m=\u001B[39m maximumWildCardCount\n\u001B[0;32m---> 17\u001B[0m             \u001B[43msendPayloadBlocking\u001B[49m\u001B[43m(\u001B[49m\u001B[43mpayload\u001B[49m\u001B[43m,\u001B[49m\u001B[43m \u001B[49m\u001B[43moutDir\u001B[49m\u001B[43m)\u001B[49m\n\u001B[1;32m     19\u001B[0m \u001B[38;5;28mprint\u001B[39m(\u001B[38;5;124m'\u001B[39m\u001B[38;5;130;01m\\n\u001B[39;00m\u001B[38;5;124mComputation done\u001B[39m\u001B[38;5;124m'\u001B[39m)\n",
      "Cell \u001B[0;32mIn[7], line 53\u001B[0m, in \u001B[0;36msendPayloadBlocking\u001B[0;34m(payload, outDir)\u001B[0m\n\u001B[1;32m     51\u001B[0m \u001B[38;5;28mprint\u001B[39m(r\u001B[38;5;241m.\u001B[39mjson())\n\u001B[1;32m     52\u001B[0m src \u001B[38;5;241m=\u001B[39m r\u001B[38;5;241m.\u001B[39mjson()[\u001B[38;5;124m'\u001B[39m\u001B[38;5;124moutputDirectory\u001B[39m\u001B[38;5;124m'\u001B[39m] \n\u001B[0;32m---> 53\u001B[0m \u001B[43mcheckforFileBlocking\u001B[49m\u001B[43m(\u001B[49m\u001B[43msrc\u001B[49m\u001B[43m)\u001B[49m\n\u001B[1;32m     54\u001B[0m shutil\u001B[38;5;241m.\u001B[39mcopytree(src, outDir \u001B[38;5;241m+\u001B[39m \u001B[38;5;124m'\u001B[39m\u001B[38;5;124m/\u001B[39m\u001B[38;5;124m'\u001B[39m \u001B[38;5;241m+\u001B[39m src\u001B[38;5;241m.\u001B[39msplit(\u001B[38;5;124m'\u001B[39m\u001B[38;5;124m/\u001B[39m\u001B[38;5;124m'\u001B[39m)[\u001B[38;5;241m-\u001B[39m\u001B[38;5;241m1\u001B[39m])\n",
      "Cell \u001B[0;32mIn[7], line 35\u001B[0m, in \u001B[0;36mcheckforFileBlocking\u001B[0;34m(outDir)\u001B[0m\n\u001B[1;32m     33\u001B[0m     \u001B[38;5;28;01mbreak\u001B[39;00m\n\u001B[1;32m     34\u001B[0m \u001B[38;5;28;01melse\u001B[39;00m:\n\u001B[0;32m---> 35\u001B[0m     \u001B[43mtime\u001B[49m\u001B[38;5;241;43m.\u001B[39;49m\u001B[43msleep\u001B[49m\u001B[43m(\u001B[49m\u001B[38;5;241;43m1\u001B[39;49m\u001B[43m)\u001B[49m\n",
      "\u001B[0;31mKeyboardInterrupt\u001B[0m: "
     ]
    }
   ],
   "source": [
    "outDirBase = createOutDir('wild_card_comp_time')\n",
    "payload = copy.deepcopy(PAYLOAD) \n",
    "maxRange = 5\n",
    "\n",
    "for i in range(maxRange):\n",
    "    printRun(i+1, maxRange)\n",
    "    outDir = createDirectory(f'{outDirBase}/{i+1}')\n",
    "    for dataset, size in [('packing_10',10)]:\n",
    "        setOverlappingConstant(payload, dataset)\n",
    "        payload['datasetName'] = dataset\n",
    "        payload['gaParameters']['populationSize'] = size * 100\n",
    "        payload['gaParameters']['maxNumberOfIter'] = 300\n",
    "        \n",
    "        for maximumWildCardCount in range(0,size+1):\n",
    "            print(maximumWildCardCount)\n",
    "            payload['gaParameters']['maximumWildCardCount'] = maximumWildCardCount\n",
    "            sendPayloadBlocking(payload, outDir)\n",
    "\n",
    "print('\\nComputation done')"
   ]
  },
  {
   "cell_type": "markdown",
   "id": "cc408215-887a-4fd2-a298-4a3b2d7f6ce2",
   "metadata": {
    "tags": []
   },
   "source": [
    "## Bruteforce"
   ]
  },
  {
   "cell_type": "code",
   "execution_count": 12,
   "id": "0a2e4618-afb8-405b-87e4-4c07e67bb8e5",
   "metadata": {
    "tags": []
   },
   "outputs": [
    {
     "name": "stdout",
     "output_type": "stream",
     "text": [
      "random_10\n",
      "775.77 sec\n",
      "random_20\n",
      "3908.93 sec\n",
      "cluster_3_10\n",
      "9184.24 sec\n",
      "\n",
      "Computation done\n"
     ]
    }
   ],
   "source": [
    "outDirBase = createOutDir('brute')\n",
    "payload = copy.deepcopy(PAYLOAD)\n",
    "\n",
    "data = [('random_10',10), ('random_20',20), ('cluster_3_10',30)]\n",
    "data = [('cluster_3_6', 18)]\n",
    "\n",
    "for dataset, size in data:\n",
    "    print(f'{dataset}')\n",
    "    setOverlappingConstant(payload, dataset)\n",
    "    payload['datasetName'] = dataset\n",
    "    payload['gaParameters']['populationSize'] = 100 * size\n",
    "    payload['gaParameters']['maxNumberOfIter'] = 1000\n",
    "    payload['gaParameters']['geneticAlgorithm'] = 'probBrute'\n",
    "    sendPayloadBlocking(payload, outDirBase)\n",
    "\n",
    "print('\\nComputation done')"
   ]
  },
  {
   "cell_type": "markdown",
   "id": "a357c04f-9e20-4be7-90cb-fc4ef7f49ae6",
   "metadata": {
    "tags": []
   },
   "source": [
    "## London National Gallery"
   ]
  },
  {
   "cell_type": "code",
   "execution_count": 32,
   "id": "b97a6977-4cae-408e-871e-e9a1f2d0bb31",
   "metadata": {
    "tags": []
   },
   "outputs": [
    {
     "name": "stdout",
     "output_type": "stream",
     "text": [
      "====== RUN 1/1 ======\n",
      "{'id': 'london_gallery_wall_4C686', 'outputDirectory': '/home/slarty/Documents/master-thesis/src/impl/target/universal/stage/out/157_london_gallery_wall_4C686'}\n",
      "6.01 sec\n",
      "\n",
      "Computation done\n"
     ]
    }
   ],
   "source": [
    "outDirBase = createOutDir('london_nationa_gallery')\n",
    "payload = copy.deepcopy(PAYLOAD) \n",
    "maxRange = 1\n",
    "\n",
    "for i in range(maxRange):\n",
    "    printRun(i+1, maxRange)\n",
    "    outDir = createDirectory(f'{outDirBase}/{i+1}')\n",
    "    for dataset, size in [('london_gallery_wall',7)]:\n",
    "        setOverlappingConstant(payload, dataset)\n",
    "        payload['datasetName'] = dataset\n",
    "        payload['gaParameters']['populationSize'] = size * 100\n",
    "        payload['gaParameters']['maxNumberOfIter'] = 10\n",
    "        payload['gaParameters']['maximumWildCardCount'] = 1\n",
    "        payload['objectiveParameters']['params']['overlappingPenalizationConstant'] = calculateDiagonalLength(dataset) * 5\n",
    "        sendPayloadBlocking(payload, outDir)\n",
    "\n",
    "print('\\nComputation done')"
   ]
  }
 ],
 "metadata": {
  "kernelspec": {
   "display_name": "Python 3 (ipykernel)",
   "language": "python",
   "name": "python3"
  },
  "language_info": {
   "codemirror_mode": {
    "name": "ipython",
    "version": 3
   },
   "file_extension": ".py",
   "mimetype": "text/x-python",
   "name": "python",
   "nbconvert_exporter": "python",
   "pygments_lexer": "ipython3",
   "version": "3.10.10"
  }
 },
 "nbformat": 4,
 "nbformat_minor": 5
}
