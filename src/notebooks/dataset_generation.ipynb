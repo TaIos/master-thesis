{
 "cells": [
  {
   "cell_type": "markdown",
   "id": "8dd5eec7-c0c7-426c-a693-2f84e0cc0580",
   "metadata": {},
   "source": [
    "# Output path"
   ]
  },
  {
   "cell_type": "code",
   "execution_count": 1,
   "id": "d70e60dc-5544-4c88-b9df-87dfeb54f497",
   "metadata": {},
   "outputs": [],
   "source": [
    "from pathlib import Path\n",
    "import os\n",
    "OUT_PATH = Path('../impl/public/datasets')"
   ]
  },
  {
   "cell_type": "markdown",
   "id": "e767f04a-6824-4c10-a130-af70617b430c",
   "metadata": {},
   "source": [
    "# Helpers"
   ]
  },
  {
   "cell_type": "code",
   "execution_count": 33,
   "id": "a542d8c3-bdbe-4132-a4da-6703050c2e84",
   "metadata": {},
   "outputs": [],
   "source": [
    "import random as rnd\n",
    "import json\n",
    "import math\n",
    "import os\n",
    "\n",
    "def delete_files(path):\n",
    "    for root, directories, files in os.walk(path):\n",
    "        for file in files:\n",
    "            os.remove(os.path.join(root, file))\n",
    "\n",
    "def generate_random_paintings(size, maxWidth, maxHeight, maxRatio):\n",
    "    res = []\n",
    "    for i in range(size):\n",
    "        while True:\n",
    "            w,h = rnd.randint(1, maxWidth), rnd.randint(1, maxHeight)\n",
    "            if max(w,h) / min(w,h) <= maxRatio:\n",
    "                break\n",
    "        res.append({'ident': str(i+1), 'width': w, 'height': h})\n",
    "    return res\n",
    "\n",
    "def generate_random_flow(src, dst, flowMin, flowMax):\n",
    "    return {'from': src, 'to': dst, 'flow': float(f'{rnd.uniform(flowMin, flowMax):.3f}')}\n",
    "\n",
    "def generate_random_flows(paintings, flowMin, flowMax):\n",
    "    res = []\n",
    "    for i in range(len(paintings)):\n",
    "        for j in range(i+1, len(paintings)):\n",
    "            res.append(generate_random_flow(src=paintings[i]['ident'], dst=paintings[j]['ident'], flowMin=flowMin, flowMax=flowMax))\n",
    "    return res\n",
    "\n",
    "\n",
    "def generate_layout_dimensions(paintings, layoutAreaRatio, ratio=1.2):\n",
    "    area_sum = sum([p['width']*p['height'] for p in paintings])\n",
    "    val = math.sqrt((layoutAreaRatio * area_sum) / ratio)\n",
    "    return math.ceil(ratio * val), math.floor(val)\n",
    "    \n",
    "\n",
    "def generate_random_dataset(size, evalFunction, layoutAreaRatio, maxPaintingWidth, maxPaintingHeight, maxPaintingRatio, flowMin, flowMax):\n",
    "    paintings = generate_random_paintings(size=size, maxWidth=maxPaintingWidth, maxHeight=maxPaintingHeight, maxRatio=maxPaintingRatio)\n",
    "    flows = generate_random_flows(paintings, flowMin=flowMin, flowMax=flowMax)\n",
    "    width, height = generate_layout_dimensions(paintings, layoutAreaRatio)\n",
    "    return {\n",
    "       'name': f'random_{size}',\n",
    "       'source':'https://projects.fit.cvut.cz/theses/4473',\n",
    "       'data':{\n",
    "          'layout':{\n",
    "             'width': width,\n",
    "             'height': height,\n",
    "             'evalFunc': evalFunction\n",
    "          },\n",
    "          'paintings': paintings,\n",
    "          'paintingsFlow': flows\n",
    "       }\n",
    "    }\n",
    "    \n",
    "def print_random_dataset(size, evalFunction, layoutAreaRatio, maxPaintingWidth, maxPaintingHeight, maxPaintingRatio, flowMin, flowMax):\n",
    "    r = generate_random_dataset(size, evalFunction, layoutAreaRatio, maxPaintingWidth, maxPaintingHeight, maxPaintingRatio, flowMin, flowMax)\n",
    "    print(json.dumps(r, indent=4))"
   ]
  },
  {
   "cell_type": "markdown",
   "id": "ef1ac75a-20f2-43cd-b32c-72d81664007c",
   "metadata": {},
   "source": [
    "# 1. Random"
   ]
  },
  {
   "cell_type": "code",
   "execution_count": null,
   "id": "349175f4-98a0-43f4-b4ef-3796b81e7253",
   "metadata": {},
   "outputs": [],
   "source": [
    "RANDOM_OUT_PATH = OUT_PATH / 'random' \n",
    "delete_files(RANDOM_OUT_PATH)\n",
    "\n",
    "for size in range(10, 121, 1):\n",
    "    data = generate_random_dataset(\n",
    "        size=size,\n",
    "        evalFunction='f(x,y) = 0',\n",
    "        layoutAreaRatio=1.2,\n",
    "        maxPaintingWidth=10, maxPaintingHeight=10, maxPaintingRatio=3,\n",
    "        flowMin=0,flowMax=4\n",
    "    )\n",
    "    with open(RANDOM_OUT_PATH / f'{data[\"name\"]}.json', 'w') as f:\n",
    "        # print(f'Writing to {f.name}')\n",
    "        json.dump(data, f, indent=4)"
   ]
  },
  {
   "cell_type": "markdown",
   "id": "de7746c6-7c30-484f-9871-46b6e8d62da6",
   "metadata": {},
   "source": [
    "# 2. Cluster"
   ]
  },
  {
   "cell_type": "code",
   "execution_count": 30,
   "id": "ca7fea95-c0d7-4679-b6c6-aa7b656c3460",
   "metadata": {
    "tags": []
   },
   "outputs": [],
   "source": [
    "def generate_random_cluster_dataset(clusterCount, clusterSize, evalFunction, layoutAreaRatio, maxPaintingWidth, maxPaintingHeight, maxPaintingRatio, flow):\n",
    "    cluster =  generate_random_dataset(clusterCount*clusterSize, evalFunction, layoutAreaRatio, maxPaintingWidth, maxPaintingHeight, maxPaintingRatio, flow, flow)\n",
    "    cluster['name'] = f'cluster_{clusterCount}_{clusterSize}'\n",
    "    cluster['data']['paintingsFlow'] = [item for sublist in [generate_random_flows(paintings=cluster['data']['paintings'][i*clusterSize:(i+1)*clusterSize], flowMin=flow, flowMax=flow) for i in range(clusterCount)] for item in sublist]\n",
    "    return cluster\n",
    "    \n",
    "\n",
    "CLUSTER_OUT_PATH = OUT_PATH / 'cluster' \n",
    "delete_files(CLUSTER_OUT_PATH)\n",
    "\n",
    "for clusterCount, clusterSize in [(3,10), (4, 20)]:\n",
    "    data = generate_random_cluster_dataset(\n",
    "        clusterCount=clusterCount, clusterSize=clusterSize,\n",
    "        evalFunction='f(x,y) = 0',\n",
    "        layoutAreaRatio=1.2,\n",
    "        maxPaintingWidth=10, maxPaintingHeight=10, maxPaintingRatio=3,\n",
    "        flow=10)\n",
    "\n",
    "    with open(CLUSTER_OUT_PATH / f'{data[\"name\"]}.json', 'w') as f:\n",
    "        # print(f'Writing to {f.name}')\n",
    "        json.dump(data, f, indent=4)"
   ]
  },
  {
   "cell_type": "markdown",
   "id": "0b794a0a-2e1f-40f8-82bd-9c995dfae5c0",
   "metadata": {},
   "source": [
    "# 3. Packing"
   ]
  },
  {
   "cell_type": "code",
   "execution_count": 37,
   "id": "52782ed7-df65-4d35-9fab-b09110d55e42",
   "metadata": {
    "tags": []
   },
   "outputs": [],
   "source": [
    "PACKING_OUT_PATH = OUT_PATH / 'packing' \n",
    "delete_files(PACKING_OUT_PATH)\n",
    "\n",
    "for size in range(10, 121, 1):\n",
    "    data = generate_random_dataset(\n",
    "        size=size,\n",
    "        evalFunction='f(x,y) = 0',\n",
    "        layoutAreaRatio=1,\n",
    "        maxPaintingWidth=10, maxPaintingHeight=10, maxPaintingRatio=3,\n",
    "        flowMin=0,flowMax=4\n",
    "    )\n",
    "    data['name'] = f'packing_{size}'\n",
    "    with open(PACKING_OUT_PATH / f'{data[\"name\"]}.json', 'w') as f:\n",
    "        # print(f'Writing to {f.name}')\n",
    "        json.dump(data, f, indent=4)"
   ]
  },
  {
   "cell_type": "markdown",
   "id": "f7cb065f-fe6b-443f-bac6-95f9ee43f5c4",
   "metadata": {},
   "source": [
    "# 4. Biased sparse clustering"
   ]
  },
  {
   "cell_type": "code",
   "execution_count": 51,
   "id": "099d61d6-0d6f-4863-a816-e8f36fe1e867",
   "metadata": {
    "tags": []
   },
   "outputs": [],
   "source": [
    "BIASED_SPARSE_CLUSTER_OUT_PATH = OUT_PATH / 'biased_sparse_cluster'\n",
    "delete_files(BIASED_SPARSE_CLUSTER_OUT_PATH)\n",
    "\n",
    "clusterCount = 3\n",
    "clusterSize  = 10\n",
    "\n",
    "data = generate_random_cluster_dataset(\n",
    "    clusterCount=clusterCount, clusterSize=clusterSize,\n",
    "    evalFunction='TODO',\n",
    "    layoutAreaRatio=2,\n",
    "    maxPaintingWidth=10, maxPaintingHeight=10, maxPaintingRatio=3,\n",
    "    flow=10)\n",
    "\n",
    "\n",
    "w,h = data['data']['layout']['width'], data['data']['layout']['height']\n",
    "val = 100\n",
    "data['data']['layout']['evalFunc'] = f'f(x,y) = iff(x<{w/3:.2f} & y<{h/2:.2f}, {val}; x>={w/3:.2f} & x<={2*(w/3):.2f} & y>={h/2:.2f}, {val}; x>{2*(w/3):.2f} & y<{h/2:.2f}, {val}; 1, 0)'\n",
    "data['name'] = f'biased_sparse_{data[\"name\"]}'\n",
    "\n",
    "\n",
    "with open(BIASED_SPARSE_CLUSTER_OUT_PATH / f'{data[\"name\"]}.json', 'w') as f:\n",
    "    # print(f'Writing to {f.name}')\n",
    "    json.dump(data, f, indent=4)"
   ]
  }
 ],
 "metadata": {
  "kernelspec": {
   "display_name": "Python 3 (ipykernel)",
   "language": "python",
   "name": "python3"
  },
  "language_info": {
   "codemirror_mode": {
    "name": "ipython",
    "version": 3
   },
   "file_extension": ".py",
   "mimetype": "text/x-python",
   "name": "python",
   "nbconvert_exporter": "python",
   "pygments_lexer": "ipython3",
   "version": "3.10.10"
  }
 },
 "nbformat": 4,
 "nbformat_minor": 5
}
