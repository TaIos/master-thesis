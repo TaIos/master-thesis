{
 "cells": [
  {
   "cell_type": "code",
   "execution_count": 1,
   "id": "6f8efda1",
   "metadata": {
    "collapsed": false,
    "jupyter": {
     "outputs_hidden": false
    }
   },
   "outputs": [],
   "source": [
    "import random\n",
    "import numpy as np\n",
    "import matplotlib\n",
    "import math\n",
    "\n",
    "import matplotlib.pyplot as plt\n",
    "\n",
    "from deap import base, creator, tools, algorithms\n",
    "from typing import List\n",
    "\n",
    "plt.rcParams['figure.dpi'] = 150\n",
    "DEBUG = True\n",
    "INIT_DEAP = True"
   ]
  },
  {
   "cell_type": "markdown",
   "id": "5a801c89-c4d1-498b-b9aa-b751f017334d",
   "metadata": {
    "tags": []
   },
   "source": [
    "## Main logic"
   ]
  },
  {
   "cell_type": "code",
   "execution_count": 2,
   "id": "8294c204",
   "metadata": {
    "collapsed": false,
    "jupyter": {
     "outputs_hidden": false
    }
   },
   "outputs": [],
   "source": [
    "class Orientation:\n",
    "    HORIZONTAL = \"H\" \n",
    "    VERTICAL   = \"V\"\n",
    "    \n",
    "    ORIENTATION_LST = [HORIZONTAL, VERTICAL]\n",
    "    \n",
    "    @staticmethod\n",
    "    def get_random():\n",
    "        return random.choice(Orientation.ORIENTATION_LST)\n",
    "    \n",
    "class Rectangle:\n",
    "    \n",
    "    def __init__(self, width=0, height=0, x=0, y=0, ident=1):\n",
    "        self.width = width\n",
    "        self.height = height\n",
    "        self.x = x\n",
    "        self.y = y\n",
    "        self.ident = ident\n",
    "        self.center_x = x + (width  / 2) \n",
    "        self.center_y = y + (height / 2)\n",
    "    \n",
    "    def collides(self, oth):\n",
    "        return  not(       (oth.y >= self.y+self.height)\\\n",
    "                        or (oth.x >= self.x+self.width)\\\n",
    "                        or (oth.y+oth.height <= self.y)\\\n",
    "                        or (oth.x+oth.width <= self.x))\n",
    "    \n",
    "    def split_horizontal(self):\n",
    "        h1 = math.ceil(self.height/2)\n",
    "        h2 = self.height - h1\n",
    "        return [Rectangle(self.width, h2, self.x, self.y+h1), Rectangle(self.width, h1, self.x, self.y)]\n",
    "    \n",
    "    def split_vertical(self):\n",
    "        w1 = math.ceil(self.width/2)\n",
    "        w2 = self.width - w1\n",
    "        return [Rectangle(w1, self.height, self.x, self.y), Rectangle(w2, self.height, self.x+w1, self.y)]\n",
    "        \n",
    "        \n",
    "    def __str__(self):\n",
    "        return f'{self.ident}: ({self.width},{self.height},{self.x},{self.y}) whxy'\n",
    "    \n",
    "class Facility:\n",
    "    def __init__(self, ident):\n",
    "        self.rectangle = None\n",
    "        self.ident = ident\n",
    "    \n",
    "    def __str__(self):\n",
    "        return f'{self.ident}'\n",
    "\n",
    "class Individual:\n",
    "    def __init__(self, facility_sequence: List[Facility], slicing_order: List[int], orientation: List[Orientation]):\n",
    "        Helpers.individual.validator.validate_constructor_args(facility_sequence, slicing_order, orientation)\n",
    "        self.facility_sequence = facility_sequence\n",
    "        self.slicing_order = slicing_order\n",
    "        self.orientation = orientation\n",
    "        self.objective_value = None\n",
    "        Helpers.deap.init_for_deap(self)\n",
    "        \n",
    "    def __str__(self):\n",
    "        return f'objective: {Helpers.individual.get_formatted_objective_value(self)}\\nfacility sequence: {\", \".join([str(x) for x in self.facility_sequence])}\\nslicing order:     {\", \".join(map(str,self.slicing_order))}\\norientation:       {\", \".join(self.orientation)}'\n",
    "    \n",
    "class Placing:\n",
    "    @staticmethod\n",
    "    def set_facility_grid(ind: Individual, grid: Rectangle) -> None:\n",
    "        Placing._set_recursively(ind.facility_sequence, ind.slicing_order, ind.orientation, grid)\n",
    "    \n",
    "    @staticmethod\n",
    "    def _set_recursively(facility_sequence, slicing_order, orientation, grid) -> None:\n",
    "        if len(slicing_order) == 0:\n",
    "            return\n",
    "        \n",
    "        k = slicing_order[0]\n",
    "        lf, rf = facility_sequence[:k], facility_sequence[k:]\n",
    "        lc, rc = grid.split_horizontal() if orientation[0] == Orientation.HORIZONTAL else grid.split_vertical()\n",
    "        \n",
    "        Placing._place_if_single([(lf, lc), (rf, rc)])\n",
    "        Placing._set_recursively(lf, *Placing._filter_up_to(slicing_order, orientation, k), lc)\n",
    "        Placing._set_recursively(rf, *Placing._filter_after(slicing_order, orientation, k), rc)\n",
    "\n",
    "    @staticmethod\n",
    "    def _place_if_single(lst) -> None:\n",
    "        for f,r in lst:\n",
    "            if len(f) == 1:\n",
    "                f[0].rectangle = r\n",
    "            \n",
    "    @staticmethod\n",
    "    def _filter_up_to(slicing_order, orientation, k):\n",
    "        slicing_order_new, orientation_new = [], []\n",
    "        for x,y in zip(slicing_order, orientation):\n",
    "            if x < k:\n",
    "                slicing_order_new.append(x)\n",
    "                orientation_new.append(y)\n",
    "        return slicing_order_new, orientation_new\n",
    "    \n",
    "    @staticmethod\n",
    "    def _filter_after(slicing_order, orientation, k):\n",
    "        slicing_order_new, orientation_new = [], []\n",
    "        for x,y in zip(slicing_order, orientation):\n",
    "            if x > k:\n",
    "                slicing_order_new.append(x-k)\n",
    "                orientation_new.append(y)\n",
    "        return slicing_order_new, orientation_new\n",
    "        \n",
    "class InstanceParameters:\n",
    "    def __init__(self, params: dict):\n",
    "        self.metric       = params['metric']\n",
    "        self.frequency    = params['frequency']\n",
    "        self.grid         = params['grid']\n",
    "        self.facility_cnt = params['facility_cnt']\n",
    "    \n",
    "class Metric:\n",
    "    class euclidean:\n",
    "        @staticmethod\n",
    "        def facility(f1: Facility, f2: Facility) -> float:\n",
    "            return Metric.euclidean.rectangle(Helpers.facility.get_rectangle(f1), Helpers.facility.get_rectangle(f2))\n",
    "\n",
    "        @staticmethod\n",
    "        def rectangle(r1: Rectangle, r2: Rectangle) -> float:\n",
    "            return Metric.euclidean.point(r1.center_x, r1.center_y, r2.center_x, r2.center_y) \n",
    "        \n",
    "        @staticmethod\n",
    "        def point(x1: int, y1: int, x2: int, y2: int) -> float:\n",
    "            return math.sqrt(math.pow(x1-x2, 2) + math.pow(y1-y2, 2))\n",
    "        \n",
    "class Objective:\n",
    "    @staticmethod\n",
    "    def calculate(facility_lst: List[Facility], params: InstanceParameters) -> float:\n",
    "        value = 0\n",
    "        for i, f1 in enumerate(facility_lst):\n",
    "            for f2 in facility_lst[i+1:]:\n",
    "                metric = params.metric(f1, f2)\n",
    "                freq   = params.frequency(f1, f2)\n",
    "                mult = metric*freq\n",
    "                value += params.metric(f1, f2) * params.frequency(f1, f2)\n",
    "        return value\n",
    "\n",
    "class Genetic:\n",
    "    @staticmethod\n",
    "    def evaluate_individual(ind: Individual, params: InstanceParameters) -> List[float]:\n",
    "        Placing.set_facility_grid(ind, params.grid)\n",
    "        objective_value = Objective.calculate(ind.facility_sequence, params)\n",
    "        ind.objective_value = objective_value\n",
    "        return [objective_value]\n",
    "    \n",
    "    @staticmethod\n",
    "    def mate(ind1: Individual, ind2: Individual) -> Individual:\n",
    "        return ind1 # FIXME\n",
    "    \n",
    "    @staticmethod\n",
    "    def mutate(ind: Individual) -> Individual:\n",
    "        return ind # FIXME\n",
    "    \n",
    "    @staticmethod\n",
    "    def select(ind_list: List[Individual]) -> List[Individual]:\n",
    "        return ind_list #FIXME\n",
    "\n",
    "class Generator:\n",
    "    class individual:\n",
    "        @staticmethod\n",
    "        def random_auto_ident(n: int) -> Individual:\n",
    "            return Generator.individual.random(range(1,n+1))\n",
    "            \n",
    "        @staticmethod\n",
    "        def random(facility_ident: List) -> Individual:\n",
    "            Helpers.generator.validator.validate_facility_ident(facility_ident)\n",
    "            n = len(facility_ident)\n",
    "            \n",
    "            facility_sequence = [Facility(ident=x) for x in facility_ident]\n",
    "            slicing_order = list(range(1,n))\n",
    "            orientation = [Orientation.get_random() for _ in range(n-1)]\n",
    "            \n",
    "            Helpers.random.shuffle_lists([facility_sequence, slicing_order])\n",
    "            \n",
    "            return Individual(facility_sequence, slicing_order, orientation)"
   ]
  },
  {
   "cell_type": "markdown",
   "id": "c101a0c8-6066-465e-803b-f8a31c142564",
   "metadata": {},
   "source": [
    "### Helpers"
   ]
  },
  {
   "cell_type": "code",
   "execution_count": 3,
   "id": "970778a9-0445-4906-a69e-cfcf2cc75f1c",
   "metadata": {},
   "outputs": [],
   "source": [
    "class Helpers:\n",
    "\n",
    "    class facility:\n",
    "        @staticmethod\n",
    "        def get_rectangle(f: Facility) -> Rectangle:\n",
    "            r = f.rectangle\n",
    "            r.ident = f.ident\n",
    "            return r\n",
    "        \n",
    "    class individual:\n",
    "        @staticmethod\n",
    "        def get_rectangles(ind: Individual) -> List[Rectangle]:\n",
    "            return [Helpers.facility.get_rectangle(f) for f in ind.facility_sequence]\n",
    "        \n",
    "        @staticmethod\n",
    "        def get_formatted_objective_value(ind: Individual) -> str:\n",
    "            if ind.objective_value is None:\n",
    "                return 'unset'\n",
    "            return f'{ind.objective_value:.2f}'\n",
    "        \n",
    "        class validator:\n",
    "            @staticmethod\n",
    "            def validate_constructor_args(facility_sequence: List[int], slicing_order: List[int], orientation: List[Orientation]):\n",
    "                if DEBUG is False:\n",
    "                    return\n",
    "                n = len(facility_sequence)\n",
    "                assert(n > 0)\n",
    "                assert(n-1 == len(orientation))\n",
    "                assert(n-1 == len(slicing_order))\n",
    "                \n",
    "    class generator:\n",
    "        class validator:\n",
    "            @staticmethod\n",
    "            def validate_facility_ident(ident: List):\n",
    "                assert len(ident) == len(set(ident))\n",
    "                \n",
    "    class random:\n",
    "        @staticmethod\n",
    "        def shuffle_lists(lists_to_shuffle: List[List]) -> None:\n",
    "            for lst in lists_to_shuffle:\n",
    "                random.shuffle(lst)\n",
    "                \n",
    "    class deap:\n",
    "        @staticmethod\n",
    "        def init_for_deap(ind: Individual) -> None:\n",
    "            if INIT_DEAP:\n",
    "                class Fitness(base.Fitness):\n",
    "                    def __init__(self):\n",
    "                        self.weights =(-1.0,) # minimizing fitness\n",
    "                ind.fitness = Fitness()"
   ]
  },
  {
   "cell_type": "code",
   "execution_count": 4,
   "id": "c34d5e15-188c-4d75-a459-af01a258188b",
   "metadata": {},
   "outputs": [],
   "source": [
    "### Genetic algorithm\n",
    "ga_parameters_raw = {\n",
    "    \"mutation_prob\": 0.1,\n",
    "    \"crossover_prob\": 0.5,\n",
    "    \"selection\": \"tournament\",\n",
    "    \n",
    "    \"number_of_iteration\": 100\n",
    "}\n",
    "\n",
    "class GAParameters:\n",
    "    def __init__(self):\n",
    "        pass\n",
    "    \n",
    "class GeneticAlgorithm:\n",
    "    def __init__(self, params: GAParameters):\n",
    "        self.params = params\n",
    "    \n"
   ]
  },
  {
   "cell_type": "markdown",
   "id": "ad5dc14f-f090-4edb-82e5-12ad3131b752",
   "metadata": {
    "tags": []
   },
   "source": [
    "## Drawing"
   ]
  },
  {
   "cell_type": "code",
   "execution_count": 5,
   "id": "050e575a-cba1-4b98-97b9-430fa505a957",
   "metadata": {},
   "outputs": [],
   "source": [
    "def draw_individual(ind: Individual, grid: Rectangle, print_individual=True) -> None:\n",
    "    if print_individual: print(ind)\n",
    "    draw_rectangles(Helpers.individual.get_rectangles(ind), grid)\n",
    "    \n",
    "def draw_rectangles(recs: List[Rectangle], grid: Rectangle, show_ident=True) -> None:\n",
    "    def to_matplotlib_rec(rec):\n",
    "        return matplotlib.patches.Rectangle(\n",
    "            (rec.x, rec.y),\n",
    "            width=rec.width,height=rec.height,\n",
    "            edgecolor='blue',\n",
    "            linewidth=1.3,\n",
    "            fill=False,\n",
    "        )\n",
    "    fig, ax = plt.subplots()\n",
    "    \n",
    "    for rec in recs:\n",
    "        ax.add_patch(to_matplotlib_rec(rec))\n",
    "        if show_ident:\n",
    "            ax.text(rec.x+rec.width/2, rec.y+rec.height/2, rec.ident, fontsize=8)\n",
    "\n",
    "\n",
    "    ax.set_xlim(left=-1, right=grid.width+1)\n",
    "    ax.set_ylim(bottom=-1, top=grid.height)\n",
    "    ax.set_title(f'Slicing layout', fontsize=8)\n",
    "    \n",
    "    # Hide the right and top spines\n",
    "    ax.spines.right.set_visible(False)\n",
    "    ax.spines.top.set_visible(False)    \n",
    "    \n",
    "    plt.show()"
   ]
  },
  {
   "cell_type": "markdown",
   "id": "f9d6ebbc-d2cd-4b9c-86b6-d3f0c6f93ee6",
   "metadata": {
    "tags": []
   },
   "source": [
    "## Testing instance"
   ]
  },
  {
   "cell_type": "code",
   "execution_count": 6,
   "id": "68583848",
   "metadata": {
    "collapsed": false,
    "jupyter": {
     "outputs_hidden": false
    }
   },
   "outputs": [
    {
     "name": "stdout",
     "output_type": "stream",
     "text": [
      "objective: 2590.53\n",
      "facility sequence: 1, 5, 6, 3, 2, 7, 4\n",
      "slicing order:     4, 1, 5, 3, 6, 2\n",
      "orientation:       V, H, H, V, H, H\n"
     ]
    },
    {
     "data": {
      "image/png": "[encoded data removed]",
      "text/plain": [
       "<Figure size 432x288 with 1 Axes>"
      ]
     },
     "metadata": {
      "needs_background": "light"
     },
     "output_type": "display_data"
    },
    {
     "name": "stdout",
     "output_type": "stream",
     "text": [
      "objective: 474.15\n",
      "facility sequence: 4, 1, 3, 2\n",
      "slicing order:     2, 3, 1\n",
      "orientation:       H, V, H\n"
     ]
    },
    {
     "data": {
      "image/png": "[encoded data removed]",
      "text/plain": [
       "<Figure size 432x288 with 1 Axes>"
      ]
     },
     "metadata": {
      "needs_background": "light"
     },
     "output_type": "display_data"
    }
   ],
   "source": [
    "raw_parameters = {\n",
    "    'metric': Metric.euclidean.facility,\n",
    "    'frequency': lambda f1, f2: f1.ident+f2.ident,\n",
    "    'grid': Rectangle(width=30, height=30),\n",
    "    'facility_cnt': 7\n",
    "}\n",
    "params = InstanceParameters(raw_parameters)\n",
    "\n",
    "# example from paper\n",
    "facility_sequence = [Facility(x) for x in [1, 5, 6, 3, 2, 7, 4]]\n",
    "slicing_order = [4, 1, 5, 3, 6, 2]\n",
    "orientation = ['V', 'H', 'H', 'V', 'H', 'H']\n",
    "ind_paper = Individual(facility_sequence, slicing_order, orientation)\n",
    "Genetic.evaluate_individual(ind_paper, params)\n",
    "draw_individual(ind_paper, params.grid)\n",
    "\n",
    "# random\n",
    "ind_random = Generator.individual.random_auto_ident(4)\n",
    "Genetic.evaluate_individual(ind_random, params);\n",
    "draw_individual(ind_random, params.grid)"
   ]
  },
  {
   "cell_type": "markdown",
   "id": "540b357d-fdc6-4554-b093-7b290860de2b",
   "metadata": {
    "tags": []
   },
   "source": [
    "## Deap"
   ]
  },
  {
   "cell_type": "markdown",
   "id": "7eb087cc-aec3-43e0-b789-d2632d74f725",
   "metadata": {
    "jp-MarkdownHeadingCollapsed": true,
    "tags": []
   },
   "source": [
    "### ???"
   ]
  },
  {
   "cell_type": "code",
   "execution_count": 7,
   "id": "00fe808e-564c-41cd-9a8e-25228f8615f7",
   "metadata": {},
   "outputs": [],
   "source": [
    "def run_ga(toolbox, initial_population_size=10, ngen=10, mutpb=0.0):\n",
    "    pop = toolbox.population(n=initial_population_size)\n",
    "    hof = tools.HallOfFame(1)\n",
    "    \n",
    "    stats = tools.Statistics(lambda ind: ind.fitness.values)\n",
    "    stats.register(\"avg\", np.mean)\n",
    "    stats.register(\"min\", np.min)\n",
    "    stats.register(\"max\", np.max)\n",
    "\n",
    "    pop, logbook = algorithms.eaSimple(pop, toolbox, cxpb=0.5, mutpb=mutpb, ngen=ngen, stats=stats, halloffame=hof, verbose=True)\n",
    "    \n",
    "    return pop, logbook, hof\n",
    "\n",
    "def display_run_info(pop, logbook, hof): \n",
    "    print(\"Best individual is: %s\\nwith fitness: %s\" % (hof[0], hof[0].fitness))\n",
    "\n",
    "    gen, avg, min_, max_ = logbook.select(\"gen\", \"avg\", \"min\", \"max\")\n",
    "    plt.plot(gen, avg, label=\"average\")\n",
    "    plt.plot(gen, min_, label=\"minimum\")\n",
    "    plt.plot(gen, max_, label=\"maximum\")\n",
    "    plt.xlabel(\"Generation\")\n",
    "    plt.ylabel(\"Fitness\")\n",
    "    plt.legend(loc=\"lower right\")\n",
    "    plt.show()"
   ]
  },
  {
   "cell_type": "markdown",
   "id": "d38ffa10-b5bd-48b2-a47f-0ee52623d69e",
   "metadata": {
    "tags": []
   },
   "source": [
    "### Parameters"
   ]
  },
  {
   "cell_type": "code",
   "execution_count": 8,
   "id": "5bd71bf7-2190-44aa-a1d0-d246c27bbfb9",
   "metadata": {},
   "outputs": [
    {
     "ename": "NameError",
     "evalue": "name 'toolbox' is not defined",
     "output_type": "error",
     "traceback": [
      "\u001b[0;31m---------------------------------------------------------------------------\u001b[0m",
      "\u001b[0;31mNameError\u001b[0m                                 Traceback (most recent call last)",
      "Input \u001b[0;32mIn [8]\u001b[0m, in \u001b[0;36m<cell line: 7>\u001b[0;34m()\u001b[0m\n\u001b[1;32m      1\u001b[0m \u001b[38;5;66;03m# ind = creator.Individual(4)\u001b[39;00m\n\u001b[1;32m      2\u001b[0m \n\u001b[1;32m      3\u001b[0m \u001b[38;5;66;03m# print(ind)\u001b[39;00m\n\u001b[1;32m      4\u001b[0m \u001b[38;5;66;03m# print(type(ind))\u001b[39;00m\n\u001b[1;32m      5\u001b[0m \u001b[38;5;66;03m# print(type(ind.fitness))\u001b[39;00m\n\u001b[0;32m----> 7\u001b[0m ind \u001b[38;5;241m=\u001b[39m toolbox\u001b[38;5;241m.\u001b[39mindividual()\n\u001b[1;32m      8\u001b[0m \u001b[38;5;28mprint\u001b[39m(ind)\n\u001b[1;32m      9\u001b[0m toolbox\u001b[38;5;241m.\u001b[39mevaluate(ind)\n",
      "\u001b[0;31mNameError\u001b[0m: name 'toolbox' is not defined"
     ]
    }
   ],
   "source": [
    "# ind = creator.Individual(4)\n",
    "\n",
    "# print(ind)\n",
    "# print(type(ind))\n",
    "# print(type(ind.fitness))\n",
    "\n",
    "ind = toolbox.individual()\n",
    "print(ind)\n",
    "toolbox.evaluate(ind)\n",
    "print(ind)"
   ]
  },
  {
   "cell_type": "code",
   "execution_count": null,
   "id": "5cf3ea90-e66d-4493-8391-fa4ea8134526",
   "metadata": {
    "tags": []
   },
   "outputs": [],
   "source": [
    "raw_parameters = {\n",
    "    'metric': Metric.euclidean.facility,\n",
    "    'frequency': lambda f1, f2: f1.ident+f2.ident,\n",
    "    'grid': Rectangle(width=30, height=30),\n",
    "    'facility_cnt': 7\n",
    "}\n",
    "params = InstanceParameters(raw_parameters)\n",
    "\n",
    "toolbox = base.Toolbox()\n",
    "toolbox.register(\"individual\", Generator.individual.random_auto_ident, n=params.facility_cnt)\n",
    "toolbox.register(\"population\", tools.initRepeat, list, toolbox.individual)\n",
    "toolbox.register(\"evaluate\", Genetic.evaluate_individual, params=params)\n",
    "\n",
    "# TODO\n",
    "toolbox.register(\"mate\", tools.cxTwoPoint)\n",
    "toolbox.register(\"mutate\", tools.mutFlipBit, indpb=0.10)\n",
    "toolbox.register(\"select\", tools.selTournament, tournsize=3)\n",
    "\n",
    "pop, logbook, hof = run_ga(toolbox)\n",
    "draw_individual(hof[0], params.grid)"
   ]
  },
  {
   "cell_type": "code",
   "execution_count": null,
   "id": "8de3d795-4922-4ea3-b6ab-1e371966d4d9",
   "metadata": {},
   "outputs": [],
   "source": [
    "# Bigger dataset\n",
    "n_rec = 30\n",
    "\n",
    "recs = []\n",
    "np.random.seed(seed=42)\n",
    "for ident in range(n_rec):\n",
    "    width = np.random.randint(low=1, high=20)\n",
    "    height = np.random.randint(low=1, high=20)\n",
    "    recs.append(Rectangle(width=width, height=height, ident=ident))\n",
    "    \n",
    "strip_width = 20\n",
    "\n",
    "\n",
    "\n",
    "# parameters\n",
    "creator.create(\"FitnessMin\", base.Fitness, weights=(-1.0,))\n",
    "creator.create(\"Individual\", list, fitness=creator.FitnessMin)\n",
    "\n",
    "toolbox2 = base.Toolbox()\n",
    "toolbox2.register(\"attr_random\", np.random.rand)\n",
    "toolbox2.register(\"individual\", tools.initRepeat, creator.Individual, toolbox2.attr_random, n=len(recs))\n",
    "toolbox2.register(\"population\", tools.initRepeat, list, toolbox2.individual)\n",
    "toolbox2.register(\"evaluate\", evaluate_individual, recs=recs, strip_width=strip_width)\n",
    "toolbox2.register(\"mate\", tools.cxTwoPoint)\n",
    "toolbox2.register(\"mutate\", tools.mutFlipBit, indpb=0.10)\n",
    "toolbox2.register(\"select\", tools.selTournament, tournsize=5)\n",
    "\n",
    "pop, logbook, hof = run_ga(toolbox2, initial_population_size=10, ngen=50, mutpb=0.2)\n",
    "\n",
    "display_run_info(pop, logbook, hof)\n",
    "draw_rectangles(individual_to_rectangles(hof[0], recs), strip_width, show_ident=False)\n",
    "\n",
    "# heuristic alone\n",
    "place_rectangles(recs, strip_width)\n",
    "draw_rectangles(recs, strip_width, show_ident=False)"
   ]
  }
 ],
 "metadata": {
  "kernelspec": {
   "display_name": "Python 3 (ipykernel)",
   "language": "python",
   "name": "python3"
  },
  "language_info": {
   "codemirror_mode": {
    "name": "ipython",
    "version": 3
   },
   "file_extension": ".py",
   "mimetype": "text/x-python",
   "name": "python",
   "nbconvert_exporter": "python",
   "pygments_lexer": "ipython3",
   "version": "3.10.7"
  }
 },
 "nbformat": 4,
 "nbformat_minor": 5
}
