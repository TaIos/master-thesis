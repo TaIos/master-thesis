{
 "cells": [
  {
   "cell_type": "code",
   "execution_count": 7,
   "id": "9cc6015e-b9ae-4ab9-8c5a-79387c104d9e",
   "metadata": {},
   "outputs": [],
   "source": [
    "import deap"
   ]
  }
 ],
 "metadata": {
  "kernelspec": {
   "display_name": "Python 3 (ipykernel)",
   "language": "python",
   "name": "python3"
  },
  "language_info": {
   "codemirror_mode": {
    "name": "ipython",
    "version": 3
   },
   "file_extension": ".py",
   "mimetype": "text/x-python",
   "name": "python",
   "nbconvert_exporter": "python",
   "pygments_lexer": "ipython3",
   "version": "3.8.12"
  }
 },
 "nbformat": 4,
 "nbformat_minor": 5
}
